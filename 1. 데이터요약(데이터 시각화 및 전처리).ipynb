{
 "cells": [
  {
   "cell_type": "code",
   "execution_count": 1,
   "metadata": {},
   "outputs": [],
   "source": [
    "from sklearn.feature_extraction.text import TfidfVectorizer\n",
    "from sentencepiece import SentencePieceTrainer\n",
    "from sentencepiece import SentencePieceProcessor\n",
    "from wordcloud import WordCloud\n",
    "import seaborn as sns\n",
    "import matplotlib.pyplot as plt\n",
    "import pandas as pd\n",
    "import numpy as np \n",
    "import joblib\n",
    "import matplotlib as mpl\n",
    "import matplotlib.font_manager as fm\n",
    "import matplotlib.pyplot as plt\n",
    "import seaborn as sns\n",
    "plt.style.use('fivethirtyeight')\n",
    "import warnings\n",
    "warnings.filterwarnings('ignore')\n",
    "%matplotlib inline\n",
    "from matplotlib import font_manager, rc\n",
    "font_name = font_manager.FontProperties(fname=\"c:/Windows/Fonts/malgun.ttf\").get_name()\n",
    "rc('font', family=font_name)"
   ]
  },
  {
   "cell_type": "code",
   "execution_count": 114,
   "metadata": {},
   "outputs": [],
   "source": [
    "data = pd.read_csv('data.csv')"
   ]
  },
  {
   "cell_type": "code",
   "execution_count": 115,
   "metadata": {},
   "outputs": [
    {
     "data": {
      "text/html": [
       "<div>\n",
       "<style scoped>\n",
       "    .dataframe tbody tr th:only-of-type {\n",
       "        vertical-align: middle;\n",
       "    }\n",
       "\n",
       "    .dataframe tbody tr th {\n",
       "        vertical-align: top;\n",
       "    }\n",
       "\n",
       "    .dataframe thead th {\n",
       "        text-align: right;\n",
       "    }\n",
       "</style>\n",
       "<table border=\"1\" class=\"dataframe\">\n",
       "  <thead>\n",
       "    <tr style=\"text-align: right;\">\n",
       "      <th></th>\n",
       "      <th>제목</th>\n",
       "      <th>내용</th>\n",
       "      <th>청원수</th>\n",
       "      <th>카테고리</th>\n",
       "      <th>청원시작일</th>\n",
       "      <th>청원마감일</th>\n",
       "      <th>청원인</th>\n",
       "    </tr>\n",
       "  </thead>\n",
       "  <tbody>\n",
       "    <tr>\n",
       "      <th>0</th>\n",
       "      <td>텔레그램 n번방 용의자 신상공개 및 포토라인 세워주세요</td>\n",
       "      <td>오늘 검거되었다고 합니다 타인의 수치심과 어린 학생들을 지옥으로 몰아넣은 가해자를...</td>\n",
       "      <td>2715626</td>\n",
       "      <td>안전/환경</td>\n",
       "      <td>청원시작2020-03-18</td>\n",
       "      <td>청원마감2020-04-17</td>\n",
       "      <td>청원인naver - ***</td>\n",
       "    </tr>\n",
       "    <tr>\n",
       "      <th>1</th>\n",
       "      <td>텔레그램 n번방 가입자 전원의 신상공개를 원합니다</td>\n",
       "      <td>안녕하세요, 텔레그램 n번방에 대한 수사가 진행되고 일부의 용의자가 검거되어 다행...</td>\n",
       "      <td>2026252</td>\n",
       "      <td>안전/환경</td>\n",
       "      <td>청원시작2020-03-20</td>\n",
       "      <td>청원마감2020-04-19</td>\n",
       "      <td>청원인naver - ***</td>\n",
       "    </tr>\n",
       "    <tr>\n",
       "      <th>2</th>\n",
       "      <td>자유 한국당 정당해산 청원</td>\n",
       "      <td>민주당과 정부에 간곡히 청원합니다 자유한국당은 국민의 막대한 세비를 받는 국회의원...</td>\n",
       "      <td>1831900</td>\n",
       "      <td>정치개혁</td>\n",
       "      <td>청원시작2019-04-22</td>\n",
       "      <td>청원마감2019-05-22</td>\n",
       "      <td>청원인kakao - ***</td>\n",
       "    </tr>\n",
       "    <tr>\n",
       "      <th>3</th>\n",
       "      <td>문재인 대통령님을 응원 합니다!</td>\n",
       "      <td>코로나 바이러스19로 인해 대한민국 모든 국민이 힘든 시기에 있습니다. 하지만 국...</td>\n",
       "      <td>1504597</td>\n",
       "      <td>기타</td>\n",
       "      <td>청원시작2020-02-26</td>\n",
       "      <td>청원마감2020-03-27</td>\n",
       "      <td>청원인naver - ***</td>\n",
       "    </tr>\n",
       "    <tr>\n",
       "      <th>4</th>\n",
       "      <td>문재인 대통령 탄핵을 촉구합니다.</td>\n",
       "      <td>국민의 한 사람으로서 문재인 대통령의 탄핵을 촉구합니다. 이번 우한 폐렴(신종 코...</td>\n",
       "      <td>1469023</td>\n",
       "      <td>정치개혁</td>\n",
       "      <td>청원시작2020-02-04</td>\n",
       "      <td>청원마감2020-03-05</td>\n",
       "      <td>청원인naver - ***</td>\n",
       "    </tr>\n",
       "    <tr>\n",
       "      <th>...</th>\n",
       "      <td>...</td>\n",
       "      <td>...</td>\n",
       "      <td>...</td>\n",
       "      <td>...</td>\n",
       "      <td>...</td>\n",
       "      <td>...</td>\n",
       "      <td>...</td>\n",
       "    </tr>\n",
       "    <tr>\n",
       "      <th>32422</th>\n",
       "      <td>국회출석률에따라 월급주세요</td>\n",
       "      <td>동네 입주자대표회의도 출석률에따라 대표회의비를 주고 있는곳이 있습니다 나라에 중요...</td>\n",
       "      <td>85</td>\n",
       "      <td>정치개혁</td>\n",
       "      <td>청원시작2018-04-12</td>\n",
       "      <td>청원마감2018-05-12</td>\n",
       "      <td>청원인naver - ***</td>\n",
       "    </tr>\n",
       "    <tr>\n",
       "      <th>32423</th>\n",
       "      <td>국회의원 전수조사</td>\n",
       "      <td>전현직 국회의원 외국출장, 정치헌금 사용에 대해 전수조사 해주십시오.</td>\n",
       "      <td>85</td>\n",
       "      <td>정치개혁</td>\n",
       "      <td>청원시작2018-04-17</td>\n",
       "      <td>청원마감2018-05-17</td>\n",
       "      <td>청원인naver - ***</td>\n",
       "    </tr>\n",
       "    <tr>\n",
       "      <th>32424</th>\n",
       "      <td>외국 국적자 조현민 해외 추방해야합니가</td>\n",
       "      <td>외국 시민권자가 아버지의 권한에 힘입어서 내국국적의 수많은 사람들이 고통을 당해서...</td>\n",
       "      <td>85</td>\n",
       "      <td>인권/성평등</td>\n",
       "      <td>청원시작2018-04-24</td>\n",
       "      <td>청원마감2018-05-24</td>\n",
       "      <td>청원인naver - ***</td>\n",
       "    </tr>\n",
       "    <tr>\n",
       "      <th>32425</th>\n",
       "      <td>대통령님께 욕한 조원진 강력히 규탄한다(이곳으로 몰아 주십시요)</td>\n",
       "      <td>1.친박 극우자중 조원진 국회의원을 규탄 합니다 현 대통령을 이 미친 xx라고 욕...</td>\n",
       "      <td>85</td>\n",
       "      <td>정치개혁</td>\n",
       "      <td>청원시작2018-05-01</td>\n",
       "      <td>청원마감2018-05-31</td>\n",
       "      <td>청원인naver - ***</td>\n",
       "    </tr>\n",
       "    <tr>\n",
       "      <th>32426</th>\n",
       "      <td>김성태원내대표 폭행사건관련 피의자구속은 부당하거니와 국민의 상식에 맞지않습니다.</td>\n",
       "      <td>우선 전제로 폭력은 어떠한 경우에도 정당화 될수 없을을 먼저 말씀드립니다. 김성태...</td>\n",
       "      <td>85</td>\n",
       "      <td>인권/성평등</td>\n",
       "      <td>청원시작2018-05-08</td>\n",
       "      <td>청원마감2018-06-07</td>\n",
       "      <td>청원인naver - ***</td>\n",
       "    </tr>\n",
       "  </tbody>\n",
       "</table>\n",
       "<p>32427 rows × 7 columns</p>\n",
       "</div>"
      ],
      "text/plain": [
       "                                                 제목  \\\n",
       "0                    텔레그램 n번방 용의자 신상공개 및 포토라인 세워주세요   \n",
       "1                       텔레그램 n번방 가입자 전원의 신상공개를 원합니다   \n",
       "2                                    자유 한국당 정당해산 청원   \n",
       "3                                 문재인 대통령님을 응원 합니다!   \n",
       "4                                문재인 대통령 탄핵을 촉구합니다.   \n",
       "...                                             ...   \n",
       "32422                                국회출석률에따라 월급주세요   \n",
       "32423                                     국회의원 전수조사   \n",
       "32424                         외국 국적자 조현민 해외 추방해야합니가   \n",
       "32425           대통령님께 욕한 조원진 강력히 규탄한다(이곳으로 몰아 주십시요)   \n",
       "32426  김성태원내대표 폭행사건관련 피의자구속은 부당하거니와 국민의 상식에 맞지않습니다.   \n",
       "\n",
       "                                                      내용      청원수    카테고리  \\\n",
       "0       오늘 검거되었다고 합니다 타인의 수치심과 어린 학생들을 지옥으로 몰아넣은 가해자를...  2715626   안전/환경   \n",
       "1       안녕하세요, 텔레그램 n번방에 대한 수사가 진행되고 일부의 용의자가 검거되어 다행...  2026252   안전/환경   \n",
       "2       민주당과 정부에 간곡히 청원합니다 자유한국당은 국민의 막대한 세비를 받는 국회의원...  1831900    정치개혁   \n",
       "3       코로나 바이러스19로 인해 대한민국 모든 국민이 힘든 시기에 있습니다. 하지만 국...  1504597      기타   \n",
       "4       국민의 한 사람으로서 문재인 대통령의 탄핵을 촉구합니다. 이번 우한 폐렴(신종 코...  1469023    정치개혁   \n",
       "...                                                  ...      ...     ...   \n",
       "32422   동네 입주자대표회의도 출석률에따라 대표회의비를 주고 있는곳이 있습니다 나라에 중요...       85    정치개혁   \n",
       "32423            전현직 국회의원 외국출장, 정치헌금 사용에 대해 전수조사 해주십시오.        85    정치개혁   \n",
       "32424   외국 시민권자가 아버지의 권한에 힘입어서 내국국적의 수많은 사람들이 고통을 당해서...       85  인권/성평등   \n",
       "32425   1.친박 극우자중 조원진 국회의원을 규탄 합니다 현 대통령을 이 미친 xx라고 욕...       85    정치개혁   \n",
       "32426   우선 전제로 폭력은 어떠한 경우에도 정당화 될수 없을을 먼저 말씀드립니다. 김성태...       85  인권/성평등   \n",
       "\n",
       "                청원시작일           청원마감일             청원인  \n",
       "0      청원시작2020-03-18  청원마감2020-04-17  청원인naver - ***  \n",
       "1      청원시작2020-03-20  청원마감2020-04-19  청원인naver - ***  \n",
       "2      청원시작2019-04-22  청원마감2019-05-22  청원인kakao - ***  \n",
       "3      청원시작2020-02-26  청원마감2020-03-27  청원인naver - ***  \n",
       "4      청원시작2020-02-04  청원마감2020-03-05  청원인naver - ***  \n",
       "...               ...             ...             ...  \n",
       "32422  청원시작2018-04-12  청원마감2018-05-12  청원인naver - ***  \n",
       "32423  청원시작2018-04-17  청원마감2018-05-17  청원인naver - ***  \n",
       "32424  청원시작2018-04-24  청원마감2018-05-24  청원인naver - ***  \n",
       "32425  청원시작2018-05-01  청원마감2018-05-31  청원인naver - ***  \n",
       "32426  청원시작2018-05-08  청원마감2018-06-07  청원인naver - ***  \n",
       "\n",
       "[32427 rows x 7 columns]"
      ]
     },
     "execution_count": 115,
     "metadata": {},
     "output_type": "execute_result"
    }
   ],
   "source": [
    "data"
   ]
  },
  {
   "cell_type": "code",
   "execution_count": 117,
   "metadata": {},
   "outputs": [
    {
     "data": {
      "text/plain": [
       "정치개혁           3993\n",
       "인권/성평등         3672\n",
       "기타             3494\n",
       "보건복지           3238\n",
       "육아/교육          3143\n",
       "안전/환경          2948\n",
       "교통/건축/국토       2357\n",
       "행정             1767\n",
       "문화/예술/체육/언론    1761\n",
       "외교/통일/국방       1593\n",
       "경제민주화          1257\n",
       "일자리            1178\n",
       "반려동물            696\n",
       "미래              633\n",
       "저출산/고령화대책       265\n",
       "성장동력            247\n",
       "농산어촌            185\n",
       "Name: 카테고리, dtype: int64"
      ]
     },
     "execution_count": 117,
     "metadata": {},
     "output_type": "execute_result"
    }
   ],
   "source": [
    "data['카테고리'].value_counts()"
   ]
  },
  {
   "cell_type": "code",
   "execution_count": 4,
   "metadata": {},
   "outputs": [],
   "source": [
    "data['sentiment'] = data['청원수'].map(lambda x: 1 if x> 1000 else 0)"
   ]
  },
  {
   "cell_type": "code",
   "execution_count": 5,
   "metadata": {},
   "outputs": [
    {
     "data": {
      "image/png": "[encoded data removed]",
      "text/plain": [
       "<Figure size 432x288 with 1 Axes>"
      ]
     },
     "metadata": {
      "needs_background": "light"
     },
     "output_type": "display_data"
    }
   ],
   "source": [
    "sns.kdeplot(data['청원수'])\n",
    "plt.title(\"청원인 분포\")\n",
    "plt.show()"
   ]
  },
  {
   "cell_type": "code",
   "execution_count": 6,
   "metadata": {},
   "outputs": [
    {
     "data": {
      "image/png": "[encoded data removed]",
      "text/plain": [
       "<Figure size 432x288 with 1 Axes>"
      ]
     },
     "metadata": {},
     "output_type": "display_data"
    }
   ],
   "source": [
    "group_names = [ '청원인 1000명 미만','청원인 1000명 이상']\n",
    "\n",
    "\n",
    "group_colors = ['yellowgreen', 'lightskyblue']\n",
    "\n",
    "group_explodes = (0.1, 0) # explode 1st slice\n",
    "\n",
    "\n",
    "plt.pie(data['sentiment'].value_counts(), \n",
    "\n",
    "        explode=group_explodes, \n",
    "\n",
    "        labels=group_names, \n",
    "\n",
    "        colors=group_colors, \n",
    "\n",
    "        autopct='%1.2f%%', # second decimal place\n",
    "\n",
    "        shadow=True, \n",
    "\n",
    "        startangle=90,\n",
    "\n",
    "        textprops={'fontsize': 14}) # text font size\n",
    "\n",
    "plt.axis('equal') #  equal length of X and Y axis\n",
    "\n",
    "plt.title('청원인 수 pie chart', fontsize=20)\n",
    "\n",
    "plt.show()\n",
    "\n"
   ]
  },
  {
   "cell_type": "code",
   "execution_count": 7,
   "metadata": {},
   "outputs": [],
   "source": [
    "# 더 극적인 비교를 위해 data의 양극단을 사용한다!!"
   ]
  },
  {
   "cell_type": "code",
   "execution_count": 8,
   "metadata": {},
   "outputs": [
    {
     "data": {
      "text/html": [
       "<div>\n",
       "<style scoped>\n",
       "    .dataframe tbody tr th:only-of-type {\n",
       "        vertical-align: middle;\n",
       "    }\n",
       "\n",
       "    .dataframe tbody tr th {\n",
       "        vertical-align: top;\n",
       "    }\n",
       "\n",
       "    .dataframe thead th {\n",
       "        text-align: right;\n",
       "    }\n",
       "</style>\n",
       "<table border=\"1\" class=\"dataframe\">\n",
       "  <thead>\n",
       "    <tr style=\"text-align: right;\">\n",
       "      <th></th>\n",
       "      <th>제목</th>\n",
       "      <th>내용</th>\n",
       "      <th>청원수</th>\n",
       "      <th>카테고리</th>\n",
       "      <th>청원시작일</th>\n",
       "      <th>청원마감일</th>\n",
       "      <th>청원인</th>\n",
       "      <th>sentiment</th>\n",
       "    </tr>\n",
       "  </thead>\n",
       "  <tbody>\n",
       "    <tr>\n",
       "      <th>0</th>\n",
       "      <td>텔레그램 n번방 용의자 신상공개 및 포토라인 세워주세요</td>\n",
       "      <td>오늘 검거되었다고 합니다 타인의 수치심과 어린 학생들을 지옥으로 몰아넣은 가해자를...</td>\n",
       "      <td>2715626</td>\n",
       "      <td>안전/환경</td>\n",
       "      <td>청원시작2020-03-18</td>\n",
       "      <td>청원마감2020-04-17</td>\n",
       "      <td>청원인naver - ***</td>\n",
       "      <td>1</td>\n",
       "    </tr>\n",
       "    <tr>\n",
       "      <th>1</th>\n",
       "      <td>텔레그램 n번방 가입자 전원의 신상공개를 원합니다</td>\n",
       "      <td>안녕하세요, 텔레그램 n번방에 대한 수사가 진행되고 일부의 용의자가 검거되어 다행...</td>\n",
       "      <td>2026252</td>\n",
       "      <td>안전/환경</td>\n",
       "      <td>청원시작2020-03-20</td>\n",
       "      <td>청원마감2020-04-19</td>\n",
       "      <td>청원인naver - ***</td>\n",
       "      <td>1</td>\n",
       "    </tr>\n",
       "    <tr>\n",
       "      <th>2</th>\n",
       "      <td>자유 한국당 정당해산 청원</td>\n",
       "      <td>민주당과 정부에 간곡히 청원합니다 자유한국당은 국민의 막대한 세비를 받는 국회의원...</td>\n",
       "      <td>1831900</td>\n",
       "      <td>정치개혁</td>\n",
       "      <td>청원시작2019-04-22</td>\n",
       "      <td>청원마감2019-05-22</td>\n",
       "      <td>청원인kakao - ***</td>\n",
       "      <td>1</td>\n",
       "    </tr>\n",
       "    <tr>\n",
       "      <th>3</th>\n",
       "      <td>문재인 대통령님을 응원 합니다!</td>\n",
       "      <td>코로나 바이러스19로 인해 대한민국 모든 국민이 힘든 시기에 있습니다. 하지만 국...</td>\n",
       "      <td>1504597</td>\n",
       "      <td>기타</td>\n",
       "      <td>청원시작2020-02-26</td>\n",
       "      <td>청원마감2020-03-27</td>\n",
       "      <td>청원인naver - ***</td>\n",
       "      <td>1</td>\n",
       "    </tr>\n",
       "    <tr>\n",
       "      <th>4</th>\n",
       "      <td>문재인 대통령 탄핵을 촉구합니다.</td>\n",
       "      <td>국민의 한 사람으로서 문재인 대통령의 탄핵을 촉구합니다. 이번 우한 폐렴(신종 코...</td>\n",
       "      <td>1469023</td>\n",
       "      <td>정치개혁</td>\n",
       "      <td>청원시작2020-02-04</td>\n",
       "      <td>청원마감2020-03-05</td>\n",
       "      <td>청원인naver - ***</td>\n",
       "      <td>1</td>\n",
       "    </tr>\n",
       "  </tbody>\n",
       "</table>\n",
       "</div>"
      ],
      "text/plain": [
       "                               제목  \\\n",
       "0  텔레그램 n번방 용의자 신상공개 및 포토라인 세워주세요   \n",
       "1     텔레그램 n번방 가입자 전원의 신상공개를 원합니다   \n",
       "2                  자유 한국당 정당해산 청원   \n",
       "3               문재인 대통령님을 응원 합니다!   \n",
       "4              문재인 대통령 탄핵을 촉구합니다.   \n",
       "\n",
       "                                                  내용      청원수   카테고리  \\\n",
       "0   오늘 검거되었다고 합니다 타인의 수치심과 어린 학생들을 지옥으로 몰아넣은 가해자를...  2715626  안전/환경   \n",
       "1   안녕하세요, 텔레그램 n번방에 대한 수사가 진행되고 일부의 용의자가 검거되어 다행...  2026252  안전/환경   \n",
       "2   민주당과 정부에 간곡히 청원합니다 자유한국당은 국민의 막대한 세비를 받는 국회의원...  1831900   정치개혁   \n",
       "3   코로나 바이러스19로 인해 대한민국 모든 국민이 힘든 시기에 있습니다. 하지만 국...  1504597     기타   \n",
       "4   국민의 한 사람으로서 문재인 대통령의 탄핵을 촉구합니다. 이번 우한 폐렴(신종 코...  1469023   정치개혁   \n",
       "\n",
       "            청원시작일           청원마감일             청원인  sentiment  \n",
       "0  청원시작2020-03-18  청원마감2020-04-17  청원인naver - ***          1  \n",
       "1  청원시작2020-03-20  청원마감2020-04-19  청원인naver - ***          1  \n",
       "2  청원시작2019-04-22  청원마감2019-05-22  청원인kakao - ***          1  \n",
       "3  청원시작2020-02-26  청원마감2020-03-27  청원인naver - ***          1  \n",
       "4  청원시작2020-02-04  청원마감2020-03-05  청원인naver - ***          1  "
      ]
     },
     "execution_count": 8,
     "metadata": {},
     "output_type": "execute_result"
    }
   ],
   "source": [
    "data.iloc[:5000,:].head()"
   ]
  },
  {
   "cell_type": "code",
   "execution_count": 9,
   "metadata": {},
   "outputs": [
    {
     "data": {
      "text/html": [
       "<div>\n",
       "<style scoped>\n",
       "    .dataframe tbody tr th:only-of-type {\n",
       "        vertical-align: middle;\n",
       "    }\n",
       "\n",
       "    .dataframe tbody tr th {\n",
       "        vertical-align: top;\n",
       "    }\n",
       "\n",
       "    .dataframe thead th {\n",
       "        text-align: right;\n",
       "    }\n",
       "</style>\n",
       "<table border=\"1\" class=\"dataframe\">\n",
       "  <thead>\n",
       "    <tr style=\"text-align: right;\">\n",
       "      <th></th>\n",
       "      <th>제목</th>\n",
       "      <th>내용</th>\n",
       "      <th>청원수</th>\n",
       "      <th>카테고리</th>\n",
       "      <th>청원시작일</th>\n",
       "      <th>청원마감일</th>\n",
       "      <th>청원인</th>\n",
       "      <th>sentiment</th>\n",
       "    </tr>\n",
       "  </thead>\n",
       "  <tbody>\n",
       "    <tr>\n",
       "      <th>27427</th>\n",
       "      <td>공공기관의 정규직 전환때문에 생계를 위협받고 있습니다.</td>\n",
       "      <td>안녕하십니까? 근로복지공단 콜센터 상담사로 근무 중인 서민입니다. 현재 저희 회사...</td>\n",
       "      <td>116</td>\n",
       "      <td>일자리</td>\n",
       "      <td>청원시작2018-12-13</td>\n",
       "      <td>청원마감2019-01-12</td>\n",
       "      <td>청원인naver - ***</td>\n",
       "      <td>0</td>\n",
       "    </tr>\n",
       "    <tr>\n",
       "      <th>27428</th>\n",
       "      <td>이국종교수의 절규, 닥터헬기의 야간운행을 허용하라</td>\n",
       "      <td>시끄럽다고, 귀찮다고 사람이 죽는데 냅두라는것. 말이나 됩니까.</td>\n",
       "      <td>116</td>\n",
       "      <td>안전/환경</td>\n",
       "      <td>청원시작2018-11-10</td>\n",
       "      <td>청원마감2018-12-10</td>\n",
       "      <td>청원인naver - ***</td>\n",
       "      <td>0</td>\n",
       "    </tr>\n",
       "    <tr>\n",
       "      <th>27429</th>\n",
       "      <td>경피용BCG 예방접종</td>\n",
       "      <td>이제 생후 50일이 다되어가는 아이를 키우는 엄마입니다. 아이가 태어나서 한달안에...</td>\n",
       "      <td>116</td>\n",
       "      <td>보건복지</td>\n",
       "      <td>청원시작2018-11-08</td>\n",
       "      <td>청원마감2018-12-08</td>\n",
       "      <td>청원인naver - ***</td>\n",
       "      <td>0</td>\n",
       "    </tr>\n",
       "    <tr>\n",
       "      <th>27430</th>\n",
       "      <td>최저임금 보장도 안해주는 LG전자 서비스는 최저임금 보장해라!!!</td>\n",
       "      <td>수당제로 운영되고 있는 LG전자 서비스센타.... 고객이 없을 때는 손가락을 빨아...</td>\n",
       "      <td>116</td>\n",
       "      <td>기타</td>\n",
       "      <td>청원시작2018-11-14</td>\n",
       "      <td>청원마감2018-12-14</td>\n",
       "      <td>청원인naver - ***</td>\n",
       "      <td>0</td>\n",
       "    </tr>\n",
       "    <tr>\n",
       "      <th>27431</th>\n",
       "      <td>임신 계획 있으신분들... 내년으로 미루세요!</td>\n",
       "      <td>오늘 출산장려금 250만원 준다고 발표했는데, 내년 10월 이후 출생한 산모에게만...</td>\n",
       "      <td>116</td>\n",
       "      <td>육아/교육</td>\n",
       "      <td>청원시작2018-11-28</td>\n",
       "      <td>청원마감2018-12-28</td>\n",
       "      <td>청원인twitter - ***</td>\n",
       "      <td>0</td>\n",
       "    </tr>\n",
       "  </tbody>\n",
       "</table>\n",
       "</div>"
      ],
      "text/plain": [
       "                                         제목  \\\n",
       "27427        공공기관의 정규직 전환때문에 생계를 위협받고 있습니다.   \n",
       "27428           이국종교수의 절규, 닥터헬기의 야간운행을 허용하라   \n",
       "27429                           경피용BCG 예방접종   \n",
       "27430  최저임금 보장도 안해주는 LG전자 서비스는 최저임금 보장해라!!!   \n",
       "27431             임신 계획 있으신분들... 내년으로 미루세요!   \n",
       "\n",
       "                                                      내용  청원수   카테고리  \\\n",
       "27427   안녕하십니까? 근로복지공단 콜센터 상담사로 근무 중인 서민입니다. 현재 저희 회사...  116    일자리   \n",
       "27428               시끄럽다고, 귀찮다고 사람이 죽는데 냅두라는것. 말이나 됩니까.   116  안전/환경   \n",
       "27429   이제 생후 50일이 다되어가는 아이를 키우는 엄마입니다. 아이가 태어나서 한달안에...  116   보건복지   \n",
       "27430   수당제로 운영되고 있는 LG전자 서비스센타.... 고객이 없을 때는 손가락을 빨아...  116     기타   \n",
       "27431   오늘 출산장려금 250만원 준다고 발표했는데, 내년 10월 이후 출생한 산모에게만...  116  육아/교육   \n",
       "\n",
       "                청원시작일           청원마감일               청원인  sentiment  \n",
       "27427  청원시작2018-12-13  청원마감2019-01-12    청원인naver - ***          0  \n",
       "27428  청원시작2018-11-10  청원마감2018-12-10    청원인naver - ***          0  \n",
       "27429  청원시작2018-11-08  청원마감2018-12-08    청원인naver - ***          0  \n",
       "27430  청원시작2018-11-14  청원마감2018-12-14    청원인naver - ***          0  \n",
       "27431  청원시작2018-11-28  청원마감2018-12-28  청원인twitter - ***          0  "
      ]
     },
     "execution_count": 9,
     "metadata": {},
     "output_type": "execute_result"
    }
   ],
   "source": [
    "data.iloc[-5000:,:].head()"
   ]
  },
  {
   "cell_type": "code",
   "execution_count": 10,
   "metadata": {},
   "outputs": [],
   "source": [
    "new_data = pd.concat([data.iloc[:5000,:],data.iloc[-5000:,:]],axis=0)"
   ]
  },
  {
   "cell_type": "code",
   "execution_count": 116,
   "metadata": {},
   "outputs": [
    {
     "data": {
      "text/plain": [
       "(10000, 9)"
      ]
     },
     "execution_count": 116,
     "metadata": {},
     "output_type": "execute_result"
    }
   ],
   "source": [
    "new_data.shape"
   ]
  },
  {
   "cell_type": "code",
   "execution_count": 12,
   "metadata": {},
   "outputs": [
    {
     "data": {
      "image/png": "[encoded data removed]",
      "text/plain": [
       "<Figure size 432x288 with 1 Axes>"
      ]
     },
     "metadata": {
      "needs_background": "light"
     },
     "output_type": "display_data"
    }
   ],
   "source": [
    "sns.kdeplot(new_data['청원수'])\n",
    "plt.title(\"청원인 분포\")\n",
    "plt.show()"
   ]
  },
  {
   "cell_type": "code",
   "execution_count": 13,
   "metadata": {},
   "outputs": [
    {
     "data": {
      "image/png": "[encoded data removed]",
      "text/plain": [
       "<Figure size 432x288 with 1 Axes>"
      ]
     },
     "metadata": {},
     "output_type": "display_data"
    }
   ],
   "source": [
    "group_names = [ '청원인 116명 이하','청원인 4000명 이상']\n",
    "\n",
    "\n",
    "group_colors = ['yellowgreen', 'lightskyblue']\n",
    "\n",
    "group_explodes = (0.1, 0) # explode 1st slice\n",
    "\n",
    "\n",
    "plt.pie(new_data['sentiment'].value_counts(), \n",
    "\n",
    "        explode=group_explodes, \n",
    "\n",
    "        labels=group_names, \n",
    "\n",
    "        colors=group_colors, \n",
    "\n",
    "        autopct='%1.2f%%', # second decimal place\n",
    "\n",
    "        shadow=True, \n",
    "\n",
    "        startangle=90,\n",
    "\n",
    "        textprops={'fontsize': 14}) # text font size\n",
    "\n",
    "plt.axis('equal') #  equal length of X and Y axis\n",
    "\n",
    "plt.title('청원인 수 pie chart', fontsize=20)\n",
    "\n",
    "plt.show()\n",
    "\n"
   ]
  },
  {
   "cell_type": "markdown",
   "metadata": {},
   "source": [
    "* baseline accuracy를 50%로 정하고, 청원참여인원이 높은 것과 낮은 것의 차이를 더 두드러지게 하기 위해서\n",
    "양극단 값을 사용함"
   ]
  },
  {
   "cell_type": "code",
   "execution_count": 14,
   "metadata": {},
   "outputs": [],
   "source": [
    "new_data['내용'] = new_data['내용'].map(lambda x: '내용없음' if len(x)<5 else x)\n",
    "#공백인 문서에 내용 없음 삽입"
   ]
  },
  {
   "cell_type": "code",
   "execution_count": 15,
   "metadata": {},
   "outputs": [],
   "source": [
    "new_data['내용'] = new_data['내용'].map(lambda x: np.nan if len(x)<5 else x)"
   ]
  },
  {
   "cell_type": "markdown",
   "metadata": {},
   "source": [
    "# 전처리"
   ]
  },
  {
   "cell_type": "code",
   "execution_count": 18,
   "metadata": {},
   "outputs": [],
   "source": [
    "import tensorflow as tf\n",
    "new_data['내용'] = new_data['내용'].astype('str')"
   ]
  },
  {
   "cell_type": "code",
   "execution_count": 19,
   "metadata": {},
   "outputs": [],
   "source": [
    "tk = tf.keras.preprocessing.text.Tokenizer(num_words=2000,oov_token = '<unk>')\n",
    "\n",
    "tk.fit_on_texts(new_data['내용'])"
   ]
  },
  {
   "cell_type": "code",
   "execution_count": 20,
   "metadata": {},
   "outputs": [],
   "source": [
    "seqs = tk.texts_to_sequences(new_data['내용'])"
   ]
  },
  {
   "cell_type": "code",
   "execution_count": 21,
   "metadata": {},
   "outputs": [],
   "source": [
    "data = []\n",
    "for seq in seqs:\n",
    "    for i in range(0, len(seq) - 4):\n",
    "        data.append((seq[i:i+4], seq[i+4]))"
   ]
  },
  {
   "cell_type": "code",
   "execution_count": 22,
   "metadata": {},
   "outputs": [],
   "source": [
    "import random\n",
    "random.shuffle(data)"
   ]
  },
  {
   "cell_type": "code",
   "execution_count": 23,
   "metadata": {},
   "outputs": [],
   "source": [
    "xs = np.array([x for x, y in data])\n",
    "ys = np.array([y for x, y in data])"
   ]
  },
  {
   "cell_type": "code",
   "execution_count": 24,
   "metadata": {},
   "outputs": [],
   "source": [
    "NUM_WORD = tk.num_words + 1 "
   ]
  },
  {
   "cell_type": "code",
   "execution_count": 25,
   "metadata": {},
   "outputs": [],
   "source": [
    "emb1 = tf.keras.layers.Embedding(\n",
    "    input_dim=NUM_WORD,\n",
    "    output_dim=8,\n",
    ")\n",
    "lm = tf.keras.Sequential([\n",
    "    emb1,\n",
    "    tf.keras.layers.GlobalAveragePooling1D(),\n",
    "    tf.keras.layers.Dense(8,activation='relu'),\n",
    "    tf.keras.layers.Dense(1,activation='sigmoid'),\n",
    "])"
   ]
  },
  {
   "cell_type": "code",
   "execution_count": 26,
   "metadata": {},
   "outputs": [],
   "source": [
    "lm.compile(\n",
    "    loss=tf.keras.losses.binary_crossentropy,\n",
    "    optimizer='adam',\n",
    "    metrics=['accuracy']\n",
    ")"
   ]
  },
  {
   "cell_type": "code",
   "execution_count": 27,
   "metadata": {},
   "outputs": [
    {
     "name": "stdout",
     "output_type": "stream",
     "text": [
      "Train on 1713588 samples, validate on 428397 samples\n",
      "1713588/1713588 [==============================] - 6s 4us/sample - loss: -253018.0288 - accuracy: 0.5997 - val_loss: -901805.7354 - val_accuracy: 0.6006\n"
     ]
    },
    {
     "data": {
      "text/plain": [
       "<tensorflow.python.keras.callbacks.History at 0x20c59fef3c8>"
      ]
     },
     "execution_count": 27,
     "metadata": {},
     "output_type": "execute_result"
    }
   ],
   "source": [
    "lm.fit(xs, ys, epochs=1,validation_split= 0.2, batch_size = 512)"
   ]
  },
  {
   "cell_type": "code",
   "execution_count": 28,
   "metadata": {},
   "outputs": [],
   "source": [
    "# 문장이 너무 길어서 학습이 잘 안되는 문제 발생!\n",
    "# gensim 의 요약 패키지를 사용해서 글을 요약함"
   ]
  },
  {
   "cell_type": "code",
   "execution_count": 29,
   "metadata": {},
   "outputs": [],
   "source": [
    "def summarizee(x):\n",
    "    summ_plot = ''\n",
    "    try:\n",
    "        if summarize(x,word_count=100) != '':\n",
    "            summ_plot = summarize(x,word_count=100)\n",
    "        else:\n",
    "            summ_plot = x\n",
    "            \n",
    "    except:\n",
    "        summ_plot = x\n",
    "        \n",
    "    return summ_plot"
   ]
  },
  {
   "cell_type": "code",
   "execution_count": 30,
   "metadata": {},
   "outputs": [],
   "source": [
    "from gensim.summarization.summarizer import summarize"
   ]
  },
  {
   "cell_type": "code",
   "execution_count": 31,
   "metadata": {},
   "outputs": [],
   "source": [
    "new_data['summarize_'] = new_data['내용'].map(lambda x: summarizee(x) )"
   ]
  },
  {
   "cell_type": "code",
   "execution_count": 32,
   "metadata": {},
   "outputs": [
    {
     "data": {
      "text/plain": [
       "' 코로나 바이러스19로 인해 대한민국 모든 국민이 힘든 시기에 있습니다. 하지만 국민건강을 위해 대통령님을 비롯한 대한민국 정부 각 부처의 모든 분들이 밤낮 없이 바이러스 퇴치에 온갖 힘을 쏟고 계십니다. 하지만 신천치 라는 생각치도 못한 사이비 종교의 무분별한 바이러스 확산으로 인해,코로나 19청정지역이었던 대한민국인 단 일주일 사이 급속도록 확진자들이 불어 나고 있으며,국민들 모두 힘들어 하는 상황 까지 오게 되었습니다. 정부의 협조 요청에도 묵묵부담으로 일삼고 있는 사이비 종교 신천지. 이러한 악 조건 속에서도 대통령님은 밤낮없이 오직 국민들의 안전을 위해 노력 하고 계시며, 신천지 바이러스의 근원지가 되어 버린 대구&경북 지역을 위해 무척이나 애쓰시고 계십니다. 수많은 가짜 뉴스가 대통령님 및 질병관리본부 그리고 대한민국 각 부처을 힘들게 하고 있지만 수많은 대한민국 국민들은 “문재인 대통령”님을 믿고 응원하고 있습니다. 이 어려운 시기는 대통령님과 함께 반드시 이겨낼 것이며, 대한민국 국민 대다수는 정부에 대한 신뢰로 함께 극복해나갈 거라 믿어 의심치 않습니다. 문재인 대통령님 언제나 응원 합니다!! 문재인 대통령님이 있는 대한민국은 반드시 이 어려운 상황을 극복 해나갈 것입니다.!! '"
      ]
     },
     "execution_count": 32,
     "metadata": {},
     "output_type": "execute_result"
    }
   ],
   "source": [
    "new_data['내용'][3]"
   ]
  },
  {
   "cell_type": "code",
   "execution_count": 33,
   "metadata": {},
   "outputs": [
    {
     "data": {
      "text/plain": [
       "'코로나 바이러스19로 인해 대한민국 모든 국민이 힘든 시기에 있습니다.\\n하지만 국민건강을 위해 대통령님을 비롯한 대한민국 정부 각 부처의 모든 분들이 밤낮 없이 바이러스 퇴치에 온갖 힘을 쏟고 계십니다.\\n하지만 신천치 라는 생각치도 못한 사이비 종교의 무분별한 바이러스 확산으로 인해,코로나 19청정지역이었던 대한민국인 단 일주일 사이 급속도록 확진자들이 불어 나고 있으며,국민들 모두 힘들어 하는 상황 까지 오게 되었습니다.\\n이 어려운 시기는 대통령님과 함께 반드시 이겨낼 것이며, 대한민국 국민 대다수는 정부에 대한 신뢰로 함께 극복해나갈 거라 믿어 의심치 않습니다.\\n문재인 대통령님 언제나 응원 합니다!!\\n문재인 대통령님이 있는 대한민국은 반드시 이 어려운 상황을 극복 해나갈 것입니다.!!'"
      ]
     },
     "execution_count": 33,
     "metadata": {},
     "output_type": "execute_result"
    }
   ],
   "source": [
    "new_data['summarize_'][3]\n",
    "# 청원의 주요내용이 잘 요약된 것을 확인할 수 있음"
   ]
  },
  {
   "cell_type": "code",
   "execution_count": 34,
   "metadata": {},
   "outputs": [],
   "source": [
    "new_data.to_csv('new_data.csv')"
   ]
  },
  {
   "cell_type": "code",
   "execution_count": 35,
   "metadata": {},
   "outputs": [],
   "source": [
    "tk = tf.keras.preprocessing.text.Tokenizer(num_words=2000,oov_token = '<unk>')\n",
    "\n",
    "tk.fit_on_texts(new_data['summarize_'])"
   ]
  },
  {
   "cell_type": "code",
   "execution_count": 36,
   "metadata": {},
   "outputs": [],
   "source": [
    "seqs = tk.texts_to_sequences(new_data['summarize_'])"
   ]
  },
  {
   "cell_type": "code",
   "execution_count": 37,
   "metadata": {},
   "outputs": [
    {
     "data": {
      "text/plain": [
       "['tokenizer.pkl']"
      ]
     },
     "execution_count": 37,
     "metadata": {},
     "output_type": "execute_result"
    }
   ],
   "source": [
    "# tokenizer 저장\n",
    "joblib.dump(tk, 'tokenizer.pkl')"
   ]
  },
  {
   "cell_type": "code",
   "execution_count": 38,
   "metadata": {},
   "outputs": [],
   "source": [
    "data = []\n",
    "for seq in seqs:\n",
    "    for i in range(0, len(seq) - 4):\n",
    "        data.append((seq[i:i+4], seq[i+4]))"
   ]
  },
  {
   "cell_type": "code",
   "execution_count": 39,
   "metadata": {},
   "outputs": [],
   "source": [
    "import random\n",
    "random.shuffle(data)\n",
    "\n",
    "xs = np.array([x for x, y in data])\n",
    "ys = np.array([y for x, y in data])\n",
    "\n",
    "NUM_WORD = tk.num_words + 1 "
   ]
  },
  {
   "cell_type": "code",
   "execution_count": 40,
   "metadata": {},
   "outputs": [],
   "source": [
    "emb1 = tf.keras.layers.Embedding(\n",
    "    input_dim=NUM_WORD,\n",
    "    output_dim=8,\n",
    ")\n",
    "lm = tf.keras.Sequential([\n",
    "    emb1,\n",
    "    tf.keras.layers.GlobalAveragePooling1D(),\n",
    "    tf.keras.layers.Dense(8,activation='relu'),\n",
    "    tf.keras.layers.Dense(1,activation='sigmoid'),\n",
    "])"
   ]
  },
  {
   "cell_type": "code",
   "execution_count": 41,
   "metadata": {},
   "outputs": [],
   "source": [
    "lm.compile(\n",
    "    loss=tf.keras.losses.binary_crossentropy,\n",
    "    optimizer='adam',\n",
    "    metrics=['accuracy']\n",
    ")"
   ]
  },
  {
   "cell_type": "code",
   "execution_count": 42,
   "metadata": {},
   "outputs": [
    {
     "name": "stdout",
     "output_type": "stream",
     "text": [
      "Train on 632157 samples, validate on 158040 samples\n",
      "632157/632157 [==============================] - 3s 4us/sample - loss: -22423.9159 - accuracy: 0.6009 - val_loss: -84292.2256 - val_accuracy: 0.6000\n"
     ]
    },
    {
     "data": {
      "text/plain": [
       "<tensorflow.python.keras.callbacks.History at 0x20c45395788>"
      ]
     },
     "execution_count": 42,
     "metadata": {},
     "output_type": "execute_result"
    }
   ],
   "source": [
    "lm.fit(xs, ys, epochs=1,validation_split= 0.2,batch_size = 512)\n",
    "# 요약하지 않았을 때보다 loss가 크게 개선 되었음"
   ]
  },
  {
   "cell_type": "code",
   "execution_count": 43,
   "metadata": {},
   "outputs": [],
   "source": [
    "e = emb1.embeddings.numpy()"
   ]
  },
  {
   "cell_type": "code",
   "execution_count": 44,
   "metadata": {},
   "outputs": [],
   "source": [
    "np.savez('word-emb.npz', emb=e)"
   ]
  },
  {
   "cell_type": "markdown",
   "metadata": {},
   "source": [
    "# wordcloud , 가중치 확인"
   ]
  },
  {
   "cell_type": "code",
   "execution_count": 45,
   "metadata": {},
   "outputs": [],
   "source": [
    "stopword = []\n",
    "with open('stopword_dict.txt','r', encoding='utf8') as f:\n",
    "    for line in f.readlines():\n",
    "        stopword.append(line)\n",
    "        \n",
    "stopwords = []\n",
    "for i in stopword:\n",
    "    stopwords.append(i.strip())"
   ]
  },
  {
   "cell_type": "code",
   "execution_count": 46,
   "metadata": {},
   "outputs": [],
   "source": [
    "from konlpy.tag import Hannanum\n",
    "\n",
    "tagger =Hannanum()\n",
    "\n",
    "tv = TfidfVectorizer(max_features=1000, tokenizer=tagger.nouns, stop_words=stopwords)\n",
    "#tv 생성"
   ]
  },
  {
   "cell_type": "code",
   "execution_count": 47,
   "metadata": {},
   "outputs": [],
   "source": [
    "tfidf_max = tv.fit_transform(new_data['summarize_'].iloc[:5000])"
   ]
  },
  {
   "cell_type": "code",
   "execution_count": 48,
   "metadata": {},
   "outputs": [
    {
     "data": {
      "image/png": "[encoded data removed]",
      "text/plain": [
       "<PIL.Image.Image image mode=RGB size=400x300 at 0x20C4AC97D48>"
      ]
     },
     "execution_count": 48,
     "metadata": {},
     "output_type": "execute_result"
    }
   ],
   "source": [
    "word_count = pd.DataFrame({\n",
    "    '단어' : tv.get_feature_names(),\n",
    "    '빈도' : tfidf_max.sum(axis=0).flat\n",
    "})\n",
    "\n",
    "word_count = word_count.sort_values('빈도',ascending=False)\n",
    "\n",
    "count_dic = word_count.set_index('단어')['빈도'].to_dict()\n",
    "\n",
    "wc = WordCloud(font_path = 'C:/Windows/Fonts/NanumGothic.ttf',background_color='white',height=300,width=400)#객체지정 및 폰트 설정\n",
    "\n",
    "cloud = wc.generate_from_frequencies(count_dic)\n",
    "\n",
    "cloud.to_image()"
   ]
  },
  {
   "cell_type": "code",
   "execution_count": 49,
   "metadata": {},
   "outputs": [],
   "source": [
    "tfidf_min = tv.fit_transform(new_data['summarize_'].iloc[-5000:])"
   ]
  },
  {
   "cell_type": "code",
   "execution_count": 50,
   "metadata": {},
   "outputs": [
    {
     "data": {
      "image/png": "[encoded data removed]",
      "text/plain": [
       "<PIL.Image.Image image mode=RGB size=400x300 at 0x20C59655648>"
      ]
     },
     "execution_count": 50,
     "metadata": {},
     "output_type": "execute_result"
    }
   ],
   "source": [
    "word_count = pd.DataFrame({\n",
    "    '단어' : tv.get_feature_names(),\n",
    "    '빈도' : tfidf_min.sum(axis=0).flat\n",
    "})\n",
    "\n",
    "word_count = word_count.sort_values('빈도',ascending=False)\n",
    "\n",
    "count_dic = word_count.set_index('단어')['빈도'].to_dict()\n",
    "\n",
    "wc = WordCloud(font_path = 'C:/Windows/Fonts/NanumGothic.ttf',background_color='white',height=300,width=400)#객체지정 및 폰트 설정\n",
    "\n",
    "cloud = wc.generate_from_frequencies(count_dic)\n",
    "\n",
    "cloud.to_image()"
   ]
  },
  {
   "cell_type": "code",
   "execution_count": 51,
   "metadata": {},
   "outputs": [],
   "source": [
    "tfidf = tv.fit_transform(new_data['summarize_'])"
   ]
  },
  {
   "cell_type": "code",
   "execution_count": 52,
   "metadata": {},
   "outputs": [],
   "source": [
    "from sklearn.model_selection import train_test_split\n",
    "x = tfidf\n",
    "y = new_data['sentiment']"
   ]
  },
  {
   "cell_type": "code",
   "execution_count": 53,
   "metadata": {},
   "outputs": [],
   "source": [
    "X_train, X_test, y_train, y_test = train_test_split(x, y, test_size=0.3, random_state=42)"
   ]
  },
  {
   "cell_type": "code",
   "execution_count": 54,
   "metadata": {},
   "outputs": [
    {
     "data": {
      "text/plain": [
       "(7000, 1000)"
      ]
     },
     "execution_count": 54,
     "metadata": {},
     "output_type": "execute_result"
    }
   ],
   "source": [
    "X_train.shape"
   ]
  },
  {
   "cell_type": "code",
   "execution_count": 55,
   "metadata": {},
   "outputs": [],
   "source": [
    "model =  tf.keras.models.Sequential()\n",
    "model.add(\n",
    "    tf.keras.layers.Dense(\n",
    "        1,\n",
    "        input_shape=(1000,),\n",
    "        activation='sigmoid',\n",
    "        kernel_regularizer = tf.keras.regularizers.l2(0.001) #l2 정규화\n",
    "    ))\n",
    "#모델 만들기"
   ]
  },
  {
   "cell_type": "code",
   "execution_count": 56,
   "metadata": {},
   "outputs": [
    {
     "name": "stdout",
     "output_type": "stream",
     "text": [
      "Model: \"sequential_2\"\n",
      "_________________________________________________________________\n",
      "Layer (type)                 Output Shape              Param #   \n",
      "=================================================================\n",
      "dense_4 (Dense)              (None, 1)                 1001      \n",
      "=================================================================\n",
      "Total params: 1,001\n",
      "Trainable params: 1,001\n",
      "Non-trainable params: 0\n",
      "_________________________________________________________________\n"
     ]
    }
   ],
   "source": [
    "model.summary()"
   ]
  },
  {
   "cell_type": "code",
   "execution_count": 57,
   "metadata": {},
   "outputs": [],
   "source": [
    "model.compile(optimizer = 'adam', loss = 'binary_crossentropy', metrics = ['accuracy'])"
   ]
  },
  {
   "cell_type": "code",
   "execution_count": 58,
   "metadata": {},
   "outputs": [
    {
     "name": "stdout",
     "output_type": "stream",
     "text": [
      "Train on 6300 samples, validate on 700 samples\n",
      "Epoch 1/100\n",
      "6300/6300 [==============================] - 1s 164us/sample - loss: 0.6892 - accuracy: 0.5871 - val_loss: 0.6822 - val_accuracy: 0.6829\n",
      "Epoch 2/100\n",
      "6300/6300 [==============================] - 1s 110us/sample - loss: 0.6777 - accuracy: 0.6798 - val_loss: 0.6726 - val_accuracy: 0.7129\n",
      "Epoch 3/100\n",
      "6300/6300 [==============================] - 0s 43us/sample - loss: 0.6696 - accuracy: 0.7094 - val_loss: 0.6659 - val_accuracy: 0.7271\n",
      "Epoch 4/100\n",
      "6300/6300 [==============================] - 0s 43us/sample - loss: 0.6639 - accuracy: 0.7181 - val_loss: 0.6611 - val_accuracy: 0.7300\n",
      "Epoch 5/100\n",
      "6300/6300 [==============================] - 0s 42us/sample - loss: 0.6598 - accuracy: 0.7203 - val_loss: 0.6574 - val_accuracy: 0.7357\n",
      "Epoch 6/100\n",
      "6300/6300 [==============================] - 0s 45us/sample - loss: 0.6569 - accuracy: 0.7248 - val_loss: 0.6549 - val_accuracy: 0.7429\n",
      "Epoch 7/100\n",
      "6300/6300 [==============================] - 0s 43us/sample - loss: 0.6548 - accuracy: 0.7235 - val_loss: 0.6531 - val_accuracy: 0.7443\n",
      "Epoch 8/100\n",
      "6300/6300 [==============================] - 0s 53us/sample - loss: 0.6533 - accuracy: 0.7256 - val_loss: 0.6517 - val_accuracy: 0.7429\n",
      "Epoch 9/100\n",
      "6300/6300 [==============================] - 0s 44us/sample - loss: 0.6522 - accuracy: 0.7290 - val_loss: 0.6506 - val_accuracy: 0.7471\n",
      "Epoch 10/100\n",
      "6300/6300 [==============================] - 0s 43us/sample - loss: 0.6513 - accuracy: 0.7287 - val_loss: 0.6499 - val_accuracy: 0.7486\n",
      "Epoch 11/100\n",
      "6300/6300 [==============================] - 0s 41us/sample - loss: 0.6507 - accuracy: 0.7310 - val_loss: 0.6494 - val_accuracy: 0.7486\n",
      "Epoch 12/100\n",
      "6300/6300 [==============================] - 0s 40us/sample - loss: 0.6503 - accuracy: 0.7306 - val_loss: 0.6491 - val_accuracy: 0.7500\n",
      "Epoch 13/100\n",
      "6300/6300 [==============================] - 0s 44us/sample - loss: 0.6500 - accuracy: 0.7319 - val_loss: 0.6487 - val_accuracy: 0.7514\n",
      "Epoch 14/100\n",
      "6300/6300 [==============================] - 0s 42us/sample - loss: 0.6497 - accuracy: 0.7316 - val_loss: 0.6485 - val_accuracy: 0.7529\n",
      "Epoch 15/100\n",
      "6300/6300 [==============================] - 0s 44us/sample - loss: 0.6496 - accuracy: 0.7348 - val_loss: 0.6483 - val_accuracy: 0.7529\n",
      "Epoch 16/100\n",
      "6300/6300 [==============================] - 0s 43us/sample - loss: 0.6494 - accuracy: 0.7314 - val_loss: 0.6483 - val_accuracy: 0.7514\n",
      "Epoch 17/100\n",
      "6300/6300 [==============================] - 0s 42us/sample - loss: 0.6493 - accuracy: 0.7316 - val_loss: 0.6481 - val_accuracy: 0.7557\n",
      "Epoch 18/100\n",
      "6300/6300 [==============================] - 0s 42us/sample - loss: 0.6493 - accuracy: 0.7335 - val_loss: 0.6480 - val_accuracy: 0.7543\n",
      "Epoch 19/100\n",
      "6300/6300 [==============================] - 0s 44us/sample - loss: 0.6492 - accuracy: 0.7329 - val_loss: 0.6480 - val_accuracy: 0.7529\n"
     ]
    },
    {
     "data": {
      "text/plain": [
       "<tensorflow.python.keras.callbacks.History at 0x20c4623cb48>"
      ]
     },
     "execution_count": 58,
     "metadata": {},
     "output_type": "execute_result"
    }
   ],
   "source": [
    "model.fit(X_train.toarray(), y_train, epochs=100, validation_split=0.1,\n",
    "         callbacks = [tf.keras.callbacks.EarlyStopping()])"
   ]
  },
  {
   "cell_type": "code",
   "execution_count": 59,
   "metadata": {},
   "outputs": [
    {
     "name": "stdout",
     "output_type": "stream",
     "text": [
      "3000/3000 [==============================] - 0s 26us/sample - loss: 0.6616 - accuracy: 0.7023\n"
     ]
    },
    {
     "data": {
      "text/plain": [
       "[0.6616393806139628, 0.70233333]"
      ]
     },
     "execution_count": 59,
     "metadata": {},
     "output_type": "execute_result"
    }
   ],
   "source": [
    "model.evaluate(X_test.toarray(), y_test)"
   ]
  },
  {
   "cell_type": "code",
   "execution_count": 60,
   "metadata": {},
   "outputs": [],
   "source": [
    "weights, _ =model.trainable_weights #가중치를 weights 변수에 저장.\n",
    "\n",
    "import pandas as pd\n",
    "token_weight = pd.DataFrame({\n",
    "    '토큰':tv.get_feature_names(),\n",
    "    '가중치' : weights.numpy().flat\n",
    "}) \n",
    "#토큰과 가중치 DataFrame 작성."
   ]
  },
  {
   "cell_type": "code",
   "execution_count": 108,
   "metadata": {},
   "outputs": [
    {
     "data": {
      "text/html": [
       "<div>\n",
       "<style scoped>\n",
       "    .dataframe tbody tr th:only-of-type {\n",
       "        vertical-align: middle;\n",
       "    }\n",
       "\n",
       "    .dataframe tbody tr th {\n",
       "        vertical-align: top;\n",
       "    }\n",
       "\n",
       "    .dataframe thead th {\n",
       "        text-align: right;\n",
       "    }\n",
       "</style>\n",
       "<table border=\"1\" class=\"dataframe\">\n",
       "  <thead>\n",
       "    <tr style=\"text-align: right;\">\n",
       "      <th></th>\n",
       "      <th>토큰</th>\n",
       "      <th>가중치</th>\n",
       "    </tr>\n",
       "  </thead>\n",
       "  <tbody>\n",
       "    <tr>\n",
       "      <th>298</th>\n",
       "      <td>마스크</td>\n",
       "      <td>0.924823</td>\n",
       "    </tr>\n",
       "    <tr>\n",
       "      <th>883</th>\n",
       "      <td>코</td>\n",
       "      <td>0.894464</td>\n",
       "    </tr>\n",
       "    <tr>\n",
       "      <th>79</th>\n",
       "      <td>개학</td>\n",
       "      <td>0.716676</td>\n",
       "    </tr>\n",
       "    <tr>\n",
       "      <th>885</th>\n",
       "      <td>코로나19</td>\n",
       "      <td>0.694563</td>\n",
       "    </tr>\n",
       "    <tr>\n",
       "      <th>457</th>\n",
       "      <td>상황</td>\n",
       "      <td>0.626867</td>\n",
       "    </tr>\n",
       "    <tr>\n",
       "      <th>985</th>\n",
       "      <td>확진자</td>\n",
       "      <td>0.610153</td>\n",
       "    </tr>\n",
       "    <tr>\n",
       "      <th>535</th>\n",
       "      <td>신천지</td>\n",
       "      <td>0.598306</td>\n",
       "    </tr>\n",
       "    <tr>\n",
       "      <th>817</th>\n",
       "      <td>진행</td>\n",
       "      <td>0.526529</td>\n",
       "    </tr>\n",
       "    <tr>\n",
       "      <th>689</th>\n",
       "      <td>일본</td>\n",
       "      <td>0.523091</td>\n",
       "    </tr>\n",
       "    <tr>\n",
       "      <th>346</th>\n",
       "      <td>발생</td>\n",
       "      <td>0.499583</td>\n",
       "    </tr>\n",
       "    <tr>\n",
       "      <th>994</th>\n",
       "      <td>후</td>\n",
       "      <td>0.492674</td>\n",
       "    </tr>\n",
       "    <tr>\n",
       "      <th>727</th>\n",
       "      <td>전국</td>\n",
       "      <td>0.476649</td>\n",
       "    </tr>\n",
       "    <tr>\n",
       "      <th>790</th>\n",
       "      <td>중</td>\n",
       "      <td>0.459652</td>\n",
       "    </tr>\n",
       "    <tr>\n",
       "      <th>250</th>\n",
       "      <td>대구</td>\n",
       "      <td>0.458888</td>\n",
       "    </tr>\n",
       "    <tr>\n",
       "      <th>376</th>\n",
       "      <td>병원</td>\n",
       "      <td>0.437495</td>\n",
       "    </tr>\n",
       "    <tr>\n",
       "      <th>877</th>\n",
       "      <td>치료</td>\n",
       "      <td>0.433751</td>\n",
       "    </tr>\n",
       "    <tr>\n",
       "      <th>482</th>\n",
       "      <td>성범죄</td>\n",
       "      <td>0.433529</td>\n",
       "    </tr>\n",
       "    <tr>\n",
       "      <th>668</th>\n",
       "      <td>이유</td>\n",
       "      <td>0.428735</td>\n",
       "    </tr>\n",
       "    <tr>\n",
       "      <th>43</th>\n",
       "      <td>n번방</td>\n",
       "      <td>0.428339</td>\n",
       "    </tr>\n",
       "    <tr>\n",
       "      <th>56</th>\n",
       "      <td>가해자</td>\n",
       "      <td>0.426128</td>\n",
       "    </tr>\n",
       "  </tbody>\n",
       "</table>\n",
       "</div>"
      ],
      "text/plain": [
       "        토큰       가중치\n",
       "298    마스크  0.924823\n",
       "883      코  0.894464\n",
       "79      개학  0.716676\n",
       "885  코로나19  0.694563\n",
       "457     상황  0.626867\n",
       "985    확진자  0.610153\n",
       "535    신천지  0.598306\n",
       "817     진행  0.526529\n",
       "689     일본  0.523091\n",
       "346     발생  0.499583\n",
       "994      후  0.492674\n",
       "727     전국  0.476649\n",
       "790      중  0.459652\n",
       "250     대구  0.458888\n",
       "376     병원  0.437495\n",
       "877     치료  0.433751\n",
       "482    성범죄  0.433529\n",
       "668     이유  0.428735\n",
       "43     n번방  0.428339\n",
       "56     가해자  0.426128"
      ]
     },
     "execution_count": 108,
     "metadata": {},
     "output_type": "execute_result"
    }
   ],
   "source": [
    "token_weight.sort_values('가중치', ascending=False).head(20)"
   ]
  },
  {
   "cell_type": "code",
   "execution_count": 112,
   "metadata": {},
   "outputs": [
    {
     "data": {
      "text/html": [
       "<div>\n",
       "<style scoped>\n",
       "    .dataframe tbody tr th:only-of-type {\n",
       "        vertical-align: middle;\n",
       "    }\n",
       "\n",
       "    .dataframe tbody tr th {\n",
       "        vertical-align: top;\n",
       "    }\n",
       "\n",
       "    .dataframe thead th {\n",
       "        text-align: right;\n",
       "    }\n",
       "</style>\n",
       "<table border=\"1\" class=\"dataframe\">\n",
       "  <thead>\n",
       "    <tr style=\"text-align: right;\">\n",
       "      <th></th>\n",
       "      <th>토큰</th>\n",
       "      <th>가중치</th>\n",
       "    </tr>\n",
       "  </thead>\n",
       "  <tbody>\n",
       "    <tr>\n",
       "      <th>210</th>\n",
       "      <td>난민</td>\n",
       "      <td>-0.882103</td>\n",
       "    </tr>\n",
       "    <tr>\n",
       "      <th>207</th>\n",
       "      <td>나라</td>\n",
       "      <td>-0.666766</td>\n",
       "    </tr>\n",
       "    <tr>\n",
       "      <th>266</th>\n",
       "      <td>대한항공</td>\n",
       "      <td>-0.587472</td>\n",
       "    </tr>\n",
       "    <tr>\n",
       "      <th>167</th>\n",
       "      <td>국회의원</td>\n",
       "      <td>-0.561044</td>\n",
       "    </tr>\n",
       "    <tr>\n",
       "      <th>162</th>\n",
       "      <td>국민연금</td>\n",
       "      <td>-0.539404</td>\n",
       "    </tr>\n",
       "    <tr>\n",
       "      <th>273</th>\n",
       "      <td>돈</td>\n",
       "      <td>-0.433577</td>\n",
       "    </tr>\n",
       "    <tr>\n",
       "      <th>161</th>\n",
       "      <td>국민들</td>\n",
       "      <td>-0.398840</td>\n",
       "    </tr>\n",
       "    <tr>\n",
       "      <th>725</th>\n",
       "      <td>적폐</td>\n",
       "      <td>-0.345571</td>\n",
       "    </tr>\n",
       "    <tr>\n",
       "      <th>912</th>\n",
       "      <td>폐</td>\n",
       "      <td>-0.336180</td>\n",
       "    </tr>\n",
       "    <tr>\n",
       "      <th>765</th>\n",
       "      <td>조사</td>\n",
       "      <td>-0.327005</td>\n",
       "    </tr>\n",
       "    <tr>\n",
       "      <th>126</th>\n",
       "      <td>공매</td>\n",
       "      <td>-0.325823</td>\n",
       "    </tr>\n",
       "    <tr>\n",
       "      <th>772</th>\n",
       "      <td>조폭</td>\n",
       "      <td>-0.318107</td>\n",
       "    </tr>\n",
       "    <tr>\n",
       "      <th>211</th>\n",
       "      <td>난민들</td>\n",
       "      <td>-0.307934</td>\n",
       "    </tr>\n",
       "    <tr>\n",
       "      <th>325</th>\n",
       "      <td>뭐</td>\n",
       "      <td>-0.301055</td>\n",
       "    </tr>\n",
       "    <tr>\n",
       "      <th>441</th>\n",
       "      <td>사퇴</td>\n",
       "      <td>-0.299183</td>\n",
       "    </tr>\n",
       "    <tr>\n",
       "      <th>764</th>\n",
       "      <td>조두순</td>\n",
       "      <td>-0.291401</td>\n",
       "    </tr>\n",
       "    <tr>\n",
       "      <th>415</th>\n",
       "      <td>비리</td>\n",
       "      <td>-0.286870</td>\n",
       "    </tr>\n",
       "    <tr>\n",
       "      <th>168</th>\n",
       "      <td>국회의원들</td>\n",
       "      <td>-0.286120</td>\n",
       "    </tr>\n",
       "    <tr>\n",
       "      <th>153</th>\n",
       "      <td>구속</td>\n",
       "      <td>-0.282162</td>\n",
       "    </tr>\n",
       "    <tr>\n",
       "      <th>701</th>\n",
       "      <td>자기들</td>\n",
       "      <td>-0.280584</td>\n",
       "    </tr>\n",
       "  </tbody>\n",
       "</table>\n",
       "</div>"
      ],
      "text/plain": [
       "        토큰       가중치\n",
       "210     난민 -0.882103\n",
       "207     나라 -0.666766\n",
       "266   대한항공 -0.587472\n",
       "167   국회의원 -0.561044\n",
       "162   국민연금 -0.539404\n",
       "273      돈 -0.433577\n",
       "161    국민들 -0.398840\n",
       "725     적폐 -0.345571\n",
       "912      폐 -0.336180\n",
       "765     조사 -0.327005\n",
       "126     공매 -0.325823\n",
       "772     조폭 -0.318107\n",
       "211    난민들 -0.307934\n",
       "325      뭐 -0.301055\n",
       "441     사퇴 -0.299183\n",
       "764    조두순 -0.291401\n",
       "415     비리 -0.286870\n",
       "168  국회의원들 -0.286120\n",
       "153     구속 -0.282162\n",
       "701    자기들 -0.280584"
      ]
     },
     "execution_count": 112,
     "metadata": {},
     "output_type": "execute_result"
    }
   ],
   "source": [
    "token_weight.sort_values('가중치').head(20)"
   ]
  },
  {
   "cell_type": "code",
   "execution_count": null,
   "metadata": {},
   "outputs": [],
   "source": []
  }
 ],
 "metadata": {
  "kernelspec": {
   "display_name": "Python 3",
   "language": "python",
   "name": "python3"
  },
  "language_info": {
   "codemirror_mode": {
    "name": "ipython",
    "version": 3
   },
   "file_extension": ".py",
   "mimetype": "text/x-python",
   "name": "python",
   "nbconvert_exporter": "python",
   "pygments_lexer": "ipython3",
   "version": "3.7.7"
  }
 },
 "nbformat": 4,
 "nbformat_minor": 4
}
