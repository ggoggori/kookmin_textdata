{
 "cells": [
  {
   "cell_type": "code",
   "execution_count": 5,
   "metadata": {
    "colab": {},
    "colab_type": "code",
    "id": "x8cpJzaPRRXy"
   },
   "outputs": [],
   "source": [
    "from sklearn.feature_extraction.text import TfidfVectorizer\n",
    "from wordcloud import WordCloud\n",
    "import seaborn as sns\n",
    "import matplotlib.pyplot as plt\n",
    "import pandas as pd\n",
    "import numpy as np \n",
    "import joblib\n",
    "import matplotlib as mpl\n",
    "import matplotlib.font_manager as fm\n",
    "import matplotlib.pyplot as plt\n",
    "import seaborn as sns\n",
    "plt.style.use('fivethirtyeight')\n",
    "import warnings\n",
    "warnings.filterwarnings('ignore')\n",
    "%matplotlib inline"
   ]
  },
  {
   "cell_type": "code",
   "execution_count": 6,
   "metadata": {
    "colab": {},
    "colab_type": "code",
    "id": "lKpSZLjWRRX2"
   },
   "outputs": [],
   "source": [
    "data = pd.read_csv('new_data.csv', index_col = 0)"
   ]
  },
  {
   "cell_type": "markdown",
   "metadata": {
    "colab_type": "text",
    "id": "6C2cz1dWRRX4"
   },
   "source": [
    "## FASTTEXT"
   ]
  },
  {
   "cell_type": "code",
   "execution_count": 7,
   "metadata": {
    "colab": {},
    "colab_type": "code",
    "id": "H3ZG7q3GRRX5"
   },
   "outputs": [],
   "source": [
    "import re\n",
    "def find_hangul(text):\n",
    "    return re.findall(r'[ㄱ-ㅎ가-힣]+',text)\n",
    "lidata = data[data['summarize_'].notnull()]['summarize_'].map(find_hangul)"
   ]
  },
  {
   "cell_type": "code",
   "execution_count": 8,
   "metadata": {
    "colab": {},
    "colab_type": "code",
    "id": "kEwgwfy6RRX7"
   },
   "outputs": [],
   "source": [
    "def only_hangul(text):\n",
    "    return ' '.join(re.findall(r'[ㄱ-ㅎ가-힣]+',text))\n",
    "lidata2 = data[data['summarize_'].notnull()]['summarize_'].map(only_hangul)"
   ]
  },
  {
   "cell_type": "code",
   "execution_count": 9,
   "metadata": {
    "colab": {},
    "colab_type": "code",
    "id": "xz_vAtMZRRX-"
   },
   "outputs": [],
   "source": [
    "from gensim.models.fasttext import FastText"
   ]
  },
  {
   "cell_type": "code",
   "execution_count": 10,
   "metadata": {
    "colab": {},
    "colab_type": "code",
    "id": "WbnGoaqoRRYB"
   },
   "outputs": [],
   "source": [
    "model = FastText(size=100, sg=1, window =5, min_count=3)"
   ]
  },
  {
   "cell_type": "code",
   "execution_count": 11,
   "metadata": {
    "colab": {},
    "colab_type": "code",
    "id": "2jfLW4SfRRYD"
   },
   "outputs": [],
   "source": [
    "model.build_vocab(sentences = lidata)"
   ]
  },
  {
   "cell_type": "code",
   "execution_count": 12,
   "metadata": {
    "colab": {},
    "colab_type": "code",
    "id": "s-19Oh23RRYF"
   },
   "outputs": [],
   "source": [
    "model.train(sentences = lidata, epochs = 20, total_examples= model.corpus_count, \n",
    "            total_words= model.corpus_total_words)"
   ]
  },
  {
   "cell_type": "code",
   "execution_count": 13,
   "metadata": {
    "colab": {
     "base_uri": "https://localhost:8080/",
     "height": 1000
    },
    "colab_type": "code",
    "id": "uJzG_tvgRRYI",
    "outputId": "dc94dcf8-ace1-46e7-c56a-b935b66e7d30"
   },
   "outputs": [
    {
     "data": {
      "text/plain": [
       "{'오늘': <gensim.models.keyedvectors.Vocab at 0x1e2f9e0b288>,\n",
       " '합니다': <gensim.models.keyedvectors.Vocab at 0x1e2f9e0b608>,\n",
       " '타인의': <gensim.models.keyedvectors.Vocab at 0x1e2f9e0b088>,\n",
       " '어린': <gensim.models.keyedvectors.Vocab at 0x1e2f9e0b2c8>,\n",
       " '학생들을': <gensim.models.keyedvectors.Vocab at 0x1e2f9e0b708>,\n",
       " '지옥으로': <gensim.models.keyedvectors.Vocab at 0x1e2f9e0b788>,\n",
       " '몰아넣은': <gensim.models.keyedvectors.Vocab at 0x1e2f9e0b7c8>,\n",
       " '가해자를': <gensim.models.keyedvectors.Vocab at 0x1e2f9e0b808>,\n",
       " '포토라인에': <gensim.models.keyedvectors.Vocab at 0x1e2f9e0b6c8>,\n",
       " '세워주세요': <gensim.models.keyedvectors.Vocab at 0x1e2f9e0b748>,\n",
       " '절대로': <gensim.models.keyedvectors.Vocab at 0x1e2f9e0b848>,\n",
       " '마스크로': <gensim.models.keyedvectors.Vocab at 0x1e2f9e0b888>,\n",
       " '얼굴을': <gensim.models.keyedvectors.Vocab at 0x1e2f9e0b8c8>,\n",
       " '가리지': <gensim.models.keyedvectors.Vocab at 0x1e2f9e0b908>,\n",
       " '말아주십시오': <gensim.models.keyedvectors.Vocab at 0x1e2f9e0b948>,\n",
       " '만명에': <gensim.models.keyedvectors.Vocab at 0x1e2f9e0b988>,\n",
       " '만원이나': <gensim.models.keyedvectors.Vocab at 0x1e2f9e0b9c8>,\n",
       " '주고': <gensim.models.keyedvectors.Vocab at 0x1e2f9e0ba08>,\n",
       " '대한민국': <gensim.models.keyedvectors.Vocab at 0x1e2f9e0ba48>,\n",
       " '남자들의': <gensim.models.keyedvectors.Vocab at 0x1e2f9e0ba88>,\n",
       " '경종을': <gensim.models.keyedvectors.Vocab at 0x1e2f9e0bac8>,\n",
       " '피해자를': <gensim.models.keyedvectors.Vocab at 0x1e2f9e0bb08>,\n",
       " '겁박하여': <gensim.models.keyedvectors.Vocab at 0x1e2f9e0bb48>,\n",
       " '하고': <gensim.models.keyedvectors.Vocab at 0x1e2f9e0bb88>,\n",
       " '이게': <gensim.models.keyedvectors.Vocab at 0x1e2f9e0bbc8>,\n",
       " '악마가': <gensim.models.keyedvectors.Vocab at 0x1e2f9e0bc08>,\n",
       " '아니면': <gensim.models.keyedvectors.Vocab at 0x1e2f9e0bc48>,\n",
       " '뭐가': <gensim.models.keyedvectors.Vocab at 0x1e2f9e0bc88>,\n",
       " '반드시': <gensim.models.keyedvectors.Vocab at 0x1e2f9e0bcc8>,\n",
       " '세워야': <gensim.models.keyedvectors.Vocab at 0x1e2f9e0bd08>,\n",
       " '맨': <gensim.models.keyedvectors.Vocab at 0x1e2f9e0bd48>,\n",
       " '얼굴': <gensim.models.keyedvectors.Vocab at 0x1e2f9e0bd88>,\n",
       " '그대로': <gensim.models.keyedvectors.Vocab at 0x1e2f9e0bdc8>,\n",
       " '수치심을': <gensim.models.keyedvectors.Vocab at 0x1e2f9e0be08>,\n",
       " '가벼이': <gensim.models.keyedvectors.Vocab at 0x1e2f9e0be48>,\n",
       " '인권이란': <gensim.models.keyedvectors.Vocab at 0x1e2f9e0be88>,\n",
       " '단어는': <gensim.models.keyedvectors.Vocab at 0x1e2f9e0bec8>,\n",
       " '언제까지': <gensim.models.keyedvectors.Vocab at 0x1e2f9e0bf08>,\n",
       " '두고': <gensim.models.keyedvectors.Vocab at 0x1e2f9e0bf48>,\n",
       " '하십니까': <gensim.models.keyedvectors.Vocab at 0x1e2f9e0bf88>,\n",
       " '이런': <gensim.models.keyedvectors.Vocab at 0x1e2f9e0bfc8>,\n",
       " '나라에서': <gensim.models.keyedvectors.Vocab at 0x1e2f9e11048>,\n",
       " '말이': <gensim.models.keyedvectors.Vocab at 0x1e2f9e11088>,\n",
       " '안됩니다': <gensim.models.keyedvectors.Vocab at 0x1e2f9e110c8>,\n",
       " '이번': <gensim.models.keyedvectors.Vocab at 0x1e2f9e11108>,\n",
       " '통한': <gensim.models.keyedvectors.Vocab at 0x1e2f9e11148>,\n",
       " '미성년': <gensim.models.keyedvectors.Vocab at 0x1e2f9e11188>,\n",
       " '특히': <gensim.models.keyedvectors.Vocab at 0x1e2f9e111c8>,\n",
       " '아동에': <gensim.models.keyedvectors.Vocab at 0x1e2f9e11208>,\n",
       " '대한': <gensim.models.keyedvectors.Vocab at 0x1e2f9e11248>,\n",
       " '성범죄는': <gensim.models.keyedvectors.Vocab at 0x1e2f9e11288>,\n",
       " '절대': <gensim.models.keyedvectors.Vocab at 0x1e2f9e112c8>,\n",
       " '안될': <gensim.models.keyedvectors.Vocab at 0x1e2f9e11308>,\n",
       " '추악한': <gensim.models.keyedvectors.Vocab at 0x1e2f9e11348>,\n",
       " '의심의': <gensim.models.keyedvectors.Vocab at 0x1e2f9e11388>,\n",
       " '여지가': <gensim.models.keyedvectors.Vocab at 0x1e2f9e113c8>,\n",
       " '없습니다': <gensim.models.keyedvectors.Vocab at 0x1e2f9e11408>,\n",
       " '그러나': <gensim.models.keyedvectors.Vocab at 0x1e2f9e11448>,\n",
       " '이': <gensim.models.keyedvectors.Vocab at 0x1e2f9e11488>,\n",
       " '범죄는': <gensim.models.keyedvectors.Vocab at 0x1e2f9e114c8>,\n",
       " '대한민국에서': <gensim.models.keyedvectors.Vocab at 0x1e2f9e11508>,\n",
       " '것입니다': <gensim.models.keyedvectors.Vocab at 0x1e2f9e11548>,\n",
       " '관리자': <gensim.models.keyedvectors.Vocab at 0x1e2f9e11588>,\n",
       " '그': <gensim.models.keyedvectors.Vocab at 0x1e2f9e115c8>,\n",
       " '텔레그램': <gensim.models.keyedvectors.Vocab at 0x1e2f9e11608>,\n",
       " '방에': <gensim.models.keyedvectors.Vocab at 0x1e2f9e11648>,\n",
       " '있었던': <gensim.models.keyedvectors.Vocab at 0x1e2f9e11688>,\n",
       " '가입자': <gensim.models.keyedvectors.Vocab at 0x1e2f9e116c8>,\n",
       " '전원': <gensim.models.keyedvectors.Vocab at 0x1e2f9e11708>,\n",
       " '모두가': <gensim.models.keyedvectors.Vocab at 0x1e2f9e11748>,\n",
       " '성범죄자입니다': <gensim.models.keyedvectors.Vocab at 0x1e2f9e11788>,\n",
       " '상대로': <gensim.models.keyedvectors.Vocab at 0x1e2f9e117c8>,\n",
       " '한': <gensim.models.keyedvectors.Vocab at 0x1e2f9e11808>,\n",
       " '잔혹한': <gensim.models.keyedvectors.Vocab at 0x1e2f9e11848>,\n",
       " '성범죄의': <gensim.models.keyedvectors.Vocab at 0x1e2f9e11888>,\n",
       " '현장을': <gensim.models.keyedvectors.Vocab at 0x1e2f9e118c8>,\n",
       " '보며': <gensim.models.keyedvectors.Vocab at 0x1e2f9e11908>,\n",
       " '것은': <gensim.models.keyedvectors.Vocab at 0x1e2f9e11948>,\n",
       " '물론이고': <gensim.models.keyedvectors.Vocab at 0x1e2f9e11988>,\n",
       " '그런': <gensim.models.keyedvectors.Vocab at 0x1e2f9e119c8>,\n",
       " '범죄': <gensim.models.keyedvectors.Vocab at 0x1e2f9e11a08>,\n",
       " '컨텐츠를': <gensim.models.keyedvectors.Vocab at 0x1e2f9e11a48>,\n",
       " '동조하고': <gensim.models.keyedvectors.Vocab at 0x1e2f9e11a88>,\n",
       " '나도': <gensim.models.keyedvectors.Vocab at 0x1e2f9e11ac8>,\n",
       " '범죄를': <gensim.models.keyedvectors.Vocab at 0x1e2f9e11b08>,\n",
       " '저지르고': <gensim.models.keyedvectors.Vocab at 0x1e2f9e11b48>,\n",
       " '싶다며': <gensim.models.keyedvectors.Vocab at 0x1e2f9e11b88>,\n",
       " '역겨운': <gensim.models.keyedvectors.Vocab at 0x1e2f9e11bc8>,\n",
       " '나라가': <gensim.models.keyedvectors.Vocab at 0x1e2f9e11c08>,\n",
       " '아이들을': <gensim.models.keyedvectors.Vocab at 0x1e2f9e11c48>,\n",
       " '아동': <gensim.models.keyedvectors.Vocab at 0x1e2f9e11c88>,\n",
       " '지켜주지': <gensim.models.keyedvectors.Vocab at 0x1e2f9e11cc8>,\n",
       " '않을': <gensim.models.keyedvectors.Vocab at 0x1e2f9e11d08>,\n",
       " '거라면': <gensim.models.keyedvectors.Vocab at 0x1e2f9e11d48>,\n",
       " '알아서': <gensim.models.keyedvectors.Vocab at 0x1e2f9e11d88>,\n",
       " '있게': <gensim.models.keyedvectors.Vocab at 0x1e2f9e11dc8>,\n",
       " '번방': <gensim.models.keyedvectors.Vocab at 0x1e2f9e11e08>,\n",
       " '전원의': <gensim.models.keyedvectors.Vocab at 0x1e2f9e11e48>,\n",
       " '신상을': <gensim.models.keyedvectors.Vocab at 0x1e2f9e11e88>,\n",
       " '낱낱히': <gensim.models.keyedvectors.Vocab at 0x1e2f9e11ec8>,\n",
       " '공개해': <gensim.models.keyedvectors.Vocab at 0x1e2f9e11f08>,\n",
       " '주십시오': <gensim.models.keyedvectors.Vocab at 0x1e2f9e11f48>,\n",
       " '이미': <gensim.models.keyedvectors.Vocab at 0x1e2f9e11f88>,\n",
       " '그들은': <gensim.models.keyedvectors.Vocab at 0x1e2f9e11fc8>,\n",
       " '방에서': <gensim.models.keyedvectors.Vocab at 0x1e2f9e14048>,\n",
       " '피해자들의': <gensim.models.keyedvectors.Vocab at 0x1e2f9e14088>,\n",
       " '모두': <gensim.models.keyedvectors.Vocab at 0x1e2f9e140c8>,\n",
       " '공개한': <gensim.models.keyedvectors.Vocab at 0x1e2f9e14108>,\n",
       " '채로': <gensim.models.keyedvectors.Vocab at 0x1e2f9e14148>,\n",
       " '반인권적인': <gensim.models.keyedvectors.Vocab at 0x1e2f9e14188>,\n",
       " '성범죄': <gensim.models.keyedvectors.Vocab at 0x1e2f9e141c8>,\n",
       " '영상으로': <gensim.models.keyedvectors.Vocab at 0x1e2f9e14208>,\n",
       " '시청한': <gensim.models.keyedvectors.Vocab at 0x1e2f9e14248>,\n",
       " '민주당과': <gensim.models.keyedvectors.Vocab at 0x1e2f9e14288>,\n",
       " '정부에': <gensim.models.keyedvectors.Vocab at 0x1e2f9e142c8>,\n",
       " '간곡히': <gensim.models.keyedvectors.Vocab at 0x1e2f9e14308>,\n",
       " '청원합니다': <gensim.models.keyedvectors.Vocab at 0x1e2f9e14348>,\n",
       " '자유한국당은': <gensim.models.keyedvectors.Vocab at 0x1e2f9e14388>,\n",
       " '국민의': <gensim.models.keyedvectors.Vocab at 0x1e2f9e143c8>,\n",
       " '막대한': <gensim.models.keyedvectors.Vocab at 0x1e2f9e14408>,\n",
       " '세비를': <gensim.models.keyedvectors.Vocab at 0x1e2f9e14448>,\n",
       " '받는': <gensim.models.keyedvectors.Vocab at 0x1e2f9e14488>,\n",
       " '국회의원으로': <gensim.models.keyedvectors.Vocab at 0x1e2f9e144c8>,\n",
       " '구성': <gensim.models.keyedvectors.Vocab at 0x1e2f9e14508>,\n",
       " '되었음에도': <gensim.models.keyedvectors.Vocab at 0x1e2f9e14548>,\n",
       " '걸핏하면': <gensim.models.keyedvectors.Vocab at 0x1e2f9e14588>,\n",
       " '장왜투쟁과': <gensim.models.keyedvectors.Vocab at 0x1e2f9e145c8>,\n",
       " '정부의': <gensim.models.keyedvectors.Vocab at 0x1e2f9e14608>,\n",
       " '입법을': <gensim.models.keyedvectors.Vocab at 0x1e2f9e14648>,\n",
       " '발목잡기를': <gensim.models.keyedvectors.Vocab at 0x1e2f9e14688>,\n",
       " '예산을': <gensim.models.keyedvectors.Vocab at 0x1e2f9e146c8>,\n",
       " '삭감하여': <gensim.models.keyedvectors.Vocab at 0x1e2f9e14708>,\n",
       " '안전을': <gensim.models.keyedvectors.Vocab at 0x1e2f9e14748>,\n",
       " '심각하게하며': <gensim.models.keyedvectors.Vocab at 0x1e2f9e14788>,\n",
       " '정부가': <gensim.models.keyedvectors.Vocab at 0x1e2f9e147c8>,\n",
       " '국민을': <gensim.models.keyedvectors.Vocab at 0x1e2f9e14808>,\n",
       " '위한': <gensim.models.keyedvectors.Vocab at 0x1e2f9e14848>,\n",
       " '정책을': <gensim.models.keyedvectors.Vocab at 0x1e2f9e14888>,\n",
       " '시행하지못하도록': <gensim.models.keyedvectors.Vocab at 0x1e2f9e148c8>,\n",
       " '사사건건': <gensim.models.keyedvectors.Vocab at 0x1e2f9e14908>,\n",
       " '방해를': <gensim.models.keyedvectors.Vocab at 0x1e2f9e14948>,\n",
       " '하고있습니다': <gensim.models.keyedvectors.Vocab at 0x1e2f9e14988>,\n",
       " '의원들의': <gensim.models.keyedvectors.Vocab at 0x1e2f9e149c8>,\n",
       " '국민에': <gensim.models.keyedvectors.Vocab at 0x1e2f9e14a08>,\n",
       " '막말도': <gensim.models.keyedvectors.Vocab at 0x1e2f9e14a48>,\n",
       " '도를': <gensim.models.keyedvectors.Vocab at 0x1e2f9e14a88>,\n",
       " '넘치고있으며': <gensim.models.keyedvectors.Vocab at 0x1e2f9e14ac8>,\n",
       " '의원인지': <gensim.models.keyedvectors.Vocab at 0x1e2f9e14b08>,\n",
       " '일본의': <gensim.models.keyedvectors.Vocab at 0x1e2f9e14b48>,\n",
       " '모를': <gensim.models.keyedvectors.Vocab at 0x1e2f9e14b88>,\n",
       " '나경원': <gensim.models.keyedvectors.Vocab at 0x1e2f9e14bc8>,\n",
       " '원내': <gensim.models.keyedvectors.Vocab at 0x1e2f9e14c08>,\n",
       " '대표도': <gensim.models.keyedvectors.Vocab at 0x1e2f9e14c48>,\n",
       " '국회의원의': <gensim.models.keyedvectors.Vocab at 0x1e2f9e14c88>,\n",
       " '자격이': <gensim.models.keyedvectors.Vocab at 0x1e2f9e14cc8>,\n",
       " '없다고': <gensim.models.keyedvectors.Vocab at 0x1e2f9e14d08>,\n",
       " '봅니다': <gensim.models.keyedvectors.Vocab at 0x1e2f9e14d48>,\n",
       " '정부에서도': <gensim.models.keyedvectors.Vocab at 0x1e2f9e14d88>,\n",
       " '그간': <gensim.models.keyedvectors.Vocab at 0x1e2f9e14dc8>,\n",
       " '자유한국당의': <gensim.models.keyedvectors.Vocab at 0x1e2f9e14e08>,\n",
       " '잘못된것을': <gensim.models.keyedvectors.Vocab at 0x1e2f9e14e48>,\n",
       " '철저히': <gensim.models.keyedvectors.Vocab at 0x1e2f9e14e88>,\n",
       " '조사기록하여': <gensim.models.keyedvectors.Vocab at 0x1e2f9e14ec8>,\n",
       " '정당해산': <gensim.models.keyedvectors.Vocab at 0x1e2f9e14f08>,\n",
       " '청구를': <gensim.models.keyedvectors.Vocab at 0x1e2f9e14f48>,\n",
       " '하여주십시요': <gensim.models.keyedvectors.Vocab at 0x1e2f9e14f88>,\n",
       " '통진당': <gensim.models.keyedvectors.Vocab at 0x1e2f9e14fc8>,\n",
       " '정당해산을한': <gensim.models.keyedvectors.Vocab at 0x1e2f9e17048>,\n",
       " '판례가': <gensim.models.keyedvectors.Vocab at 0x1e2f9e17088>,\n",
       " '있기에': <gensim.models.keyedvectors.Vocab at 0x1e2f9e170c8>,\n",
       " '자유한국당을': <gensim.models.keyedvectors.Vocab at 0x1e2f9e17108>,\n",
       " '시켜서': <gensim.models.keyedvectors.Vocab at 0x1e2f9e17148>,\n",
       " '바로': <gensim.models.keyedvectors.Vocab at 0x1e2f9e17188>,\n",
       " '설수있기를': <gensim.models.keyedvectors.Vocab at 0x1e2f9e171c8>,\n",
       " '코로나': <gensim.models.keyedvectors.Vocab at 0x1e2f9e17208>,\n",
       " '바이러스': <gensim.models.keyedvectors.Vocab at 0x1e2f9e17248>,\n",
       " '로': <gensim.models.keyedvectors.Vocab at 0x1e2f9e17288>,\n",
       " '인해': <gensim.models.keyedvectors.Vocab at 0x1e2f9e172c8>,\n",
       " '모든': <gensim.models.keyedvectors.Vocab at 0x1e2f9e17308>,\n",
       " '국민이': <gensim.models.keyedvectors.Vocab at 0x1e2f9e17348>,\n",
       " '힘든': <gensim.models.keyedvectors.Vocab at 0x1e2f9e17388>,\n",
       " '시기에': <gensim.models.keyedvectors.Vocab at 0x1e2f9e173c8>,\n",
       " '있습니다': <gensim.models.keyedvectors.Vocab at 0x1e2f9e17408>,\n",
       " '하지만': <gensim.models.keyedvectors.Vocab at 0x1e2f9e17448>,\n",
       " '국민건강을': <gensim.models.keyedvectors.Vocab at 0x1e2f9e17488>,\n",
       " '위해': <gensim.models.keyedvectors.Vocab at 0x1e2f9e174c8>,\n",
       " '대통령님을': <gensim.models.keyedvectors.Vocab at 0x1e2f9e17508>,\n",
       " '비롯한': <gensim.models.keyedvectors.Vocab at 0x1e2f9e17548>,\n",
       " '정부': <gensim.models.keyedvectors.Vocab at 0x1e2f9e17588>,\n",
       " '각': <gensim.models.keyedvectors.Vocab at 0x1e2f9e175c8>,\n",
       " '부처의': <gensim.models.keyedvectors.Vocab at 0x1e2f9e17608>,\n",
       " '분들이': <gensim.models.keyedvectors.Vocab at 0x1e2f9e17648>,\n",
       " '밤낮': <gensim.models.keyedvectors.Vocab at 0x1e2f9e17688>,\n",
       " '없이': <gensim.models.keyedvectors.Vocab at 0x1e2f9e176c8>,\n",
       " '퇴치에': <gensim.models.keyedvectors.Vocab at 0x1e2f9e17708>,\n",
       " '온갖': <gensim.models.keyedvectors.Vocab at 0x1e2f9e17748>,\n",
       " '힘을': <gensim.models.keyedvectors.Vocab at 0x1e2f9e17788>,\n",
       " '쏟고': <gensim.models.keyedvectors.Vocab at 0x1e2f9e177c8>,\n",
       " '계십니다': <gensim.models.keyedvectors.Vocab at 0x1e2f9e17808>,\n",
       " '라는': <gensim.models.keyedvectors.Vocab at 0x1e2f9e17848>,\n",
       " '못한': <gensim.models.keyedvectors.Vocab at 0x1e2f9e17888>,\n",
       " '사이비': <gensim.models.keyedvectors.Vocab at 0x1e2f9e178c8>,\n",
       " '종교의': <gensim.models.keyedvectors.Vocab at 0x1e2f9e07d48>,\n",
       " '무분별한': <gensim.models.keyedvectors.Vocab at 0x1e2f9e07288>,\n",
       " '확산으로': <gensim.models.keyedvectors.Vocab at 0x1e2f9e07988>,\n",
       " '단': <gensim.models.keyedvectors.Vocab at 0x1e2f9e07548>,\n",
       " '일주일': <gensim.models.keyedvectors.Vocab at 0x1e2f9e07d08>,\n",
       " '사이': <gensim.models.keyedvectors.Vocab at 0x1e2f9d60c08>,\n",
       " '확진자들이': <gensim.models.keyedvectors.Vocab at 0x1e2f9d60f88>,\n",
       " '불어': <gensim.models.keyedvectors.Vocab at 0x1e2f164b4c8>,\n",
       " '나고': <gensim.models.keyedvectors.Vocab at 0x1e2f9d005c8>,\n",
       " '있으며': <gensim.models.keyedvectors.Vocab at 0x1e2f01354c8>,\n",
       " '국민들': <gensim.models.keyedvectors.Vocab at 0x1e2f00ea288>,\n",
       " '힘들어': <gensim.models.keyedvectors.Vocab at 0x1e2f192b948>,\n",
       " '하는': <gensim.models.keyedvectors.Vocab at 0x1e2f192bc48>,\n",
       " '상황': <gensim.models.keyedvectors.Vocab at 0x1e2f198bcc8>,\n",
       " '까지': <gensim.models.keyedvectors.Vocab at 0x1e2f198bd08>,\n",
       " '오게': <gensim.models.keyedvectors.Vocab at 0x1e2f198b9c8>,\n",
       " '되었습니다': <gensim.models.keyedvectors.Vocab at 0x1e2f198b648>,\n",
       " '어려운': <gensim.models.keyedvectors.Vocab at 0x1e2f198ba08>,\n",
       " '시기는': <gensim.models.keyedvectors.Vocab at 0x1e2f8113fc8>,\n",
       " '대통령님과': <gensim.models.keyedvectors.Vocab at 0x1e2f8113f88>,\n",
       " '함께': <gensim.models.keyedvectors.Vocab at 0x1e2f198f0c8>,\n",
       " '이겨낼': <gensim.models.keyedvectors.Vocab at 0x1e2df24bc48>,\n",
       " '것이며': <gensim.models.keyedvectors.Vocab at 0x1e2df24b308>,\n",
       " '국민': <gensim.models.keyedvectors.Vocab at 0x1e2dd4944c8>,\n",
       " '대다수는': <gensim.models.keyedvectors.Vocab at 0x1e2f815a048>,\n",
       " '거라': <gensim.models.keyedvectors.Vocab at 0x1e2f815ac48>,\n",
       " '믿어': <gensim.models.keyedvectors.Vocab at 0x1e2f815a6c8>,\n",
       " '의심치': <gensim.models.keyedvectors.Vocab at 0x1e2f815ab88>,\n",
       " '않습니다': <gensim.models.keyedvectors.Vocab at 0x1e2f815a748>,\n",
       " '문재인': <gensim.models.keyedvectors.Vocab at 0x1e2f815a148>,\n",
       " '대통령님': <gensim.models.keyedvectors.Vocab at 0x1e2f815a108>,\n",
       " '언제나': <gensim.models.keyedvectors.Vocab at 0x1e2f815a288>,\n",
       " '응원': <gensim.models.keyedvectors.Vocab at 0x1e2f815a248>,\n",
       " '대통령님이': <gensim.models.keyedvectors.Vocab at 0x1e2f815a308>,\n",
       " '있는': <gensim.models.keyedvectors.Vocab at 0x1e2f815a3c8>,\n",
       " '대한민국은': <gensim.models.keyedvectors.Vocab at 0x1e2f815a0c8>,\n",
       " '상황을': <gensim.models.keyedvectors.Vocab at 0x1e2f9e17908>,\n",
       " '극복': <gensim.models.keyedvectors.Vocab at 0x1e2f9e17948>,\n",
       " '사람으로서': <gensim.models.keyedvectors.Vocab at 0x1e2f9e17988>,\n",
       " '대통령의': <gensim.models.keyedvectors.Vocab at 0x1e2f9e179c8>,\n",
       " '탄핵을': <gensim.models.keyedvectors.Vocab at 0x1e2f9e17a08>,\n",
       " '촉구합니다': <gensim.models.keyedvectors.Vocab at 0x1e2f9e17a48>,\n",
       " '우한': <gensim.models.keyedvectors.Vocab at 0x1e2f9e17a88>,\n",
       " '폐렴': <gensim.models.keyedvectors.Vocab at 0x1e2f9e17ac8>,\n",
       " '신종': <gensim.models.keyedvectors.Vocab at 0x1e2f9e17b08>,\n",
       " '사태에': <gensim.models.keyedvectors.Vocab at 0x1e2f9e17b48>,\n",
       " '있어': <gensim.models.keyedvectors.Vocab at 0x1e2f9e17b88>,\n",
       " '대처를': <gensim.models.keyedvectors.Vocab at 0x1e2f9e17bc8>,\n",
       " '보면': <gensim.models.keyedvectors.Vocab at 0x1e2f9e17c08>,\n",
       " '볼': <gensim.models.keyedvectors.Vocab at 0x1e2f9e17c48>,\n",
       " '수록': <gensim.models.keyedvectors.Vocab at 0x1e2f9e17c88>,\n",
       " '대한민국의': <gensim.models.keyedvectors.Vocab at 0x1e2f9e17cc8>,\n",
       " '대통령이': <gensim.models.keyedvectors.Vocab at 0x1e2f9e17d08>,\n",
       " '아닌': <gensim.models.keyedvectors.Vocab at 0x1e2f9e17d48>,\n",
       " '중국의': <gensim.models.keyedvectors.Vocab at 0x1e2f9e17d88>,\n",
       " '대통령을': <gensim.models.keyedvectors.Vocab at 0x1e2f9e17dc8>,\n",
       " '보는': <gensim.models.keyedvectors.Vocab at 0x1e2f9e17e08>,\n",
       " '듯': <gensim.models.keyedvectors.Vocab at 0x1e2f9e17e48>,\n",
       " '또한': <gensim.models.keyedvectors.Vocab at 0x1e2f9e17e88>,\n",
       " '전세계적으로': <gensim.models.keyedvectors.Vocab at 0x1e2f9e17ec8>,\n",
       " '총': <gensim.models.keyedvectors.Vocab at 0x1e2f9e17f08>,\n",
       " '중국인': <gensim.models.keyedvectors.Vocab at 0x1e2f9e17f48>,\n",
       " '입국금지': <gensim.models.keyedvectors.Vocab at 0x1e2f9e17f88>,\n",
       " '중국': <gensim.models.keyedvectors.Vocab at 0x1e2f9e17fc8>,\n",
       " '외국인에': <gensim.models.keyedvectors.Vocab at 0x1e2f9e1a048>,\n",
       " '입국': <gensim.models.keyedvectors.Vocab at 0x1e2f9e1a088>,\n",
       " '금지': <gensim.models.keyedvectors.Vocab at 0x1e2f9e1a0c8>,\n",
       " '등': <gensim.models.keyedvectors.Vocab at 0x1e2f9e1a108>,\n",
       " '강력한': <gensim.models.keyedvectors.Vocab at 0x1e2f9e1a148>,\n",
       " '정부는': <gensim.models.keyedvectors.Vocab at 0x1e2f9e1a188>,\n",
       " '국제법을': <gensim.models.keyedvectors.Vocab at 0x1e2f9e1a1c8>,\n",
       " '전세계': <gensim.models.keyedvectors.Vocab at 0x1e2f9e1a208>,\n",
       " '수많은': <gensim.models.keyedvectors.Vocab at 0x1e2f9e1a248>,\n",
       " '나라들이': <gensim.models.keyedvectors.Vocab at 0x1e2f9e1a288>,\n",
       " '조치를': <gensim.models.keyedvectors.Vocab at 0x1e2f9e1a2c8>,\n",
       " '이제서야': <gensim.models.keyedvectors.Vocab at 0x1e2f9e1a308>,\n",
       " '눈치보며': <gensim.models.keyedvectors.Vocab at 0x1e2f9e1a348>,\n",
       " '내놓은': <gensim.models.keyedvectors.Vocab at 0x1e2f9e1a388>,\n",
       " '대책이라는': <gensim.models.keyedvectors.Vocab at 0x1e2f9e1a3c8>,\n",
       " '것이': <gensim.models.keyedvectors.Vocab at 0x1e2f9e1a408>,\n",
       " '후베이성을': <gensim.models.keyedvectors.Vocab at 0x1e2f9e1a448>,\n",
       " '방문한': <gensim.models.keyedvectors.Vocab at 0x1e2f9e1a488>,\n",
       " '외국인': <gensim.models.keyedvectors.Vocab at 0x1e2f9e1a4c8>,\n",
       " '일부터': <gensim.models.keyedvectors.Vocab at 0x1e2f9e1a508>,\n",
       " '전면': <gensim.models.keyedvectors.Vocab at 0x1e2f9e1a548>,\n",
       " '전역이': <gensim.models.keyedvectors.Vocab at 0x1e2f9e1a588>,\n",
       " '아니요': <gensim.models.keyedvectors.Vocab at 0x1e2f9e1a5c8>,\n",
       " '봉쇄': <gensim.models.keyedvectors.Vocab at 0x1e2f9e1a608>,\n",
       " '환자가': <gensim.models.keyedvectors.Vocab at 0x1e2f9e1a648>,\n",
       " '나오고': <gensim.models.keyedvectors.Vocab at 0x1e2f9e1a688>,\n",
       " '시점에': <gensim.models.keyedvectors.Vocab at 0x1e2f9e1a6c8>,\n",
       " '도저히': <gensim.models.keyedvectors.Vocab at 0x1e2f9e1a708>,\n",
       " '받아': <gensim.models.keyedvectors.Vocab at 0x1e2f9e1a748>,\n",
       " '들일': <gensim.models.keyedvectors.Vocab at 0x1e2f9e1a788>,\n",
       " '수': <gensim.models.keyedvectors.Vocab at 0x1e2f9e1a7c8>,\n",
       " '가': <gensim.models.keyedvectors.Vocab at 0x1e2f9e1a808>,\n",
       " '가정': <gensim.models.keyedvectors.Vocab at 0x1e2f9e1a848>,\n",
       " '파괴와': <gensim.models.keyedvectors.Vocab at 0x1e2f9e1a888>,\n",
       " '폭력': <gensim.models.keyedvectors.Vocab at 0x1e2f9e1a8c8>,\n",
       " '자살': <gensim.models.keyedvectors.Vocab at 0x1e2f9e1a908>,\n",
       " '상식': <gensim.models.keyedvectors.Vocab at 0x1e2f9e1a948>,\n",
       " '이하의': <gensim.models.keyedvectors.Vocab at 0x1e2f9e1a988>,\n",
       " '행동을': <gensim.models.keyedvectors.Vocab at 0x1e2f9e1a9c8>,\n",
       " '일삼고': <gensim.models.keyedvectors.Vocab at 0x1e2f9e1aa08>,\n",
       " '반사회적': <gensim.models.keyedvectors.Vocab at 0x1e2f9e1aa48>,\n",
       " '반인륜적': <gensim.models.keyedvectors.Vocab at 0x1e2f9e1aa88>,\n",
       " '보도한': <gensim.models.keyedvectors.Vocab at 0x1e2f9e1aac8>,\n",
       " '대부분': <gensim.models.keyedvectors.Vocab at 0x1e2f9e1ab08>,\n",
       " '진실한': <gensim.models.keyedvectors.Vocab at 0x1e2f9e1ab48>,\n",
       " '사실과': <gensim.models.keyedvectors.Vocab at 0x1e2f9e1ab88>,\n",
       " '상당한': <gensim.models.keyedvectors.Vocab at 0x1e2f9e1abc8>,\n",
       " '근거가': <gensim.models.keyedvectors.Vocab at 0x1e2f9e1ac08>,\n",
       " '되는': <gensim.models.keyedvectors.Vocab at 0x1e2f9e1ac48>,\n",
       " '자료들을': <gensim.models.keyedvectors.Vocab at 0x1e2f9e1ac88>,\n",
       " '바탕으로': <gensim.models.keyedvectors.Vocab at 0x1e2f9e1acc8>,\n",
       " '신천지': <gensim.models.keyedvectors.Vocab at 0x1e2f9e1ad08>,\n",
       " '측의': <gensim.models.keyedvectors.Vocab at 0x1e2f9e1ad48>,\n",
       " '인격권을': <gensim.models.keyedvectors.Vocab at 0x1e2f9e1ad88>,\n",
       " '보기': <gensim.models.keyedvectors.Vocab at 0x1e2f9e1adc8>,\n",
       " '어렵다': <gensim.models.keyedvectors.Vocab at 0x1e2f9e1ae08>,\n",
       " '형제': <gensim.models.keyedvectors.Vocab at 0x1e2f9e1ae48>,\n",
       " '나': <gensim.models.keyedvectors.Vocab at 0x1e2f9e1ae88>,\n",
       " '신천지는': <gensim.models.keyedvectors.Vocab at 0x1e2f9e1aec8>,\n",
       " '설립': <gensim.models.keyedvectors.Vocab at 0x1e2f9e1af08>,\n",
       " '이래': <gensim.models.keyedvectors.Vocab at 0x1e2f9e1af48>,\n",
       " '지속적으로': <gensim.models.keyedvectors.Vocab at 0x1e2f9e1af88>,\n",
       " '일반': <gensim.models.keyedvectors.Vocab at 0x1e2f9e1afc8>,\n",
       " '기독교': <gensim.models.keyedvectors.Vocab at 0x1e2f9e1f048>,\n",
       " '개신교': <gensim.models.keyedvectors.Vocab at 0x1e2f9e1f088>,\n",
       " '타': <gensim.models.keyedvectors.Vocab at 0x1e2f9e1f0c8>,\n",
       " '비하하고': <gensim.models.keyedvectors.Vocab at 0x1e2f9e1f108>,\n",
       " '심지어는': <gensim.models.keyedvectors.Vocab at 0x1e2f9e1f148>,\n",
       " '폭력까지': <gensim.models.keyedvectors.Vocab at 0x1e2f9e1f188>,\n",
       " '저질렀으며': <gensim.models.keyedvectors.Vocab at 0x1e2f9e1f1c8>,\n",
       " '국민이라면': <gensim.models.keyedvectors.Vocab at 0x1e2f9e1f208>,\n",
       " '기본적으로': <gensim.models.keyedvectors.Vocab at 0x1e2f9e1f248>,\n",
       " '가지는': <gensim.models.keyedvectors.Vocab at 0x1e2f9e1f288>,\n",
       " '자유': <gensim.models.keyedvectors.Vocab at 0x1e2f9e1f2c8>,\n",
       " '를': <gensim.models.keyedvectors.Vocab at 0x1e2f9e1f308>,\n",
       " '명목': <gensim.models.keyedvectors.Vocab at 0x1e2f9e1f348>,\n",
       " '하에': <gensim.models.keyedvectors.Vocab at 0x1e2f9e1f388>,\n",
       " '침해했습니다': <gensim.models.keyedvectors.Vocab at 0x1e2f9e1f3c8>,\n",
       " '이번에': <gensim.models.keyedvectors.Vocab at 0x1e2f9e1f408>,\n",
       " '발생한': <gensim.models.keyedvectors.Vocab at 0x1e2f9e1f448>,\n",
       " '발': <gensim.models.keyedvectors.Vocab at 0x1e2f9e1f488>,\n",
       " '지역': <gensim.models.keyedvectors.Vocab at 0x1e2f9e1f4c8>,\n",
       " '감염사태': <gensim.models.keyedvectors.Vocab at 0x1e2f9e1f508>,\n",
       " '역시': <gensim.models.keyedvectors.Vocab at 0x1e2f9e1f548>,\n",
       " '신천지의': <gensim.models.keyedvectors.Vocab at 0x1e2f9e1f588>,\n",
       " '비윤리적인': <gensim.models.keyedvectors.Vocab at 0x1e2f9e1f5c8>,\n",
       " '교리와': <gensim.models.keyedvectors.Vocab at 0x1e2f9e1f608>,\n",
       " '불성실한': <gensim.models.keyedvectors.Vocab at 0x1e2f9e1f648>,\n",
       " '일입니다': <gensim.models.keyedvectors.Vocab at 0x1e2f9e1f688>,\n",
       " '글이': <gensim.models.keyedvectors.Vocab at 0x1e2f9e1f6c8>,\n",
       " '내에': <gensim.models.keyedvectors.Vocab at 0x1e2f9e1f708>,\n",
       " '것으로': <gensim.models.keyedvectors.Vocab at 0x1e2f9e1f748>,\n",
       " '간주하여': <gensim.models.keyedvectors.Vocab at 0x1e2f9e1f788>,\n",
       " '정식으로': <gensim.models.keyedvectors.Vocab at 0x1e2f9e1f7c8>,\n",
       " '민원을': <gensim.models.keyedvectors.Vocab at 0x1e2f9e1f808>,\n",
       " '제기할': <gensim.models.keyedvectors.Vocab at 0x1e2f9e1f848>,\n",
       " '세의': <gensim.models.keyedvectors.Vocab at 0x1e2f9e1f888>,\n",
       " '알바생이': <gensim.models.keyedvectors.Vocab at 0x1e2f9e1f8c8>,\n",
       " '이유로': <gensim.models.keyedvectors.Vocab at 0x1e2f9e1f908>,\n",
       " '손님이': <gensim.models.keyedvectors.Vocab at 0x1e2f9e1f948>,\n",
       " '흉기로': <gensim.models.keyedvectors.Vocab at 0x1e2f9e1f988>,\n",
       " '수차례': <gensim.models.keyedvectors.Vocab at 0x1e2f9e1f9c8>,\n",
       " '찔러': <gensim.models.keyedvectors.Vocab at 0x1e2f9e1fa08>,\n",
       " '무참히': <gensim.models.keyedvectors.Vocab at 0x1e2f9e1fa48>,\n",
       " '살해당했습니다': <gensim.models.keyedvectors.Vocab at 0x1e2f9e1fa88>,\n",
       " '말에': <gensim.models.keyedvectors.Vocab at 0x1e2f9e1fac8>,\n",
       " '의하면': <gensim.models.keyedvectors.Vocab at 0x1e2f9e1fb08>,\n",
       " '피의자는': <gensim.models.keyedvectors.Vocab at 0x1e2f9e1fb48>,\n",
       " '복용하고': <gensim.models.keyedvectors.Vocab at 0x1e2f9e1fb88>,\n",
       " '있다고': <gensim.models.keyedvectors.Vocab at 0x1e2f9e1fbc8>,\n",
       " '뉴스를': <gensim.models.keyedvectors.Vocab at 0x1e2f9e1fc08>,\n",
       " '학생이': <gensim.models.keyedvectors.Vocab at 0x1e2f9e1fc48>,\n",
       " '너무': <gensim.models.keyedvectors.Vocab at 0x1e2f9e1fc88>,\n",
       " '또': <gensim.models.keyedvectors.Vocab at 0x1e2f9e1fcc8>,\n",
       " '심신미약': <gensim.models.keyedvectors.Vocab at 0x1e2f9e1fd08>,\n",
       " '감형': <gensim.models.keyedvectors.Vocab at 0x1e2f9e1fd48>,\n",
       " '생각이': <gensim.models.keyedvectors.Vocab at 0x1e2f9e1fd88>,\n",
       " '들었습니다': <gensim.models.keyedvectors.Vocab at 0x1e2f9e1fdc8>,\n",
       " '우리': <gensim.models.keyedvectors.Vocab at 0x1e2f9e1fe08>,\n",
       " '아이가': <gensim.models.keyedvectors.Vocab at 0x1e2f9e1fe48>,\n",
       " '이야기를': <gensim.models.keyedvectors.Vocab at 0x1e2f9e1fe88>,\n",
       " '자기가': <gensim.models.keyedvectors.Vocab at 0x1e2f9e1fec8>,\n",
       " '아는': <gensim.models.keyedvectors.Vocab at 0x1e2f9e1ff08>,\n",
       " '모델': <gensim.models.keyedvectors.Vocab at 0x1e2f9e1ff48>,\n",
       " '준비하며': <gensim.models.keyedvectors.Vocab at 0x1e2f9e1ff88>,\n",
       " '고등학교': <gensim.models.keyedvectors.Vocab at 0x1e2f9e1ffc8>,\n",
       " '때도': <gensim.models.keyedvectors.Vocab at 0x1e2f9e21048>,\n",
       " '돈': <gensim.models.keyedvectors.Vocab at 0x1e2f9e21088>,\n",
       " '알바': <gensim.models.keyedvectors.Vocab at 0x1e2f9e210c8>,\n",
       " '여러개': <gensim.models.keyedvectors.Vocab at 0x1e2f9e21108>,\n",
       " '그러면서도': <gensim.models.keyedvectors.Vocab at 0x1e2f9e21148>,\n",
       " '매일': <gensim.models.keyedvectors.Vocab at 0x1e2f9e21188>,\n",
       " '다닌': <gensim.models.keyedvectors.Vocab at 0x1e2f9e211c8>,\n",
       " '성실한': <gensim.models.keyedvectors.Vocab at 0x1e2f9e21208>,\n",
       " '언제': <gensim.models.keyedvectors.Vocab at 0x1e2f9e21248>,\n",
       " '어디서': <gensim.models.keyedvectors.Vocab at 0x1e2f9e21288>,\n",
       " '일어날지': <gensim.models.keyedvectors.Vocab at 0x1e2f9e212c8>,\n",
       " '모르는': <gensim.models.keyedvectors.Vocab at 0x1e2f9e21308>,\n",
       " '일이며': <gensim.models.keyedvectors.Vocab at 0x1e2f9e21348>,\n",
       " '피해자가': <gensim.models.keyedvectors.Vocab at 0x1e2f9e21388>,\n",
       " '내': <gensim.models.keyedvectors.Vocab at 0x1e2f9e213c8>,\n",
       " '가족': <gensim.models.keyedvectors.Vocab at 0x1e2f9e21408>,\n",
       " '자신': <gensim.models.keyedvectors.Vocab at 0x1e2f9e21448>,\n",
       " '일': <gensim.models.keyedvectors.Vocab at 0x1e2f9e21488>,\n",
       " '수도': <gensim.models.keyedvectors.Vocab at 0x1e2f9e214c8>,\n",
       " '우울증': <gensim.models.keyedvectors.Vocab at 0x1e2f9e21508>,\n",
       " '처벌이': <gensim.models.keyedvectors.Vocab at 0x1e2f9e21548>,\n",
       " '합니까': <gensim.models.keyedvectors.Vocab at 0x1e2f9e21588>,\n",
       " '나쁜': <gensim.models.keyedvectors.Vocab at 0x1e2f9e215c8>,\n",
       " '약': <gensim.models.keyedvectors.Vocab at 0x1e2f9e21608>,\n",
       " '처방받고': <gensim.models.keyedvectors.Vocab at 0x1e2f9e21648>,\n",
       " '함부로': <gensim.models.keyedvectors.Vocab at 0x1e2f9e21688>,\n",
       " '저지를': <gensim.models.keyedvectors.Vocab at 0x1e2f9e216c8>,\n",
       " '심신미약의': <gensim.models.keyedvectors.Vocab at 0x1e2f9e21708>,\n",
       " '집행유예가': <gensim.models.keyedvectors.Vocab at 0x1e2f9e21748>,\n",
       " '될': <gensim.models.keyedvectors.Vocab at 0x1e2f9e21788>,\n",
       " '있으니까요': <gensim.models.keyedvectors.Vocab at 0x1e2f9e217c8>,\n",
       " '오전': <gensim.models.keyedvectors.Vocab at 0x1e2f9e21808>,\n",
       " '시': <gensim.models.keyedvectors.Vocab at 0x1e2f9e21848>,\n",
       " '분쯤': <gensim.models.keyedvectors.Vocab at 0x1e2f9e21888>,\n",
       " '대전': <gensim.models.keyedvectors.Vocab at 0x1e2f9e218c8>,\n",
       " '동구의': <gensim.models.keyedvectors.Vocab at 0x1e2f9e21908>,\n",
       " '훔친': <gensim.models.keyedvectors.Vocab at 0x1e2f9e21948>,\n",
       " '렌터카를': <gensim.models.keyedvectors.Vocab at 0x1e2f9e21988>,\n",
       " '몰던': <gensim.models.keyedvectors.Vocab at 0x1e2f9e219c8>,\n",
       " '대': <gensim.models.keyedvectors.Vocab at 0x1e2f9e21a08>,\n",
       " '청소년': <gensim.models.keyedvectors.Vocab at 0x1e2f9e21a48>,\n",
       " '명이': <gensim.models.keyedvectors.Vocab at 0x1e2f9e21a88>,\n",
       " '경찰': <gensim.models.keyedvectors.Vocab at 0x1e2f9e21ac8>,\n",
       " '걸리자': <gensim.models.keyedvectors.Vocab at 0x1e2f9e21b08>,\n",
       " '뒤에': <gensim.models.keyedvectors.Vocab at 0x1e2f9e21b48>,\n",
       " '있던': <gensim.models.keyedvectors.Vocab at 0x1e2f9e21b88>,\n",
       " '택시를': <gensim.models.keyedvectors.Vocab at 0x1e2f9e21bc8>,\n",
       " '중앙선을': <gensim.models.keyedvectors.Vocab at 0x1e2f9e21c08>,\n",
       " '넘어': <gensim.models.keyedvectors.Vocab at 0x1e2f9e21c48>,\n",
       " '경찰과의': <gensim.models.keyedvectors.Vocab at 0x1e2f9e21c88>,\n",
       " '중': <gensim.models.keyedvectors.Vocab at 0x1e2f9e21cc8>,\n",
       " '사망사고를': <gensim.models.keyedvectors.Vocab at 0x1e2f9e21d08>,\n",
       " '낸': <gensim.models.keyedvectors.Vocab at 0x1e2f9e21d48>,\n",
       " '청소년들을': <gensim.models.keyedvectors.Vocab at 0x1e2f9e21d88>,\n",
       " '엄중처벌': <gensim.models.keyedvectors.Vocab at 0x1e2f9e21dc8>,\n",
       " '바랍니다': <gensim.models.keyedvectors.Vocab at 0x1e2f9e21e08>,\n",
       " '올해': <gensim.models.keyedvectors.Vocab at 0x1e2f9e21e48>,\n",
       " '대학에': <gensim.models.keyedvectors.Vocab at 0x1e2f9e21e88>,\n",
       " '생활비를': <gensim.models.keyedvectors.Vocab at 0x1e2f9e21ec8>,\n",
       " '일을': <gensim.models.keyedvectors.Vocab at 0x1e2f9e21f08>,\n",
       " '하다가': <gensim.models.keyedvectors.Vocab at 0x1e2f9e21f48>,\n",
       " '사망하였습니다': <gensim.models.keyedvectors.Vocab at 0x1e2f9e21f88>,\n",
       " '당시': <gensim.models.keyedvectors.Vocab at 0x1e2f9e21fc8>,\n",
       " '렌트카': <gensim.models.keyedvectors.Vocab at 0x1e2f9e25048>,\n",
       " '운전자는': <gensim.models.keyedvectors.Vocab at 0x1e2f9e25088>,\n",
       " '만': <gensim.models.keyedvectors.Vocab at 0x1e2f9e250c8>,\n",
       " '세': <gensim.models.keyedvectors.Vocab at 0x1e2f9e25108>,\n",
       " '미만': <gensim.models.keyedvectors.Vocab at 0x1e2f9e25148>,\n",
       " '형사': <gensim.models.keyedvectors.Vocab at 0x1e2f9e25188>,\n",
       " '촉법소년에': <gensim.models.keyedvectors.Vocab at 0x1e2f9e251c8>,\n",
       " '대신': <gensim.models.keyedvectors.Vocab at 0x1e2f9e25208>,\n",
       " '받을': <gensim.models.keyedvectors.Vocab at 0x1e2f9e25248>,\n",
       " '것이라고': <gensim.models.keyedvectors.Vocab at 0x1e2f9e25288>,\n",
       " '경찰이': <gensim.models.keyedvectors.Vocab at 0x1e2f9e252c8>,\n",
       " '이는': <gensim.models.keyedvectors.Vocab at 0x1e2f9e25308>,\n",
       " '사람을': <gensim.models.keyedvectors.Vocab at 0x1e2f9e25348>,\n",
       " '죽인': <gensim.models.keyedvectors.Vocab at 0x1e2f9e25388>,\n",
       " '끔찍한': <gensim.models.keyedvectors.Vocab at 0x1e2f9e253c8>,\n",
       " '청소년들의': <gensim.models.keyedvectors.Vocab at 0x1e2f9e25408>,\n",
       " '범죄입니다': <gensim.models.keyedvectors.Vocab at 0x1e2f9e25448>,\n",
       " '피해자와': <gensim.models.keyedvectors.Vocab at 0x1e2f9e25488>,\n",
       " '그의': <gensim.models.keyedvectors.Vocab at 0x1e2f9e254c8>,\n",
       " '앞으로': <gensim.models.keyedvectors.Vocab at 0x1e2f9e25508>,\n",
       " '일이': <gensim.models.keyedvectors.Vocab at 0x1e2f9e25548>,\n",
       " '일어나지': <gensim.models.keyedvectors.Vocab at 0x1e2f9e25588>,\n",
       " '않게': <gensim.models.keyedvectors.Vocab at 0x1e2f9e255c8>,\n",
       " '가해자': <gensim.models.keyedvectors.Vocab at 0x1e2f9e25608>,\n",
       " '꼭': <gensim.models.keyedvectors.Vocab at 0x1e2f9e25648>,\n",
       " '엄중히': <gensim.models.keyedvectors.Vocab at 0x1e2f9e25688>,\n",
       " '처벌바랍니다': <gensim.models.keyedvectors.Vocab at 0x1e2f9e256c8>,\n",
       " '중국발': <gensim.models.keyedvectors.Vocab at 0x1e2f9e25708>,\n",
       " '바이러스가': <gensim.models.keyedvectors.Vocab at 0x1e2f9e25748>,\n",
       " '확산되고': <gensim.models.keyedvectors.Vocab at 0x1e2f9e25788>,\n",
       " '북한': <gensim.models.keyedvectors.Vocab at 0x1e2f9e257c8>,\n",
       " '마저도': <gensim.models.keyedvectors.Vocab at 0x1e2f9e25808>,\n",
       " '입국을': <gensim.models.keyedvectors.Vocab at 0x1e2f9e25848>,\n",
       " '기간': <gensim.models.keyedvectors.Vocab at 0x1e2f9e25888>,\n",
       " '한시적': <gensim.models.keyedvectors.Vocab at 0x1e2f9e258c8>,\n",
       " '금지를': <gensim.models.keyedvectors.Vocab at 0x1e2f9e25908>,\n",
       " '요청합니다': <gensim.models.keyedvectors.Vocab at 0x1e2f9e25948>,\n",
       " '우리나라': <gensim.models.keyedvectors.Vocab at 0x1e2f9e25988>,\n",
       " '뒤에는': <gensim.models.keyedvectors.Vocab at 0x1e2f9e259c8>,\n",
       " '늦지': <gensim.models.keyedvectors.Vocab at 0x1e2f9e25a08>,\n",
       " '않겠습니까': <gensim.models.keyedvectors.Vocab at 0x1e2f9e25a48>,\n",
       " '선제적': <gensim.models.keyedvectors.Vocab at 0x1e2f9e25a88>,\n",
       " '조치가': <gensim.models.keyedvectors.Vocab at 0x1e2f9e25ac8>,\n",
       " '필요합니다': <gensim.models.keyedvectors.Vocab at 0x1e2f9e25b08>,\n",
       " '국민들은': <gensim.models.keyedvectors.Vocab at 0x1e2f9e25b48>,\n",
       " '대통령님의': <gensim.models.keyedvectors.Vocab at 0x1e2f9e25b88>,\n",
       " '의지와': <gensim.models.keyedvectors.Vocab at 0x1e2f9e25bc8>,\n",
       " '더불어': <gensim.models.keyedvectors.Vocab at 0x1e2f9e25c08>,\n",
       " '조국': <gensim.models.keyedvectors.Vocab at 0x1e2f9e25c48>,\n",
       " '법무부': <gensim.models.keyedvectors.Vocab at 0x1e2f9e25c88>,\n",
       " '장관이': <gensim.models.keyedvectors.Vocab at 0x1e2f9e25cc8>,\n",
       " '된다면': <gensim.models.keyedvectors.Vocab at 0x1e2f9e25d08>,\n",
       " '그동안': <gensim.models.keyedvectors.Vocab at 0x1e2f9e25d48>,\n",
       " '사법부의': <gensim.models.keyedvectors.Vocab at 0x1e2f9e25d88>,\n",
       " '쌓인': <gensim.models.keyedvectors.Vocab at 0x1e2f9e25dc8>,\n",
       " '적폐가': <gensim.models.keyedvectors.Vocab at 0x1e2f9e25e08>,\n",
       " '있으리라': <gensim.models.keyedvectors.Vocab at 0x1e2f9e25e48>,\n",
       " '기대하고': <gensim.models.keyedvectors.Vocab at 0x1e2f9e25e88>,\n",
       " '지난': <gensim.models.keyedvectors.Vocab at 0x1e2f9e25ec8>,\n",
       " '박근혜': <gensim.models.keyedvectors.Vocab at 0x1e2f9e25f08>,\n",
       " '최순실': <gensim.models.keyedvectors.Vocab at 0x1e2f9e25f48>,\n",
       " '정권이': <gensim.models.keyedvectors.Vocab at 0x1e2f9e25f88>,\n",
       " '촛불로': <gensim.models.keyedvectors.Vocab at 0x1e2f9e25fc8>,\n",
       " '된': <gensim.models.keyedvectors.Vocab at 0x1e2f9e29048>,\n",
       " '가장': <gensim.models.keyedvectors.Vocab at 0x1e2f9e29088>,\n",
       " '큰': <gensim.models.keyedvectors.Vocab at 0x1e2f9e290c8>,\n",
       " '원인중': <gensim.models.keyedvectors.Vocab at 0x1e2f9e29108>,\n",
       " '하나가': <gensim.models.keyedvectors.Vocab at 0x1e2f9e29148>,\n",
       " '우병우': <gensim.models.keyedvectors.Vocab at 0x1e2f9e29188>,\n",
       " '양승태': <gensim.models.keyedvectors.Vocab at 0x1e2f9e291c8>,\n",
       " '등으로': <gensim.models.keyedvectors.Vocab at 0x1e2f9e29208>,\n",
       " '연결된': <gensim.models.keyedvectors.Vocab at 0x1e2f9e29248>,\n",
       " '사법': <gensim.models.keyedvectors.Vocab at 0x1e2f9e29288>,\n",
       " '적폐에': <gensim.models.keyedvectors.Vocab at 0x1e2f9e292c8>,\n",
       " '있음을': <gensim.models.keyedvectors.Vocab at 0x1e2f9e29308>,\n",
       " '알고': <gensim.models.keyedvectors.Vocab at 0x1e2f9e29348>,\n",
       " '지금': <gensim.models.keyedvectors.Vocab at 0x1e2f9e29388>,\n",
       " '벌어지고': <gensim.models.keyedvectors.Vocab at 0x1e2f9e293c8>,\n",
       " '경제': <gensim.models.keyedvectors.Vocab at 0x1e2f9e29408>,\n",
       " '원인': <gensim.models.keyedvectors.Vocab at 0x1e2f9e29448>,\n",
       " '일본군': <gensim.models.keyedvectors.Vocab at 0x1e2f9e29488>,\n",
       " '재판과': <gensim.models.keyedvectors.Vocab at 0x1e2f9e294c8>,\n",
       " '강제': <gensim.models.keyedvectors.Vocab at 0x1e2f9e29508>,\n",
       " '피해자에': <gensim.models.keyedvectors.Vocab at 0x1e2f9e29548>,\n",
       " '시작된': <gensim.models.keyedvectors.Vocab at 0x1e2f9e29588>,\n",
       " '것임을': <gensim.models.keyedvectors.Vocab at 0x1e2f9e295c8>,\n",
       " '국민은': <gensim.models.keyedvectors.Vocab at 0x1e2f9e29608>,\n",
       " '잘못됨을': <gensim.models.keyedvectors.Vocab at 0x1e2f9e29648>,\n",
       " '잡지': <gensim.models.keyedvectors.Vocab at 0x1e2f9e29688>,\n",
       " '못한다면': <gensim.models.keyedvectors.Vocab at 0x1e2f9e296c8>,\n",
       " '길은': <gensim.models.keyedvectors.Vocab at 0x1e2f9e29708>,\n",
       " '뿐입니다': <gensim.models.keyedvectors.Vocab at 0x1e2f9e29748>,\n",
       " '보지': <gensim.models.keyedvectors.Vocab at 0x1e2f9e29788>,\n",
       " '않은': <gensim.models.keyedvectors.Vocab at 0x1e2f9e297c8>,\n",
       " '검찰': <gensim.models.keyedvectors.Vocab at 0x1e2f9e29808>,\n",
       " '법원': <gensim.models.keyedvectors.Vocab at 0x1e2f9e29848>,\n",
       " '등을': <gensim.models.keyedvectors.Vocab at 0x1e2f9e29888>,\n",
       " '거치지': <gensim.models.keyedvectors.Vocab at 0x1e2f9e298c8>,\n",
       " '법률': <gensim.models.keyedvectors.Vocab at 0x1e2f9e29908>,\n",
       " '전문가인': <gensim.models.keyedvectors.Vocab at 0x1e2f9e29948>,\n",
       " '장관의': <gensim.models.keyedvectors.Vocab at 0x1e2f9e29988>,\n",
       " '역할이': <gensim.models.keyedvectors.Vocab at 0x1e2f9e299c8>,\n",
       " '더욱': <gensim.models.keyedvectors.Vocab at 0x1e2f9e29a08>,\n",
       " '중요한': <gensim.models.keyedvectors.Vocab at 0x1e2f9e29a48>,\n",
       " '이유입니다': <gensim.models.keyedvectors.Vocab at 0x1e2f9e29a88>,\n",
       " '믿고': <gensim.models.keyedvectors.Vocab at 0x1e2f9e29ac8>,\n",
       " '그에게': <gensim.models.keyedvectors.Vocab at 0x1e2f9e29b08>,\n",
       " '사법적폐': <gensim.models.keyedvectors.Vocab at 0x1e2f9e29b48>,\n",
       " '청산의': <gensim.models.keyedvectors.Vocab at 0x1e2f9e29b88>,\n",
       " '이룰': <gensim.models.keyedvectors.Vocab at 0x1e2f9e29bc8>,\n",
       " '기회를': <gensim.models.keyedvectors.Vocab at 0x1e2f9e29c08>,\n",
       " '주십시요': <gensim.models.keyedvectors.Vocab at 0x1e2f9e29c48>,\n",
       " '장자연씨의': <gensim.models.keyedvectors.Vocab at 0x1e2f9e29c88>,\n",
       " '수사': <gensim.models.keyedvectors.Vocab at 0x1e2f9e29cc8>,\n",
       " '연장': <gensim.models.keyedvectors.Vocab at 0x1e2f9e29d08>,\n",
       " '및': <gensim.models.keyedvectors.Vocab at 0x1e2f9e29d48>,\n",
       " '재수사를': <gensim.models.keyedvectors.Vocab at 0x1e2f9e29d88>,\n",
       " '기간을': <gensim.models.keyedvectors.Vocab at 0x1e2f9e29dc8>,\n",
       " '연장해': <gensim.models.keyedvectors.Vocab at 0x1e2f9e29e08>,\n",
       " '전': <gensim.models.keyedvectors.Vocab at 0x1e2f9e29e48>,\n",
       " '남긴': <gensim.models.keyedvectors.Vocab at 0x1e2f9e29e88>,\n",
       " '일명': <gensim.models.keyedvectors.Vocab at 0x1e2f9e29ec8>,\n",
       " '장자연': <gensim.models.keyedvectors.Vocab at 0x1e2f9e29f08>,\n",
       " '리스트': <gensim.models.keyedvectors.Vocab at 0x1e2f9e29f48>,\n",
       " '철저한': <gensim.models.keyedvectors.Vocab at 0x1e2f9e29f88>,\n",
       " '시대에': <gensim.models.keyedvectors.Vocab at 0x1e2f9e29fc8>,\n",
       " '다양한': <gensim.models.keyedvectors.Vocab at 0x1e2f9e2d048>,\n",
       " '역량을': <gensim.models.keyedvectors.Vocab at 0x1e2f9e2d088>,\n",
       " '가진': <gensim.models.keyedvectors.Vocab at 0x1e2f9e2d0c8>,\n",
       " '글로벌': <gensim.models.keyedvectors.Vocab at 0x1e2f9e2d108>,\n",
       " '인재들이': <gensim.models.keyedvectors.Vocab at 0x1e2f9e2d148>,\n",
       " '들어와서': <gensim.models.keyedvectors.Vocab at 0x1e2f9e2d188>,\n",
       " '시대가': <gensim.models.keyedvectors.Vocab at 0x1e2f9e2d1c8>,\n",
       " '난민': <gensim.models.keyedvectors.Vocab at 0x1e2f9e2d208>,\n",
       " '문제에': <gensim.models.keyedvectors.Vocab at 0x1e2f9e2d248>,\n",
       " '대하여': <gensim.models.keyedvectors.Vocab at 0x1e2f9e2d288>,\n",
       " '상대적으로': <gensim.models.keyedvectors.Vocab at 0x1e2f9e2d2c8>,\n",
       " '거리가': <gensim.models.keyedvectors.Vocab at 0x1e2f9e2d308>,\n",
       " '먼': <gensim.models.keyedvectors.Vocab at 0x1e2f9e2d348>,\n",
       " '대한민국이': <gensim.models.keyedvectors.Vocab at 0x1e2f9e2d388>,\n",
       " '이것을': <gensim.models.keyedvectors.Vocab at 0x1e2f9e2d3c8>,\n",
       " '다루는': <gensim.models.keyedvectors.Vocab at 0x1e2f9e2d408>,\n",
       " '것에': <gensim.models.keyedvectors.Vocab at 0x1e2f9e2d448>,\n",
       " '대해서는': <gensim.models.keyedvectors.Vocab at 0x1e2f9e2d488>,\n",
       " '과연': <gensim.models.keyedvectors.Vocab at 0x1e2f9e2d4c8>,\n",
       " '실효성이': <gensim.models.keyedvectors.Vocab at 0x1e2f9e2d508>,\n",
       " '의문이': <gensim.models.keyedvectors.Vocab at 0x1e2f9e2d548>,\n",
       " '듭니다': <gensim.models.keyedvectors.Vocab at 0x1e2f9e2d588>,\n",
       " '그렇기': <gensim.models.keyedvectors.Vocab at 0x1e2f9e2d5c8>,\n",
       " '때문에': <gensim.models.keyedvectors.Vocab at 0x1e2f9e2d608>,\n",
       " '난민신청을': <gensim.models.keyedvectors.Vocab at 0x1e2f9e2d648>,\n",
       " '받아서': <gensim.models.keyedvectors.Vocab at 0x1e2f9e2d688>,\n",
       " '그들의': <gensim.models.keyedvectors.Vocab at 0x1e2f9e2d6c8>,\n",
       " '생계를': <gensim.models.keyedvectors.Vocab at 0x1e2f9e2d708>,\n",
       " '자국민의': <gensim.models.keyedvectors.Vocab at 0x1e2f9e2d748>,\n",
       " '안전과': <gensim.models.keyedvectors.Vocab at 0x1e2f9e2d788>,\n",
       " '제주도의': <gensim.models.keyedvectors.Vocab at 0x1e2f9e2d7c8>,\n",
       " '기여할': <gensim.models.keyedvectors.Vocab at 0x1e2f9e2d808>,\n",
       " '있는지': <gensim.models.keyedvectors.Vocab at 0x1e2f9e2d848>,\n",
       " '심히': <gensim.models.keyedvectors.Vocab at 0x1e2f9e2d888>,\n",
       " '우려와': <gensim.models.keyedvectors.Vocab at 0x1e2f9e2d8c8>,\n",
       " '드는': <gensim.models.keyedvectors.Vocab at 0x1e2f9e2d908>,\n",
       " '바': <gensim.models.keyedvectors.Vocab at 0x1e2f9e2d948>,\n",
       " '입니다': <gensim.models.keyedvectors.Vocab at 0x1e2f9e2d988>,\n",
       " '그렇기에': <gensim.models.keyedvectors.Vocab at 0x1e2f9e2d9c8>,\n",
       " '이상황에서': <gensim.models.keyedvectors.Vocab at 0x1e2f9e2da08>,\n",
       " '예맨': <gensim.models.keyedvectors.Vocab at 0x1e2f9e2da48>,\n",
       " '난민신청이': <gensim.models.keyedvectors.Vocab at 0x1e2f9e2da88>,\n",
       " '허가된': <gensim.models.keyedvectors.Vocab at 0x1e2f9e2dac8>,\n",
       " '것과': <gensim.models.keyedvectors.Vocab at 0x1e2f9e2db08>,\n",
       " '이에': <gensim.models.keyedvectors.Vocab at 0x1e2f9e2db48>,\n",
       " '따른': <gensim.models.keyedvectors.Vocab at 0x1e2f9e2db88>,\n",
       " '지원을': <gensim.models.keyedvectors.Vocab at 0x1e2f9e2dbc8>,\n",
       " '처음으로': <gensim.models.keyedvectors.Vocab at 0x1e2f9e2dc08>,\n",
       " '대한민국에': <gensim.models.keyedvectors.Vocab at 0x1e2f9e2dc48>,\n",
       " '단계에': <gensim.models.keyedvectors.Vocab at 0x1e2f9e2dc88>,\n",
       " '적합한': <gensim.models.keyedvectors.Vocab at 0x1e2f9e2dcc8>,\n",
       " '덧붙여': <gensim.models.keyedvectors.Vocab at 0x1e2f9e2dd08>,\n",
       " '대해': <gensim.models.keyedvectors.Vocab at 0x1e2f9e2dd48>,\n",
       " '손길을': <gensim.models.keyedvectors.Vocab at 0x1e2f9e2dd88>,\n",
       " '내줄': <gensim.models.keyedvectors.Vocab at 0x1e2f9e2ddc8>,\n",
       " '위치에': <gensim.models.keyedvectors.Vocab at 0x1e2f9e2de08>,\n",
       " '까지도': <gensim.models.keyedvectors.Vocab at 0x1e2f9e2de48>,\n",
       " '의구심이': <gensim.models.keyedvectors.Vocab at 0x1e2f9e2de88>,\n",
       " '기존의': <gensim.models.keyedvectors.Vocab at 0x1e2f9e2dec8>,\n",
       " '해결책은': <gensim.models.keyedvectors.Vocab at 0x1e2f9e2df08>,\n",
       " '하나': <gensim.models.keyedvectors.Vocab at 0x1e2f9e2df48>,\n",
       " '없으며': <gensim.models.keyedvectors.Vocab at 0x1e2f9e2df88>,\n",
       " '여전히': <gensim.models.keyedvectors.Vocab at 0x1e2f9e2dfc8>,\n",
       " '경제적': <gensim.models.keyedvectors.Vocab at 0x1e2f9e2f048>,\n",
       " '유치를': <gensim.models.keyedvectors.Vocab at 0x1e2f9e2f088>,\n",
       " '말하지': <gensim.models.keyedvectors.Vocab at 0x1e2f9e2f0c8>,\n",
       " '일어난': <gensim.models.keyedvectors.Vocab at 0x1e2f9e2f108>,\n",
       " '화가': <gensim.models.keyedvectors.Vocab at 0x1e2f9e2f148>,\n",
       " '납니다': <gensim.models.keyedvectors.Vocab at 0x1e2f9e2f188>,\n",
       " '박사라는': <gensim.models.keyedvectors.Vocab at 0x1e2f9e2f1c8>,\n",
       " '악마같은': <gensim.models.keyedvectors.Vocab at 0x1e2f9e2f208>,\n",
       " '인간은': <gensim.models.keyedvectors.Vocab at 0x1e2f9e2f248>,\n",
       " '청소년을': <gensim.models.keyedvectors.Vocab at 0x1e2f9e2f288>,\n",
       " '포함한': <gensim.models.keyedvectors.Vocab at 0x1e2f9e2f2c8>,\n",
       " '수십': <gensim.models.keyedvectors.Vocab at 0x1e2f9e2f308>,\n",
       " '명의': <gensim.models.keyedvectors.Vocab at 0x1e2f9e2f348>,\n",
       " '여성을': <gensim.models.keyedvectors.Vocab at 0x1e2f9e2f388>,\n",
       " '협박': <gensim.models.keyedvectors.Vocab at 0x1e2f9e2f3c8>,\n",
       " '음란물을': <gensim.models.keyedvectors.Vocab at 0x1e2f9e2f408>,\n",
       " '제작하고': <gensim.models.keyedvectors.Vocab at 0x1e2f9e2f448>,\n",
       " '이를': <gensim.models.keyedvectors.Vocab at 0x1e2f9e2f488>,\n",
       " '이득을': <gensim.models.keyedvectors.Vocab at 0x1e2f9e2f4c8>,\n",
       " '피해자들에게': <gensim.models.keyedvectors.Vocab at 0x1e2f9e2f508>,\n",
       " '극심한': <gensim.models.keyedvectors.Vocab at 0x1e2f9e2f548>,\n",
       " '고통을': <gensim.models.keyedvectors.Vocab at 0x1e2f9e2f588>,\n",
       " '가했을': <gensim.models.keyedvectors.Vocab at 0x1e2f9e2f5c8>,\n",
       " '뿐만': <gensim.models.keyedvectors.Vocab at 0x1e2f9e2f608>,\n",
       " '아니라': <gensim.models.keyedvectors.Vocab at 0x1e2f9e2f648>,\n",
       " '사회의': <gensim.models.keyedvectors.Vocab at 0x1e2f9e2f688>,\n",
       " '왜곡된': <gensim.models.keyedvectors.Vocab at 0x1e2f9e2f6c8>,\n",
       " '가족들에게': <gensim.models.keyedvectors.Vocab at 0x1e2f9e2f708>,\n",
       " '위해를': <gensim.models.keyedvectors.Vocab at 0x1e2f9e2f748>,\n",
       " '고지': <gensim.models.keyedvectors.Vocab at 0x1e2f9e2f788>,\n",
       " '하기도': <gensim.models.keyedvectors.Vocab at 0x1e2f9e2f7c8>,\n",
       " '하였습니다': <gensim.models.keyedvectors.Vocab at 0x1e2f9e2f808>,\n",
       " '현재': <gensim.models.keyedvectors.Vocab at 0x1e2f9e2f848>,\n",
       " '구속되어': <gensim.models.keyedvectors.Vocab at 0x1e2f9e2f888>,\n",
       " '경찰조사를': <gensim.models.keyedvectors.Vocab at 0x1e2f9e2f8c8>,\n",
       " '받고있습니다': <gensim.models.keyedvectors.Vocab at 0x1e2f9e2f908>,\n",
       " '잘못을': <gensim.models.keyedvectors.Vocab at 0x1e2f9e2f948>,\n",
       " '있을까요': <gensim.models.keyedvectors.Vocab at 0x1e2f9e2f988>,\n",
       " '개인적인': <gensim.models.keyedvectors.Vocab at 0x1e2f9e2f9c8>,\n",
       " '저': <gensim.models.keyedvectors.Vocab at 0x1e2f9e2fa08>,\n",
       " '진심으로': <gensim.models.keyedvectors.Vocab at 0x1e2f9e2fa48>,\n",
       " '뉘우치지': <gensim.models.keyedvectors.Vocab at 0x1e2f9e2fa88>,\n",
       " '않을거라': <gensim.models.keyedvectors.Vocab at 0x1e2f9e2fac8>,\n",
       " '생각합니다': <gensim.models.keyedvectors.Vocab at 0x1e2f9e2fb08>,\n",
       " '인간이길': <gensim.models.keyedvectors.Vocab at 0x1e2f9e2fb48>,\n",
       " '포기한': <gensim.models.keyedvectors.Vocab at 0x1e2f9e2fb88>,\n",
       " '회원들': <gensim.models.keyedvectors.Vocab at 0x1e2f9e2fbc8>,\n",
       " '처벌받아': <gensim.models.keyedvectors.Vocab at 0x1e2f9e2fc08>,\n",
       " '마땅하다': <gensim.models.keyedvectors.Vocab at 0x1e2f9e2fc48>,\n",
       " '만명이': <gensim.models.keyedvectors.Vocab at 0x1e2f9e2fc88>,\n",
       " '넘는': <gensim.models.keyedvectors.Vocab at 0x1e2f9e2fcc8>,\n",
       " '아무렇지': <gensim.models.keyedvectors.Vocab at 0x1e2f9e2fd08>,\n",
       " '생활하고': <gensim.models.keyedvectors.Vocab at 0x1e2f9e2fd48>,\n",
       " '사회를': <gensim.models.keyedvectors.Vocab at 0x1e2f9e2fd88>,\n",
       " '활보하고': <gensim.models.keyedvectors.Vocab at 0x1e2f9e2fdc8>,\n",
       " '다닌다': <gensim.models.keyedvectors.Vocab at 0x1e2f9e2fe08>,\n",
       " '생각하면': <gensim.models.keyedvectors.Vocab at 0x1e2f9e2fe48>,\n",
       " '소름끼치고': <gensim.models.keyedvectors.Vocab at 0x1e2f9e2fe88>,\n",
       " '개탄스럽습니다': <gensim.models.keyedvectors.Vocab at 0x1e2f9e2fec8>,\n",
       " '평생': <gensim.models.keyedvectors.Vocab at 0x1e2f9e2ff08>,\n",
       " '씻을수없는': <gensim.models.keyedvectors.Vocab at 0x1e2f9e2ff48>,\n",
       " '아픔과': <gensim.models.keyedvectors.Vocab at 0x1e2f9e2ff88>,\n",
       " '살아가야': <gensim.models.keyedvectors.Vocab at 0x1e2f9e2ffc8>,\n",
       " '피해자의': <gensim.models.keyedvectors.Vocab at 0x1e2f9e33048>,\n",
       " '마음을': <gensim.models.keyedvectors.Vocab at 0x1e2f9e33088>,\n",
       " '박사': <gensim.models.keyedvectors.Vocab at 0x1e2f9e330c8>,\n",
       " '수준의': <gensim.models.keyedvectors.Vocab at 0x1e2f9e33108>,\n",
       " '형벌을': <gensim.models.keyedvectors.Vocab at 0x1e2f9e33148>,\n",
       " '해주시길': <gensim.models.keyedvectors.Vocab at 0x1e2f9e33188>,\n",
       " '가해자에게': <gensim.models.keyedvectors.Vocab at 0x1e2f9e331c8>,\n",
       " '좋은': <gensim.models.keyedvectors.Vocab at 0x1e2f9e33208>,\n",
       " '집행유예': <gensim.models.keyedvectors.Vocab at 0x1e2f9e33248>,\n",
       " '초범': <gensim.models.keyedvectors.Vocab at 0x1e2f9e33288>,\n",
       " '이러한': <gensim.models.keyedvectors.Vocab at 0x1e2f9e332c8>,\n",
       " '죄질이': <gensim.models.keyedvectors.Vocab at 0x1e2f9e33308>,\n",
       " '극도로': <gensim.models.keyedvectors.Vocab at 0x1e2f9e33348>,\n",
       " '불구하고': <gensim.models.keyedvectors.Vocab at 0x1e2f9e33388>,\n",
       " '형벌이': <gensim.models.keyedvectors.Vocab at 0x1e2f9e333c8>,\n",
       " '일은': <gensim.models.keyedvectors.Vocab at 0x1e2f9e33408>,\n",
       " '없길': <gensim.models.keyedvectors.Vocab at 0x1e2f9e33448>,\n",
       " '다시한번': <gensim.models.keyedvectors.Vocab at 0x1e2f9e33488>,\n",
       " '죄': <gensim.models.keyedvectors.Vocab at 0x1e2f9e334c8>,\n",
       " '지은': <gensim.models.keyedvectors.Vocab at 0x1e2f9e33508>,\n",
       " '사람은': <gensim.models.keyedvectors.Vocab at 0x1e2f9e33548>,\n",
       " '벌을': <gensim.models.keyedvectors.Vocab at 0x1e2f9e33588>,\n",
       " '받아야': <gensim.models.keyedvectors.Vocab at 0x1e2f9e335c8>,\n",
       " '피해를': <gensim.models.keyedvectors.Vocab at 0x1e2f9e33608>,\n",
       " '입은': <gensim.models.keyedvectors.Vocab at 0x1e2f9e33648>,\n",
       " '당연한': <gensim.models.keyedvectors.Vocab at 0x1e2f9e33688>,\n",
       " '것인데': <gensim.models.keyedvectors.Vocab at 0x1e2f9e336c8>,\n",
       " '제발': <gensim.models.keyedvectors.Vocab at 0x1e2f9e33708>,\n",
       " '조두순': <gensim.models.keyedvectors.Vocab at 0x1e2f9e33748>,\n",
       " '무기징역으로': <gensim.models.keyedvectors.Vocab at 0x1e2f9e33788>,\n",
       " '해야됩니다': <gensim.models.keyedvectors.Vocab at 0x1e2f9e337c8>,\n",
       " '여자': <gensim.models.keyedvectors.Vocab at 0x1e2f9e33808>,\n",
       " '김보름': <gensim.models.keyedvectors.Vocab at 0x1e2f9e33848>,\n",
       " '박지우': <gensim.models.keyedvectors.Vocab at 0x1e2f9e33888>,\n",
       " '선수는': <gensim.models.keyedvectors.Vocab at 0x1e2f9e338c8>,\n",
       " '개인의': <gensim.models.keyedvectors.Vocab at 0x1e2f9e33908>,\n",
       " '눈이': <gensim.models.keyedvectors.Vocab at 0x1e2f9e33948>,\n",
       " '멀어': <gensim.models.keyedvectors.Vocab at 0x1e2f9e33988>,\n",
       " '같은': <gensim.models.keyedvectors.Vocab at 0x1e2f9e339c8>,\n",
       " '동료인': <gensim.models.keyedvectors.Vocab at 0x1e2f9e33a08>,\n",
       " '노선영': <gensim.models.keyedvectors.Vocab at 0x1e2f9e33a48>,\n",
       " '선수를': <gensim.models.keyedvectors.Vocab at 0x1e2f9e33a88>,\n",
       " '버리고': <gensim.models.keyedvectors.Vocab at 0x1e2f9e33ac8>,\n",
       " '앞서': <gensim.models.keyedvectors.Vocab at 0x1e2f9e33b08>,\n",
       " '나갔습니다': <gensim.models.keyedvectors.Vocab at 0x1e2f9e33b48>,\n",
       " '그리고': <gensim.models.keyedvectors.Vocab at 0x1e2f9e33b88>,\n",
       " '인터뷰는': <gensim.models.keyedvectors.Vocab at 0x1e2f9e33bc8>,\n",
       " '더': <gensim.models.keyedvectors.Vocab at 0x1e2f9e33c08>,\n",
       " '이렇게': <gensim.models.keyedvectors.Vocab at 0x1e2f9e33c48>,\n",
       " '인성이': <gensim.models.keyedvectors.Vocab at 0x1e2f9e33c88>,\n",
       " '결여된': <gensim.models.keyedvectors.Vocab at 0x1e2f9e33cc8>,\n",
       " '자들이': <gensim.models.keyedvectors.Vocab at 0x1e2f9e33d08>,\n",
       " '국가의': <gensim.models.keyedvectors.Vocab at 0x1e2f9e33d48>,\n",
       " '올림픽': <gensim.models.keyedvectors.Vocab at 0x1e2f9e33d88>,\n",
       " '대표': <gensim.models.keyedvectors.Vocab at 0x1e2f9e33dc8>,\n",
       " '명백한': <gensim.models.keyedvectors.Vocab at 0x1e2f9e33e08>,\n",
       " '국가': <gensim.models.keyedvectors.Vocab at 0x1e2f9e33e48>,\n",
       " '망신입니다': <gensim.models.keyedvectors.Vocab at 0x1e2f9e33e88>,\n",
       " '사건을': <gensim.models.keyedvectors.Vocab at 0x1e2f9e33ec8>,\n",
       " '계기로': <gensim.models.keyedvectors.Vocab at 0x1e2f9e33f08>,\n",
       " '김보름과': <gensim.models.keyedvectors.Vocab at 0x1e2f9e33f48>,\n",
       " '국대': <gensim.models.keyedvectors.Vocab at 0x1e2f9e33f88>,\n",
       " '자격': <gensim.models.keyedvectors.Vocab at 0x1e2f9e33fc8>,\n",
       " '박탈': <gensim.models.keyedvectors.Vocab at 0x1e2f9e37048>,\n",
       " '국제': <gensim.models.keyedvectors.Vocab at 0x1e2f9e37088>,\n",
       " '대회': <gensim.models.keyedvectors.Vocab at 0x1e2f9e370c8>,\n",
       " '출전': <gensim.models.keyedvectors.Vocab at 0x1e2f9e37108>,\n",
       " '정지를': <gensim.models.keyedvectors.Vocab at 0x1e2f9e37148>,\n",
       " '아울러': <gensim.models.keyedvectors.Vocab at 0x1e2f9e37188>,\n",
       " '빙상연맹의': <gensim.models.keyedvectors.Vocab at 0x1e2f9e371c8>,\n",
       " '비리를': <gensim.models.keyedvectors.Vocab at 0x1e2f9e37208>,\n",
       " '밝혀': <gensim.models.keyedvectors.Vocab at 0x1e2f9e37248>,\n",
       " '내어': <gensim.models.keyedvectors.Vocab at 0x1e2f9e37288>,\n",
       " '연맹': <gensim.models.keyedvectors.Vocab at 0x1e2f9e372c8>,\n",
       " '인사들을': <gensim.models.keyedvectors.Vocab at 0x1e2f9e37308>,\n",
       " '대폭': <gensim.models.keyedvectors.Vocab at 0x1e2f9e37348>,\n",
       " '물갈이': <gensim.models.keyedvectors.Vocab at 0x1e2f9e37388>,\n",
       " '개혁의': <gensim.models.keyedvectors.Vocab at 0x1e2f9e373c8>,\n",
       " '일정이': <gensim.models.keyedvectors.Vocab at 0x1e2f9e37408>,\n",
       " '많아': <gensim.models.keyedvectors.Vocab at 0x1e2f9e37448>,\n",
       " '바쁘시겠지만': <gensim.models.keyedvectors.Vocab at 0x1e2f9e37488>,\n",
       " '대선': <gensim.models.keyedvectors.Vocab at 0x1e2f9e374c8>,\n",
       " '때': <gensim.models.keyedvectors.Vocab at 0x1e2f9e37508>,\n",
       " '공약으로': <gensim.models.keyedvectors.Vocab at 0x1e2f9e37548>,\n",
       " '적폐청산': <gensim.models.keyedvectors.Vocab at 0x1e2f9e37588>,\n",
       " '해주시기': <gensim.models.keyedvectors.Vocab at 0x1e2f9e375c8>,\n",
       " '감사합니다': <gensim.models.keyedvectors.Vocab at 0x1e2f9e37608>,\n",
       " '제': <gensim.models.keyedvectors.Vocab at 0x1e2f9e37648>,\n",
       " '살짜리': <gensim.models.keyedvectors.Vocab at 0x1e2f9e37688>,\n",
       " '제아이': <gensim.models.keyedvectors.Vocab at 0x1e2f9e376c8>,\n",
       " '초등': <gensim.models.keyedvectors.Vocab at 0x1e2f9e37708>,\n",
       " '성폭행': <gensim.models.keyedvectors.Vocab at 0x1e2f9e37748>,\n",
       " '폰에': <gensim.models.keyedvectors.Vocab at 0x1e2f9e37788>,\n",
       " '성인': <gensim.models.keyedvectors.Vocab at 0x1e2f9e377c8>,\n",
       " '어플': <gensim.models.keyedvectors.Vocab at 0x1e2f9e37808>,\n",
       " '나랑': <gensim.models.keyedvectors.Vocab at 0x1e2f9e37848>,\n",
       " '성장이': <gensim.models.keyedvectors.Vocab at 0x1e2f9e37888>,\n",
       " '빨라': <gensim.models.keyedvectors.Vocab at 0x1e2f9e378c8>,\n",
       " '아들은': <gensim.models.keyedvectors.Vocab at 0x1e2f9e37908>,\n",
       " '잘못이': <gensim.models.keyedvectors.Vocab at 0x1e2f9e37948>,\n",
       " '없다': <gensim.models.keyedvectors.Vocab at 0x1e2f9e37988>,\n",
       " '성폭행을': <gensim.models.keyedvectors.Vocab at 0x1e2f9e379c8>,\n",
       " '당한': <gensim.models.keyedvectors.Vocab at 0x1e2f9e37a08>,\n",
       " '저희': <gensim.models.keyedvectors.Vocab at 0x1e2f9e37a48>,\n",
       " '살': <gensim.models.keyedvectors.Vocab at 0x1e2f9e37a88>,\n",
       " '아빠': <gensim.models.keyedvectors.Vocab at 0x1e2f9e37ac8>,\n",
       " '혼자': <gensim.models.keyedvectors.Vocab at 0x1e2f9e37b08>,\n",
       " '자라': <gensim.models.keyedvectors.Vocab at 0x1e2f9e37b48>,\n",
       " '스스로': <gensim.models.keyedvectors.Vocab at 0x1e2f9e37b88>,\n",
       " '내렸다': <gensim.models.keyedvectors.Vocab at 0x1e2f9e37bc8>,\n",
       " '어이없는': <gensim.models.keyedvectors.Vocab at 0x1e2f9e37c08>,\n",
       " '말을': <gensim.models.keyedvectors.Vocab at 0x1e2f9e37c48>,\n",
       " '아이의': <gensim.models.keyedvectors.Vocab at 0x1e2f9e37c88>,\n",
       " '부모': <gensim.models.keyedvectors.Vocab at 0x1e2f9e37cc8>,\n",
       " '들에게': <gensim.models.keyedvectors.Vocab at 0x1e2f9e37d08>,\n",
       " '황당한': <gensim.models.keyedvectors.Vocab at 0x1e2f9e37d48>,\n",
       " '어떻게': <gensim.models.keyedvectors.Vocab at 0x1e2f9e37d88>,\n",
       " '하는지': <gensim.models.keyedvectors.Vocab at 0x1e2f9e37dc8>,\n",
       " '이야기': <gensim.models.keyedvectors.Vocab at 0x1e2f9e37e08>,\n",
       " '하려': <gensim.models.keyedvectors.Vocab at 0x1e2f9e37e48>,\n",
       " '월': <gensim.models.keyedvectors.Vocab at 0x1e2f9e37e88>,\n",
       " '이모의': <gensim.models.keyedvectors.Vocab at 0x1e2f9e37ec8>,\n",
       " '아들': <gensim.models.keyedvectors.Vocab at 0x1e2f9e37f08>,\n",
       " '초등학생': <gensim.models.keyedvectors.Vocab at 0x1e2f9e37f48>,\n",
       " '자기': <gensim.models.keyedvectors.Vocab at 0x1e2f9e37f88>,\n",
       " '어이': <gensim.models.keyedvectors.Vocab at 0x1e2f9e37fc8>,\n",
       " '없는': <gensim.models.keyedvectors.Vocab at 0x1e2f9e3b048>,\n",
       " '이후로': <gensim.models.keyedvectors.Vocab at 0x1e2f9e3b088>,\n",
       " '해라': <gensim.models.keyedvectors.Vocab at 0x1e2f9e3b0c8>,\n",
       " '마음대로': <gensim.models.keyedvectors.Vocab at 0x1e2f9e3b108>,\n",
       " '이후에도': <gensim.models.keyedvectors.Vocab at 0x1e2f9e3b148>,\n",
       " '학교에': <gensim.models.keyedvectors.Vocab at 0x1e2f9e3b188>,\n",
       " '들고': <gensim.models.keyedvectors.Vocab at 0x1e2f9e3b1c8>,\n",
       " '찾아와': <gensim.models.keyedvectors.Vocab at 0x1e2f9e3b208>,\n",
       " '밖에서': <gensim.models.keyedvectors.Vocab at 0x1e2f9e3b248>,\n",
       " '했었고': <gensim.models.keyedvectors.Vocab at 0x1e2f9e3b288>,\n",
       " '교실': <gensim.models.keyedvectors.Vocab at 0x1e2f9e3b2c8>,\n",
       " '게시판을': <gensim.models.keyedvectors.Vocab at 0x1e2f9e3b308>,\n",
       " '칼로': <gensim.models.keyedvectors.Vocab at 0x1e2f9e3b348>,\n",
       " '난도질': <gensim.models.keyedvectors.Vocab at 0x1e2f9e3b388>,\n",
       " '사진이': <gensim.models.keyedvectors.Vocab at 0x1e2f9e3b3c8>,\n",
       " '학급': <gensim.models.keyedvectors.Vocab at 0x1e2f9e3b408>,\n",
       " '유리를': <gensim.models.keyedvectors.Vocab at 0x1e2f9e3b448>,\n",
       " '깨고': <gensim.models.keyedvectors.Vocab at 0x1e2f9e3b488>,\n",
       " '얼굴에': <gensim.models.keyedvectors.Vocab at 0x1e2f9e3b4c8>,\n",
       " '박아': <gensim.models.keyedvectors.Vocab at 0x1e2f9e3b508>,\n",
       " '집': <gensim.models.keyedvectors.Vocab at 0x1e2f9e3b548>,\n",
       " '앞에': <gensim.models.keyedvectors.Vocab at 0x1e2f9e3b588>,\n",
       " '아파트': <gensim.models.keyedvectors.Vocab at 0x1e2f9e3b5c8>,\n",
       " '복도에': <gensim.models.keyedvectors.Vocab at 0x1e2f9e3b608>,\n",
       " '빨간': <gensim.models.keyedvectors.Vocab at 0x1e2f9e3b648>,\n",
       " '가족의': <gensim.models.keyedvectors.Vocab at 0x1e2f9e3b688>,\n",
       " '주민번호': <gensim.models.keyedvectors.Vocab at 0x1e2f9e3b6c8>,\n",
       " '크게': <gensim.models.keyedvectors.Vocab at 0x1e2f9e3b708>,\n",
       " '낙서를': <gensim.models.keyedvectors.Vocab at 0x1e2f9e3b748>,\n",
       " '가는': <gensim.models.keyedvectors.Vocab at 0x1e2f9e3b788>,\n",
       " '건': <gensim.models.keyedvectors.Vocab at 0x1e2f9e3b7c8>,\n",
       " '기본이고': <gensim.models.keyedvectors.Vocab at 0x1e2f9e3b808>,\n",
       " '앞에서': <gensim.models.keyedvectors.Vocab at 0x1e2f9e3b848>,\n",
       " '소리를': <gensim.models.keyedvectors.Vocab at 0x1e2f9e3b888>,\n",
       " '차': <gensim.models.keyedvectors.Vocab at 0x1e2f9e3b8c8>,\n",
       " '물리적': <gensim.models.keyedvectors.Vocab at 0x1e2f9e3b908>,\n",
       " '정신적': <gensim.models.keyedvectors.Vocab at 0x1e2f9e3b948>,\n",
       " '협박이': <gensim.models.keyedvectors.Vocab at 0x1e2f9e3b988>,\n",
       " '끊이지': <gensim.models.keyedvectors.Vocab at 0x1e2f9e3b9c8>,\n",
       " '않았습니다': <gensim.models.keyedvectors.Vocab at 0x1e2f9e3ba08>,\n",
       " '말': <gensim.models.keyedvectors.Vocab at 0x1e2f9e3ba48>,\n",
       " '실제로': <gensim.models.keyedvectors.Vocab at 0x1e2f9e3ba88>,\n",
       " '만원을': <gensim.models.keyedvectors.Vocab at 0x1e2f9e3bac8>,\n",
       " '이름': <gensim.models.keyedvectors.Vocab at 0x1e2f9e3bb08>,\n",
       " '다': <gensim.models.keyedvectors.Vocab at 0x1e2f9e3bb48>,\n",
       " '있는데': <gensim.models.keyedvectors.Vocab at 0x1e2f9e3bb88>,\n",
       " '이제는': <gensim.models.keyedvectors.Vocab at 0x1e2f9e3bbc8>,\n",
       " '작년': <gensim.models.keyedvectors.Vocab at 0x1e2f9e3bc08>,\n",
       " '중국에서': <gensim.models.keyedvectors.Vocab at 0x1e2f9e3bc48>,\n",
       " '초부터': <gensim.models.keyedvectors.Vocab at 0x1e2f9e3bc88>,\n",
       " '공항': <gensim.models.keyedvectors.Vocab at 0x1e2f9e3bcc8>,\n",
       " '강화하는': <gensim.models.keyedvectors.Vocab at 0x1e2f9e3bd08>,\n",
       " '코로나의': <gensim.models.keyedvectors.Vocab at 0x1e2f9e3bd48>,\n",
       " '국내': <gensim.models.keyedvectors.Vocab at 0x1e2f9e3bd88>,\n",
       " '확산을': <gensim.models.keyedvectors.Vocab at 0x1e2f9e3bdc8>,\n",
       " '막고자': <gensim.models.keyedvectors.Vocab at 0x1e2f9e3be08>,\n",
       " '미리': <gensim.models.keyedvectors.Vocab at 0x1e2f9e3be48>,\n",
       " '총력을': <gensim.models.keyedvectors.Vocab at 0x1e2f9e3be88>,\n",
       " '해왔습니다': <gensim.models.keyedvectors.Vocab at 0x1e2f9e3bec8>,\n",
       " '과정에서': <gensim.models.keyedvectors.Vocab at 0x1e2f9e3bf08>,\n",
       " '첫번째': <gensim.models.keyedvectors.Vocab at 0x1e2f9e3bf48>,\n",
       " '확진자도': <gensim.models.keyedvectors.Vocab at 0x1e2f9e3bf88>,\n",
       " '빠르게': <gensim.models.keyedvectors.Vocab at 0x1e2f9e3bfc8>,\n",
       " '잡을': <gensim.models.keyedvectors.Vocab at 0x1e2f9e3d048>,\n",
       " '있었습니다': <gensim.models.keyedvectors.Vocab at 0x1e2f9e3d088>,\n",
       " '확진자가': <gensim.models.keyedvectors.Vocab at 0x1e2f9e3d0c8>,\n",
       " '명': <gensim.models.keyedvectors.Vocab at 0x1e2f9e3d108>,\n",
       " '이상으로': <gensim.models.keyedvectors.Vocab at 0x1e2f9e3d148>,\n",
       " '마스크': <gensim.models.keyedvectors.Vocab at 0x1e2f9e3d188>,\n",
       " '막기': <gensim.models.keyedvectors.Vocab at 0x1e2f9e3d1c8>,\n",
       " '위해서': <gensim.models.keyedvectors.Vocab at 0x1e2f9e3d208>,\n",
       " '폭리를': <gensim.models.keyedvectors.Vocab at 0x1e2f9e3d248>,\n",
       " '취하고': <gensim.models.keyedvectors.Vocab at 0x1e2f9e3d288>,\n",
       " '업자들을': <gensim.models.keyedvectors.Vocab at 0x1e2f9e3d2c8>,\n",
       " '잡아': <gensim.models.keyedvectors.Vocab at 0x1e2f9e3d308>,\n",
       " '마스크를': <gensim.models.keyedvectors.Vocab at 0x1e2f9e3d348>,\n",
       " '대구': <gensim.models.keyedvectors.Vocab at 0x1e2f9e3d388>,\n",
       " '우선적으로': <gensim.models.keyedvectors.Vocab at 0x1e2f9e3d3c8>,\n",
       " '공급할': <gensim.models.keyedvectors.Vocab at 0x1e2f9e3d408>,\n",
       " '공식': <gensim.models.keyedvectors.Vocab at 0x1e2f9e3d448>,\n",
       " '보고서에': <gensim.models.keyedvectors.Vocab at 0x1e2f9e3d488>,\n",
       " '따르면': <gensim.models.keyedvectors.Vocab at 0x1e2f9e3d4c8>,\n",
       " '이제': <gensim.models.keyedvectors.Vocab at 0x1e2f9e3d508>,\n",
       " '외': <gensim.models.keyedvectors.Vocab at 0x1e2f9e3d548>,\n",
       " '인한': <gensim.models.keyedvectors.Vocab at 0x1e2f9e3d588>,\n",
       " '확진자': <gensim.models.keyedvectors.Vocab at 0x1e2f9e3d5c8>,\n",
       " '없어보입니다': <gensim.models.keyedvectors.Vocab at 0x1e2f9e3d608>,\n",
       " '반면': <gensim.models.keyedvectors.Vocab at 0x1e2f9e3d648>,\n",
       " '원인을': <gensim.models.keyedvectors.Vocab at 0x1e2f9e3d688>,\n",
       " '알': <gensim.models.keyedvectors.Vocab at 0x1e2f9e3d6c8>,\n",
       " '감염자가': <gensim.models.keyedvectors.Vocab at 0x1e2f9e3d708>,\n",
       " '늘어서': <gensim.models.keyedvectors.Vocab at 0x1e2f9e3d748>,\n",
       " '경로': <gensim.models.keyedvectors.Vocab at 0x1e2f9e3d788>,\n",
       " '어려움을': <gensim.models.keyedvectors.Vocab at 0x1e2f9e3d7c8>,\n",
       " '겪고': <gensim.models.keyedvectors.Vocab at 0x1e2f9e3d808>,\n",
       " '정부와': <gensim.models.keyedvectors.Vocab at 0x1e2f9e3d848>,\n",
       " '지지와': <gensim.models.keyedvectors.Vocab at 0x1e2f9e3d888>,\n",
       " '박수를': <gensim.models.keyedvectors.Vocab at 0x1e2f9e3d8c8>,\n",
       " '형법': <gensim.models.keyedvectors.Vocab at 0x1e2f9e3d908>,\n",
       " '조는': <gensim.models.keyedvectors.Vocab at 0x1e2f9e3d948>,\n",
       " '공무원': <gensim.models.keyedvectors.Vocab at 0x1e2f9e3d988>,\n",
       " '또는': <gensim.models.keyedvectors.Vocab at 0x1e2f9e3d9c8>,\n",
       " '자가': <gensim.models.keyedvectors.Vocab at 0x1e2f9e3da08>,\n",
       " '법령에': <gensim.models.keyedvectors.Vocab at 0x1e2f9e3da48>,\n",
       " '의한': <gensim.models.keyedvectors.Vocab at 0x1e2f9e3da88>,\n",
       " '직무상': <gensim.models.keyedvectors.Vocab at 0x1e2f9e3dac8>,\n",
       " '비밀을': <gensim.models.keyedvectors.Vocab at 0x1e2f9e3db08>,\n",
       " '것을': <gensim.models.keyedvectors.Vocab at 0x1e2f9e3db48>,\n",
       " '있는바': <gensim.models.keyedvectors.Vocab at 0x1e2f9e3db88>,\n",
       " '여기서': <gensim.models.keyedvectors.Vocab at 0x1e2f9e3dbc8>,\n",
       " '의하여': <gensim.models.keyedvectors.Vocab at 0x1e2f9e3dc08>,\n",
       " '비밀로': <gensim.models.keyedvectors.Vocab at 0x1e2f9e3dc48>,\n",
       " '분류': <gensim.models.keyedvectors.Vocab at 0x1e2f9e3dc88>,\n",
       " '명시된': <gensim.models.keyedvectors.Vocab at 0x1e2f9e3dcc8>,\n",
       " '사항에': <gensim.models.keyedvectors.Vocab at 0x1e2f9e3dd08>,\n",
       " '아니하고': <gensim.models.keyedvectors.Vocab at 0x1e2f9e3dd48>,\n",
       " '정치': <gensim.models.keyedvectors.Vocab at 0x1e2f9e3dd88>,\n",
       " '군사': <gensim.models.keyedvectors.Vocab at 0x1e2f9e3ddc8>,\n",
       " '외교': <gensim.models.keyedvectors.Vocab at 0x1e2f9e3de08>,\n",
       " '사회적': <gensim.models.keyedvectors.Vocab at 0x1e2f9e3de48>,\n",
       " '필요에': <gensim.models.keyedvectors.Vocab at 0x1e2f9e3de88>,\n",
       " '따라': <gensim.models.keyedvectors.Vocab at 0x1e2f9e3dec8>,\n",
       " '사항은': <gensim.models.keyedvectors.Vocab at 0x1e2f9e3df08>,\n",
       " '물론': <gensim.models.keyedvectors.Vocab at 0x1e2f9e3df48>,\n",
       " '정부나': <gensim.models.keyedvectors.Vocab at 0x1e2f9e3df88>,\n",
       " '객관적': <gensim.models.keyedvectors.Vocab at 0x1e2f9e3dfc8>,\n",
       " '일반적인': <gensim.models.keyedvectors.Vocab at 0x1e329941048>,\n",
       " '입장에서': <gensim.models.keyedvectors.Vocab at 0x1e329941088>,\n",
       " '외부에': <gensim.models.keyedvectors.Vocab at 0x1e3299410c8>,\n",
       " '알려지지': <gensim.models.keyedvectors.Vocab at 0x1e329941108>,\n",
       " '않는': <gensim.models.keyedvectors.Vocab at 0x1e329941148>,\n",
       " '이익이': <gensim.models.keyedvectors.Vocab at 0x1e329941188>,\n",
       " '사항도': <gensim.models.keyedvectors.Vocab at 0x1e3299411c8>,\n",
       " '실질적으로': <gensim.models.keyedvectors.Vocab at 0x1e329941208>,\n",
       " '그것을': <gensim.models.keyedvectors.Vocab at 0x1e329941248>,\n",
       " '보호할': <gensim.models.keyedvectors.Vocab at 0x1e329941288>,\n",
       " '가치가': <gensim.models.keyedvectors.Vocab at 0x1e3299412c8>,\n",
       " '인정할': <gensim.models.keyedvectors.Vocab at 0x1e329941308>,\n",
       " '한편': <gensim.models.keyedvectors.Vocab at 0x1e329941348>,\n",
       " '기밀': <gensim.models.keyedvectors.Vocab at 0x1e329941388>,\n",
       " '자체를': <gensim.models.keyedvectors.Vocab at 0x1e3299413c8>,\n",
       " '보호하는': <gensim.models.keyedvectors.Vocab at 0x1e329941408>,\n",
       " '공무원의': <gensim.models.keyedvectors.Vocab at 0x1e329941448>,\n",
       " '침해에': <gensim.models.keyedvectors.Vocab at 0x1e329941488>,\n",
       " '위험하게': <gensim.models.keyedvectors.Vocab at 0x1e3299414c8>,\n",
       " '이익': <gensim.models.keyedvectors.Vocab at 0x1e329941508>,\n",
       " '즉': <gensim.models.keyedvectors.Vocab at 0x1e329941548>,\n",
       " '위협받는': <gensim.models.keyedvectors.Vocab at 0x1e329941588>,\n",
       " '기능을': <gensim.models.keyedvectors.Vocab at 0x1e3299415c8>,\n",
       " '보호하기': <gensim.models.keyedvectors.Vocab at 0x1e329941608>,\n",
       " '것이다': <gensim.models.keyedvectors.Vocab at 0x1e329941648>,\n",
       " '위': <gensim.models.keyedvectors.Vocab at 0x1e329941688>,\n",
       " '침해하는': <gensim.models.keyedvectors.Vocab at 0x1e3299416c8>,\n",
       " '조의': <gensim.models.keyedvectors.Vocab at 0x1e329941708>,\n",
       " '비밀': <gensim.models.keyedvectors.Vocab at 0x1e329941748>,\n",
       " '해당합니다': <gensim.models.keyedvectors.Vocab at 0x1e329941788>,\n",
       " '오덕식': <gensim.models.keyedvectors.Vocab at 0x1e3299417c8>,\n",
       " '판사를': <gensim.models.keyedvectors.Vocab at 0x1e329941808>,\n",
       " '사건에서': <gensim.models.keyedvectors.Vocab at 0x1e329941848>,\n",
       " '제외시켜': <gensim.models.keyedvectors.Vocab at 0x1e329941888>,\n",
       " '사건의': <gensim.models.keyedvectors.Vocab at 0x1e3299418c8>,\n",
       " '판결과': <gensim.models.keyedvectors.Vocab at 0x1e329941908>,\n",
       " '고': <gensim.models.keyedvectors.Vocab at 0x1e329941948>,\n",
       " '대중들에게': <gensim.models.keyedvectors.Vocab at 0x1e329941988>,\n",
       " '화를': <gensim.models.keyedvectors.Vocab at 0x1e3299419c8>,\n",
       " '산': <gensim.models.keyedvectors.Vocab at 0x1e329941a08>,\n",
       " '후': <gensim.models.keyedvectors.Vocab at 0x1e329941a48>,\n",
       " ...}"
      ]
     },
     "execution_count": 13,
     "metadata": {},
     "output_type": "execute_result"
    }
   ],
   "source": [
    "model.wv.vocab"
   ]
  },
  {
   "cell_type": "code",
   "execution_count": 14,
   "metadata": {
    "colab": {},
    "colab_type": "code",
    "id": "xGVUHXD-RRYL"
   },
   "outputs": [],
   "source": [
    "from sklearn.model_selection import train_test_split\n",
    "doc_train, doc_test, y_train, y_test = train_test_split(data['summarize_'], data['sentiment'], test_size = 0.2 , random_state =42)"
   ]
  },
  {
   "cell_type": "code",
   "execution_count": 15,
   "metadata": {
    "colab": {},
    "colab_type": "code",
    "id": "3T9QDsAsRRYN"
   },
   "outputs": [],
   "source": [
    "import numpy as np"
   ]
  },
  {
   "cell_type": "code",
   "execution_count": 16,
   "metadata": {
    "colab": {
     "base_uri": "https://localhost:8080/",
     "height": 35
    },
    "colab_type": "code",
    "id": "sP6vzG1zRRYP",
    "outputId": "595db9da-68ed-4bd1-ed82-8c63403ae83c"
   },
   "outputs": [
    {
     "data": {
      "text/plain": [
       "(8000,)"
      ]
     },
     "execution_count": 16,
     "metadata": {},
     "output_type": "execute_result"
    }
   ],
   "source": [
    "doc_train.shape"
   ]
  },
  {
   "cell_type": "code",
   "execution_count": 17,
   "metadata": {
    "colab": {},
    "colab_type": "code",
    "id": "qtHtIOBkRRYS"
   },
   "outputs": [],
   "source": [
    "X_train = np.zeros((8000,100))\n",
    "\n",
    "for i, doc in enumerate(doc_train.iloc[0:7999]):\n",
    "    try:\n",
    "        vs = [model.wv[word]for word in find_hangul(doc)] \n",
    "    except:\n",
    "        vs = None\n",
    "    if vs:\n",
    "        X_train[i,] = np.mean(vs, axis=0)"
   ]
  },
  {
   "cell_type": "code",
   "execution_count": 18,
   "metadata": {
    "colab": {},
    "colab_type": "code",
    "id": "o1Def4FDRRYU"
   },
   "outputs": [],
   "source": [
    "X_test = np.zeros((2000,100))\n",
    "\n",
    "for i, doc in enumerate(doc_test.iloc[0:1999]):\n",
    "    try:\n",
    "        vs = [model.wv[word]for word in find_hangul(doc)] \n",
    "    except:\n",
    "        vs = None\n",
    "    if vs:\n",
    "        X_test[i,] = np.mean(vs, axis=0)"
   ]
  },
  {
   "cell_type": "code",
   "execution_count": 19,
   "metadata": {
    "colab": {},
    "colab_type": "code",
    "id": "4IFQgKHBRRYW"
   },
   "outputs": [],
   "source": [
    "import tensorflow as tf"
   ]
  },
  {
   "cell_type": "code",
   "execution_count": 50,
   "metadata": {
    "colab": {},
    "colab_type": "code",
    "id": "iyKGhiIgRRYY"
   },
   "outputs": [],
   "source": [
    "model = tf.keras.Sequential([\n",
    "    tf.keras.layers.Dense(1024, activation='relu', input_shape=(100,)),\n",
    "    tf.keras.layers.Dropout(0.3),\n",
    "    tf.keras.layers.Dense(512, activation='relu'),\n",
    "    tf.keras.layers.Dropout(0.2),\n",
    "    tf.keras.layers.Dense(256, activation='relu'),\n",
    "    tf.keras.layers.BatchNormalization(),\n",
    "    tf.keras.layers.Dense(128, activation='relu'),\n",
    "    tf.keras.layers.Dense(1, activation = 'sigmoid')\n",
    "])"
   ]
  },
  {
   "cell_type": "code",
   "execution_count": 51,
   "metadata": {},
   "outputs": [
    {
     "name": "stdout",
     "output_type": "stream",
     "text": [
      "Model: \"sequential_7\"\n",
      "_________________________________________________________________\n",
      "Layer (type)                 Output Shape              Param #   \n",
      "=================================================================\n",
      "dense_29 (Dense)             (None, 1024)              103424    \n",
      "_________________________________________________________________\n",
      "dropout_10 (Dropout)         (None, 1024)              0         \n",
      "_________________________________________________________________\n",
      "dense_30 (Dense)             (None, 512)               524800    \n",
      "_________________________________________________________________\n",
      "dropout_11 (Dropout)         (None, 512)               0         \n",
      "_________________________________________________________________\n",
      "dense_31 (Dense)             (None, 256)               131328    \n",
      "_________________________________________________________________\n",
      "batch_normalization_3 (Batch (None, 256)               1024      \n",
      "_________________________________________________________________\n",
      "dense_32 (Dense)             (None, 128)               32896     \n",
      "_________________________________________________________________\n",
      "dense_33 (Dense)             (None, 1)                 129       \n",
      "=================================================================\n",
      "Total params: 793,601\n",
      "Trainable params: 793,089\n",
      "Non-trainable params: 512\n",
      "_________________________________________________________________\n"
     ]
    }
   ],
   "source": [
    "model.summary()"
   ]
  },
  {
   "cell_type": "code",
   "execution_count": 41,
   "metadata": {
    "colab": {},
    "colab_type": "code",
    "id": "zNhAwJFkRRYZ"
   },
   "outputs": [],
   "source": [
    "model.compile(loss = 'binary_crossentropy', optimizer = 'adam', metrics = ['accuracy'])"
   ]
  },
  {
   "cell_type": "code",
   "execution_count": 28,
   "metadata": {
    "colab": {
     "base_uri": "https://localhost:8080/",
     "height": 145
    },
    "colab_type": "code",
    "id": "bssNjmN_RRYb",
    "outputId": "ab02a285-a6fb-46c1-b85f-da515199249e"
   },
   "outputs": [
    {
     "name": "stdout",
     "output_type": "stream",
     "text": [
      "Train on 8000 samples, validate on 2000 samples\n",
      "Epoch 1/100\n",
      "8000/8000 [==============================] - 3s 331us/sample - loss: 0.6197 - accuracy: 0.6625 - val_loss: 0.6319 - val_accuracy: 0.6515\n",
      "Epoch 2/100\n",
      "8000/8000 [==============================] - 2s 258us/sample - loss: 0.6023 - accuracy: 0.6793 - val_loss: 0.6112 - val_accuracy: 0.6695\n",
      "Epoch 3/100\n",
      "8000/8000 [==============================] - 2s 252us/sample - loss: 0.5760 - accuracy: 0.6981 - val_loss: 0.5588 - val_accuracy: 0.7055\n",
      "Epoch 4/100\n",
      "8000/8000 [==============================] - 2s 249us/sample - loss: 0.5705 - accuracy: 0.7088 - val_loss: 0.6146 - val_accuracy: 0.6770\n"
     ]
    }
   ],
   "source": [
    "history = model.fit(X_train, y_train.values, epochs = 100, validation_data = (X_test,y_test.values), callbacks = [tf.keras.callbacks.EarlyStopping()])"
   ]
  },
  {
   "cell_type": "code",
   "execution_count": 29,
   "metadata": {
    "colab": {
     "base_uri": "https://localhost:8080/",
     "height": 279
    },
    "colab_type": "code",
    "id": "-pr-eJicRRYe",
    "outputId": "d8e40274-44b2-4d55-8afb-c09954a60d37"
   },
   "outputs": [
    {
     "data": {
      "image/png": "[encoded data removed]",
      "text/plain": [
       "<Figure size 432x288 with 1 Axes>"
      ]
     },
     "metadata": {
      "needs_background": "light"
     },
     "output_type": "display_data"
    }
   ],
   "source": [
    "plt.plot(history.history[\"accuracy\"], label=\"train acc\")\n",
    "plt.plot(history.history[\"val_accuracy\"], label=\"validation acc \")\n",
    "plt.legend()\n",
    "plt.title(\"Acc\")\n",
    "plt.show()"
   ]
  },
  {
   "cell_type": "code",
   "execution_count": 30,
   "metadata": {
    "colab": {
     "base_uri": "https://localhost:8080/",
     "height": 53
    },
    "colab_type": "code",
    "id": "g3AsSeVtRRYg",
    "outputId": "89968483-3a8f-4bd9-d721-2d0d1a7dcca1"
   },
   "outputs": [
    {
     "name": "stdout",
     "output_type": "stream",
     "text": [
      "2000/2000 [==============================] - 0s 75us/sample - loss: 0.6146 - accuracy: 0.6770\n"
     ]
    },
    {
     "data": {
      "text/plain": [
       "[0.6146353623867035, 0.677]"
      ]
     },
     "execution_count": 30,
     "metadata": {},
     "output_type": "execute_result"
    }
   ],
   "source": [
    "model.evaluate(X_test, y_test)"
   ]
  },
  {
   "cell_type": "markdown",
   "metadata": {
    "colab_type": "text",
    "id": "haoPOLIORRYi"
   },
   "source": [
    "## LSTM"
   ]
  },
  {
   "cell_type": "code",
   "execution_count": 32,
   "metadata": {
    "colab": {},
    "colab_type": "code",
    "id": "G8CA01QWRRYj"
   },
   "outputs": [],
   "source": [
    "data['summarize_'] = data['summarize_'].astype('str')"
   ]
  },
  {
   "cell_type": "code",
   "execution_count": 34,
   "metadata": {
    "colab": {},
    "colab_type": "code",
    "id": "ErdbxaKtRRYk"
   },
   "outputs": [],
   "source": [
    "import joblib\n",
    "tk = joblib.load('tokenizer.pkl')"
   ]
  },
  {
   "cell_type": "code",
   "execution_count": 81,
   "metadata": {
    "colab": {},
    "colab_type": "code",
    "id": "cnlPLj0jRRYm"
   },
   "outputs": [],
   "source": [
    "seqs = tk.texts_to_sequences(data['summarize_'])"
   ]
  },
  {
   "cell_type": "code",
   "execution_count": 82,
   "metadata": {
    "colab": {},
    "colab_type": "code",
    "id": "8I4VxaNPRRYo"
   },
   "outputs": [],
   "source": [
    "pads = tf.keras.preprocessing.sequence.pad_sequences(seqs, maxlen=None, padding='pre', truncating='pre')"
   ]
  },
  {
   "cell_type": "code",
   "execution_count": 83,
   "metadata": {
    "colab": {},
    "colab_type": "code",
    "id": "MrIQ55WiRRYr"
   },
   "outputs": [],
   "source": [
    "X_train, X_test, y_train, y_test = train_test_split(pads, data['sentiment'], test_size=0.2, random_state=42)\n"
   ]
  },
  {
   "cell_type": "code",
   "execution_count": 84,
   "metadata": {
    "colab": {},
    "colab_type": "code",
    "id": "zO4xGqwqRRYu"
   },
   "outputs": [],
   "source": [
    "NUM_WORDS= tk.num_words + 1\n",
    "\n",
    "model = tf.keras.Sequential([\n",
    "    tf.keras.layers.Embedding(NUM_WORDS, 8, mask_zero=True),\n",
    "    tf.keras.layers.LSTM(8),\n",
    "    tf.keras.layers.Dense(1, activation='sigmoid')\n",
    "])"
   ]
  },
  {
   "cell_type": "code",
   "execution_count": 85,
   "metadata": {
    "colab": {
     "base_uri": "https://localhost:8080/",
     "height": 269
    },
    "colab_type": "code",
    "id": "D-AjQV7GRRYx",
    "outputId": "16653e10-543f-4144-f8b4-f25cabc2a630"
   },
   "outputs": [
    {
     "name": "stdout",
     "output_type": "stream",
     "text": [
      "Model: \"sequential_6\"\n",
      "_________________________________________________________________\n",
      "Layer (type)                 Output Shape              Param #   \n",
      "=================================================================\n",
      "embedding_3 (Embedding)      (None, None, 8)           16008     \n",
      "_________________________________________________________________\n",
      "lstm_1 (LSTM)                (None, 8)                 544       \n",
      "_________________________________________________________________\n",
      "dense_14 (Dense)             (None, 1)                 9         \n",
      "=================================================================\n",
      "Total params: 16,561\n",
      "Trainable params: 16,561\n",
      "Non-trainable params: 0\n",
      "_________________________________________________________________\n"
     ]
    }
   ],
   "source": [
    "model.summary()"
   ]
  },
  {
   "cell_type": "code",
   "execution_count": 86,
   "metadata": {
    "colab": {},
    "colab_type": "code",
    "id": "3X8o0RpsRRY0"
   },
   "outputs": [],
   "source": [
    "model.compile(loss='binary_crossentropy', optimizer='adam',metrics=['accuracy'])"
   ]
  },
  {
   "cell_type": "code",
   "execution_count": 87,
   "metadata": {
    "colab": {
     "base_uri": "https://localhost:8080/",
     "height": 397
    },
    "colab_type": "code",
    "id": "JYREwns8RRY1",
    "outputId": "ca65f2c9-efce-40e6-80db-1ad662bc3f87",
    "scrolled": true
   },
   "outputs": [
    {
     "name": "stdout",
     "output_type": "stream",
     "text": [
      "Epoch 1/10\n",
      "16/16 [==============================] - 117s 7s/step - loss: 0.6933 - accuracy: 0.4919 - val_loss: 0.6927 - val_accuracy: 0.5150\n",
      "Epoch 2/10\n",
      "16/16 [==============================] - 115s 7s/step - loss: 0.6921 - accuracy: 0.5490 - val_loss: 0.6917 - val_accuracy: 0.5695\n",
      "Epoch 3/10\n",
      "16/16 [==============================] - 117s 7s/step - loss: 0.6905 - accuracy: 0.5957 - val_loss: 0.6898 - val_accuracy: 0.5795\n",
      "Epoch 4/10\n",
      "16/16 [==============================] - 117s 7s/step - loss: 0.6874 - accuracy: 0.6211 - val_loss: 0.6856 - val_accuracy: 0.6015\n",
      "Epoch 5/10\n",
      "16/16 [==============================] - 115s 7s/step - loss: 0.6803 - accuracy: 0.6386 - val_loss: 0.6750 - val_accuracy: 0.6300\n",
      "Epoch 6/10\n",
      "16/16 [==============================] - 115s 7s/step - loss: 0.6543 - accuracy: 0.6683 - val_loss: 0.6297 - val_accuracy: 0.6805\n",
      "Epoch 7/10\n",
      "16/16 [==============================] - 114s 7s/step - loss: 0.6211 - accuracy: 0.6831 - val_loss: 0.6105 - val_accuracy: 0.7000\n",
      "Epoch 8/10\n",
      "16/16 [==============================] - 114s 7s/step - loss: 0.5985 - accuracy: 0.7089 - val_loss: 0.6017 - val_accuracy: 0.7045\n",
      "Epoch 9/10\n",
      "16/16 [==============================] - 114s 7s/step - loss: 0.5762 - accuracy: 0.7280 - val_loss: 0.5880 - val_accuracy: 0.7175\n",
      "Epoch 10/10\n",
      "16/16 [==============================] - 114s 7s/step - loss: 0.5583 - accuracy: 0.7400 - val_loss: 0.5877 - val_accuracy: 0.7110\n"
     ]
    }
   ],
   "source": [
    "history = model.fit(X_train, y_train.values, epochs=10, batch_size=512, validation_data =(X_test,y_test))"
   ]
  },
  {
   "cell_type": "code",
   "execution_count": 88,
   "metadata": {
    "colab": {
     "base_uri": "https://localhost:8080/",
     "height": 279
    },
    "colab_type": "code",
    "id": "97vRvlLRRRY6",
    "outputId": "ec3ee37e-f9d8-49a2-8dbb-50eba61ab81e"
   },
   "outputs": [
    {
     "data": {
      "image/png": "[encoded data removed]",
      "text/plain": [
       "<Figure size 432x288 with 1 Axes>"
      ]
     },
     "metadata": {
      "needs_background": "light",
      "tags": []
     },
     "output_type": "display_data"
    }
   ],
   "source": [
    "plt.plot(history.history[\"accuracy\"], label=\"train acc\")\n",
    "plt.plot(history.history[\"val_accuracy\"], label=\"validation acc \")\n",
    "plt.legend()\n",
    "plt.title(\"Acc\")\n",
    "plt.show()"
   ]
  },
  {
   "cell_type": "code",
   "execution_count": 89,
   "metadata": {
    "colab": {
     "base_uri": "https://localhost:8080/",
     "height": 53
    },
    "colab_type": "code",
    "id": "LfnPqEvcRRY9",
    "outputId": "6554f1c4-4d6b-463b-8e0f-3003020b20c4"
   },
   "outputs": [
    {
     "name": "stdout",
     "output_type": "stream",
     "text": [
      "63/63 [==============================] - 33s 528ms/step - loss: 0.5877 - accuracy: 0.7110\n"
     ]
    },
    {
     "data": {
      "text/plain": [
       "[0.5876666307449341, 0.7110000252723694]"
      ]
     },
     "execution_count": 89,
     "metadata": {
      "tags": []
     },
     "output_type": "execute_result"
    }
   ],
   "source": [
    "model.evaluate(X_test, y_test)"
   ]
  },
  {
   "cell_type": "markdown",
   "metadata": {
    "colab_type": "text",
    "id": "XAHv2BbhRRZA"
   },
   "source": [
    "#  전이학습"
   ]
  },
  {
   "cell_type": "code",
   "execution_count": 36,
   "metadata": {
    "colab": {},
    "colab_type": "code",
    "id": "I2TYUgU9RRZA"
   },
   "outputs": [],
   "source": [
    "e = np.load('word-emb.npz')['emb']"
   ]
  },
  {
   "cell_type": "code",
   "execution_count": 38,
   "metadata": {
    "colab": {},
    "colab_type": "code",
    "id": "wo65_NI2RRZC"
   },
   "outputs": [],
   "source": [
    "NUM_WORDS= tk.num_words + 1\n",
    "\n",
    "emb2  = tf.keras.Sequential([\n",
    "    tf.keras.layers.Embedding(input_dim = tk.num_words +1,\n",
    "                              output_dim=8,\n",
    "                              embeddings_initializer= tf.keras.initializers.Constant(e))\n",
    "])\n",
    "\n",
    "\n",
    "model = tf.keras.Sequential([\n",
    "    emb2,\n",
    "    tf.keras.layers.Dense(512, activation='relu'),\n",
    "    tf.keras.layers.GlobalAveragePooling1D(),\n",
    "    tf.keras.layers.Dense(256, activation='relu'),\n",
    "    tf.keras.layers.Dropout(0.2),\n",
    "    tf.keras.layers.Dense(128, activation='relu'),\n",
    "    tf.keras.layers.Dense(1, activation='sigmoid')\n",
    "])"
   ]
  },
  {
   "cell_type": "code",
   "execution_count": 39,
   "metadata": {
    "colab": {
     "base_uri": "https://localhost:8080/",
     "height": 305
    },
    "colab_type": "code",
    "id": "ZbjJpG9xRRZD",
    "outputId": "90e6921b-a91e-4cac-dff8-0414a791aafe"
   },
   "outputs": [
    {
     "name": "stdout",
     "output_type": "stream",
     "text": [
      "Model: \"sequential_4\"\n",
      "_________________________________________________________________\n",
      "Layer (type)                 Output Shape              Param #   \n",
      "=================================================================\n",
      "sequential_3 (Sequential)    (None, None, 8)           16008     \n",
      "_________________________________________________________________\n",
      "dense_15 (Dense)             (None, None, 512)         4608      \n",
      "_________________________________________________________________\n",
      "global_average_pooling1d_1 ( (None, 512)               0         \n",
      "_________________________________________________________________\n",
      "dense_16 (Dense)             (None, 256)               131328    \n",
      "_________________________________________________________________\n",
      "dropout_5 (Dropout)          (None, 256)               0         \n",
      "_________________________________________________________________\n",
      "dense_17 (Dense)             (None, 128)               32896     \n",
      "_________________________________________________________________\n",
      "dense_18 (Dense)             (None, 1)                 129       \n",
      "=================================================================\n",
      "Total params: 184,969\n",
      "Trainable params: 184,969\n",
      "Non-trainable params: 0\n",
      "_________________________________________________________________\n"
     ]
    }
   ],
   "source": [
    "model.summary()"
   ]
  },
  {
   "cell_type": "code",
   "execution_count": 93,
   "metadata": {
    "colab": {},
    "colab_type": "code",
    "id": "lH_EaQ-0RRZF"
   },
   "outputs": [],
   "source": [
    "model.compile(loss='binary_crossentropy', optimizer='adam',metrics=['accuracy'])"
   ]
  },
  {
   "cell_type": "code",
   "execution_count": 94,
   "metadata": {
    "colab": {
     "base_uri": "https://localhost:8080/",
     "height": 1000
    },
    "colab_type": "code",
    "id": "zE-Qz1JzRRZH",
    "outputId": "1cdc0a42-6de1-47c8-d471-422b3dfd45a7"
   },
   "outputs": [
    {
     "name": "stdout",
     "output_type": "stream",
     "text": [
      "Epoch 1/50\n",
      "16/16 [==============================] - 1s 82ms/step - loss: 0.6893 - accuracy: 0.5390 - val_loss: 0.6875 - val_accuracy: 0.6460\n",
      "Epoch 2/50\n",
      "16/16 [==============================] - 1s 76ms/step - loss: 0.6877 - accuracy: 0.6528 - val_loss: 0.6865 - val_accuracy: 0.6720\n",
      "Epoch 3/50\n",
      "16/16 [==============================] - 1s 77ms/step - loss: 0.6867 - accuracy: 0.6381 - val_loss: 0.6854 - val_accuracy: 0.6725\n",
      "Epoch 4/50\n",
      "16/16 [==============================] - 1s 76ms/step - loss: 0.6856 - accuracy: 0.6536 - val_loss: 0.6841 - val_accuracy: 0.6740\n",
      "Epoch 5/50\n",
      "16/16 [==============================] - 1s 76ms/step - loss: 0.6844 - accuracy: 0.6560 - val_loss: 0.6829 - val_accuracy: 0.6715\n",
      "Epoch 6/50\n",
      "16/16 [==============================] - 1s 77ms/step - loss: 0.6832 - accuracy: 0.6547 - val_loss: 0.6815 - val_accuracy: 0.6715\n",
      "Epoch 7/50\n",
      "16/16 [==============================] - 1s 78ms/step - loss: 0.6819 - accuracy: 0.6561 - val_loss: 0.6801 - val_accuracy: 0.6725\n",
      "Epoch 8/50\n",
      "16/16 [==============================] - 1s 76ms/step - loss: 0.6805 - accuracy: 0.6575 - val_loss: 0.6787 - val_accuracy: 0.6720\n",
      "Epoch 9/50\n",
      "16/16 [==============================] - 1s 79ms/step - loss: 0.6792 - accuracy: 0.6574 - val_loss: 0.6771 - val_accuracy: 0.6735\n",
      "Epoch 10/50\n",
      "16/16 [==============================] - 1s 77ms/step - loss: 0.6779 - accuracy: 0.6550 - val_loss: 0.6756 - val_accuracy: 0.6745\n",
      "Epoch 11/50\n",
      "16/16 [==============================] - 1s 77ms/step - loss: 0.6763 - accuracy: 0.6575 - val_loss: 0.6741 - val_accuracy: 0.6740\n",
      "Epoch 12/50\n",
      "16/16 [==============================] - 1s 76ms/step - loss: 0.6748 - accuracy: 0.6579 - val_loss: 0.6724 - val_accuracy: 0.6735\n",
      "Epoch 13/50\n",
      "16/16 [==============================] - 1s 77ms/step - loss: 0.6734 - accuracy: 0.6560 - val_loss: 0.6708 - val_accuracy: 0.6735\n",
      "Epoch 14/50\n",
      "16/16 [==============================] - 1s 77ms/step - loss: 0.6717 - accuracy: 0.6584 - val_loss: 0.6691 - val_accuracy: 0.6735\n",
      "Epoch 15/50\n",
      "16/16 [==============================] - 1s 77ms/step - loss: 0.6701 - accuracy: 0.6585 - val_loss: 0.6674 - val_accuracy: 0.6740\n",
      "Epoch 16/50\n",
      "16/16 [==============================] - 1s 77ms/step - loss: 0.6685 - accuracy: 0.6572 - val_loss: 0.6655 - val_accuracy: 0.6735\n",
      "Epoch 17/50\n",
      "16/16 [==============================] - 1s 77ms/step - loss: 0.6669 - accuracy: 0.6569 - val_loss: 0.6640 - val_accuracy: 0.6750\n",
      "Epoch 18/50\n",
      "16/16 [==============================] - 1s 77ms/step - loss: 0.6652 - accuracy: 0.6587 - val_loss: 0.6620 - val_accuracy: 0.6740\n",
      "Epoch 19/50\n",
      "16/16 [==============================] - 1s 77ms/step - loss: 0.6636 - accuracy: 0.6576 - val_loss: 0.6604 - val_accuracy: 0.6755\n",
      "Epoch 20/50\n",
      "16/16 [==============================] - 1s 77ms/step - loss: 0.6621 - accuracy: 0.6572 - val_loss: 0.6585 - val_accuracy: 0.6735\n",
      "Epoch 21/50\n",
      "16/16 [==============================] - 1s 78ms/step - loss: 0.6606 - accuracy: 0.6580 - val_loss: 0.6571 - val_accuracy: 0.6755\n",
      "Epoch 22/50\n",
      "16/16 [==============================] - 1s 78ms/step - loss: 0.6589 - accuracy: 0.6585 - val_loss: 0.6551 - val_accuracy: 0.6745\n",
      "Epoch 23/50\n",
      "16/16 [==============================] - 1s 77ms/step - loss: 0.6574 - accuracy: 0.6584 - val_loss: 0.6536 - val_accuracy: 0.6760\n",
      "Epoch 24/50\n",
      "16/16 [==============================] - 1s 77ms/step - loss: 0.6558 - accuracy: 0.6605 - val_loss: 0.6517 - val_accuracy: 0.6760\n",
      "Epoch 25/50\n",
      "16/16 [==============================] - 1s 77ms/step - loss: 0.6545 - accuracy: 0.6596 - val_loss: 0.6501 - val_accuracy: 0.6765\n",
      "Epoch 26/50\n",
      "16/16 [==============================] - 1s 77ms/step - loss: 0.6529 - accuracy: 0.6581 - val_loss: 0.6489 - val_accuracy: 0.6760\n",
      "Epoch 27/50\n",
      "16/16 [==============================] - 1s 77ms/step - loss: 0.6518 - accuracy: 0.6553 - val_loss: 0.6470 - val_accuracy: 0.6765\n",
      "Epoch 28/50\n",
      "16/16 [==============================] - 1s 77ms/step - loss: 0.6502 - accuracy: 0.6603 - val_loss: 0.6459 - val_accuracy: 0.6775\n",
      "Epoch 29/50\n",
      "16/16 [==============================] - 1s 77ms/step - loss: 0.6489 - accuracy: 0.6596 - val_loss: 0.6441 - val_accuracy: 0.6745\n",
      "Epoch 30/50\n",
      "16/16 [==============================] - 1s 77ms/step - loss: 0.6476 - accuracy: 0.6611 - val_loss: 0.6428 - val_accuracy: 0.6780\n",
      "Epoch 31/50\n",
      "16/16 [==============================] - 1s 77ms/step - loss: 0.6466 - accuracy: 0.6581 - val_loss: 0.6418 - val_accuracy: 0.6780\n",
      "Epoch 32/50\n",
      "16/16 [==============================] - 1s 78ms/step - loss: 0.6455 - accuracy: 0.6576 - val_loss: 0.6401 - val_accuracy: 0.6780\n",
      "Epoch 33/50\n",
      "16/16 [==============================] - 1s 77ms/step - loss: 0.6442 - accuracy: 0.6612 - val_loss: 0.6395 - val_accuracy: 0.6765\n",
      "Epoch 34/50\n",
      "16/16 [==============================] - 1s 78ms/step - loss: 0.6430 - accuracy: 0.6618 - val_loss: 0.6376 - val_accuracy: 0.6755\n",
      "Epoch 35/50\n",
      "16/16 [==============================] - 1s 77ms/step - loss: 0.6422 - accuracy: 0.6610 - val_loss: 0.6365 - val_accuracy: 0.6765\n",
      "Epoch 36/50\n",
      "16/16 [==============================] - 1s 77ms/step - loss: 0.6418 - accuracy: 0.6615 - val_loss: 0.6368 - val_accuracy: 0.6725\n"
     ]
    }
   ],
   "source": [
    "history = model.fit(X_train, y_train.values, epochs=50, batch_size=512, validation_data =(X_test,y_test), callbacks = [tf.keras.callbacks.EarlyStopping()])"
   ]
  },
  {
   "cell_type": "code",
   "execution_count": 95,
   "metadata": {
    "colab": {
     "base_uri": "https://localhost:8080/",
     "height": 279
    },
    "colab_type": "code",
    "id": "vpeGUTlLRRZJ",
    "outputId": "654af751-3cee-4d3d-b0a3-92a1f54938f3"
   },
   "outputs": [
    {
     "data": {
      "image/png": "[encoded data removed]",
      "text/plain": [
       "<Figure size 432x288 with 1 Axes>"
      ]
     },
     "metadata": {
      "needs_background": "light",
      "tags": []
     },
     "output_type": "display_data"
    }
   ],
   "source": [
    "plt.plot(history.history[\"accuracy\"], label=\"train acc\")\n",
    "plt.plot(history.history[\"val_accuracy\"], label=\"validation acc \")\n",
    "plt.legend()\n",
    "plt.title(\"Acc\")\n",
    "plt.show()"
   ]
  },
  {
   "cell_type": "code",
   "execution_count": 96,
   "metadata": {
    "colab": {
     "base_uri": "https://localhost:8080/",
     "height": 53
    },
    "colab_type": "code",
    "id": "zenTotMzRRZL",
    "outputId": "79227cb8-4921-470f-8879-f3222b37533d"
   },
   "outputs": [
    {
     "name": "stdout",
     "output_type": "stream",
     "text": [
      "63/63 [==============================] - 0s 3ms/step - loss: 0.6368 - accuracy: 0.6725\n"
     ]
    },
    {
     "data": {
      "text/plain": [
       "[0.6368385553359985, 0.6725000143051147]"
      ]
     },
     "execution_count": 96,
     "metadata": {
      "tags": []
     },
     "output_type": "execute_result"
    }
   ],
   "source": [
    "model.evaluate(X_test, y_test)"
   ]
  },
  {
   "cell_type": "markdown",
   "metadata": {
    "colab_type": "text",
    "id": "4C05kkAHRRZN"
   },
   "source": [
    "# conv1d"
   ]
  },
  {
   "cell_type": "code",
   "execution_count": 97,
   "metadata": {
    "colab": {},
    "colab_type": "code",
    "id": "tR8viNuCRRZN"
   },
   "outputs": [],
   "source": [
    "model =tf.keras.Sequential([\n",
    "    tf.keras.layers.Embedding(NUM_WORDS, 8, input_length = 3718),\n",
    "    tf.keras.layers.Conv1D(3, 3),\n",
    "    tf.keras.layers.MaxPool1D(5),\n",
    "    tf.keras.layers.Conv1D(3, 3),\n",
    "    tf.keras.layers.MaxPool1D(5),\n",
    "    tf.keras.layers.Flatten(),\n",
    "    tf.keras.layers.Dense(1, activation='sigmoid')\n",
    "])"
   ]
  },
  {
   "cell_type": "code",
   "execution_count": 98,
   "metadata": {
    "colab": {
     "base_uri": "https://localhost:8080/",
     "height": 413
    },
    "colab_type": "code",
    "id": "W_iZAYt-RRZP",
    "outputId": "b7b59b3a-be65-4374-8872-112e5d7bf221"
   },
   "outputs": [
    {
     "name": "stdout",
     "output_type": "stream",
     "text": [
      "Model: \"sequential_9\"\n",
      "_________________________________________________________________\n",
      "Layer (type)                 Output Shape              Param #   \n",
      "=================================================================\n",
      "embedding_5 (Embedding)      (None, 3718, 8)           16008     \n",
      "_________________________________________________________________\n",
      "conv1d_2 (Conv1D)            (None, 3716, 3)           75        \n",
      "_________________________________________________________________\n",
      "max_pooling1d_2 (MaxPooling1 (None, 743, 3)            0         \n",
      "_________________________________________________________________\n",
      "conv1d_3 (Conv1D)            (None, 741, 3)            30        \n",
      "_________________________________________________________________\n",
      "max_pooling1d_3 (MaxPooling1 (None, 148, 3)            0         \n",
      "_________________________________________________________________\n",
      "flatten_1 (Flatten)          (None, 444)               0         \n",
      "_________________________________________________________________\n",
      "dense_17 (Dense)             (None, 1)                 445       \n",
      "=================================================================\n",
      "Total params: 16,558\n",
      "Trainable params: 16,558\n",
      "Non-trainable params: 0\n",
      "_________________________________________________________________\n"
     ]
    }
   ],
   "source": [
    "model.summary()"
   ]
  },
  {
   "cell_type": "code",
   "execution_count": 99,
   "metadata": {
    "colab": {},
    "colab_type": "code",
    "id": "2pTWTy1qRRZS"
   },
   "outputs": [],
   "source": [
    "model.compile(loss = 'binary_crossentropy', optimizer = 'adam', metrics = ['accuracy'])"
   ]
  },
  {
   "cell_type": "code",
   "execution_count": 130,
   "metadata": {
    "colab": {
     "base_uri": "https://localhost:8080/",
     "height": 577
    },
    "colab_type": "code",
    "id": "MnxfRaHeRRZV",
    "outputId": "25523a5b-63d0-4291-8446-a6031314ca69"
   },
   "outputs": [
    {
     "name": "stdout",
     "output_type": "stream",
     "text": [
      "Epoch 1/50\n",
      "16/16 [==============================] - 1s 86ms/step - loss: 0.5971 - accuracy: 0.6718 - val_loss: 0.5971 - val_accuracy: 0.6850\n",
      "Epoch 2/50\n",
      "16/16 [==============================] - 1s 88ms/step - loss: 0.5933 - accuracy: 0.6779 - val_loss: 0.5890 - val_accuracy: 0.6865\n",
      "Epoch 3/50\n",
      "16/16 [==============================] - 1s 90ms/step - loss: 0.5888 - accuracy: 0.6802 - val_loss: 0.5848 - val_accuracy: 0.6885\n",
      "Epoch 4/50\n",
      "16/16 [==============================] - 1s 90ms/step - loss: 0.5805 - accuracy: 0.6836 - val_loss: 0.5798 - val_accuracy: 0.6905\n",
      "Epoch 5/50\n",
      "16/16 [==============================] - 1s 90ms/step - loss: 0.5703 - accuracy: 0.6873 - val_loss: 0.5740 - val_accuracy: 0.6925\n",
      "Epoch 6/50\n",
      "16/16 [==============================] - 1s 91ms/step - loss: 0.5617 - accuracy: 0.6955 - val_loss: 0.5687 - val_accuracy: 0.6980\n",
      "Epoch 7/50\n",
      "16/16 [==============================] - 1s 86ms/step - loss: 0.5521 - accuracy: 0.7079 - val_loss: 0.5629 - val_accuracy: 0.7065\n",
      "Epoch 8/50\n",
      "16/16 [==============================] - 1s 85ms/step - loss: 0.5428 - accuracy: 0.7232 - val_loss: 0.5572 - val_accuracy: 0.7135\n",
      "Epoch 9/50\n",
      "16/16 [==============================] - 1s 84ms/step - loss: 0.5320 - accuracy: 0.7325 - val_loss: 0.5528 - val_accuracy: 0.7185\n",
      "Epoch 10/50\n",
      "16/16 [==============================] - 1s 84ms/step - loss: 0.5234 - accuracy: 0.7445 - val_loss: 0.5472 - val_accuracy: 0.7200\n",
      "Epoch 11/50\n",
      "16/16 [==============================] - 1s 86ms/step - loss: 0.5120 - accuracy: 0.7491 - val_loss: 0.5439 - val_accuracy: 0.7160\n",
      "Epoch 12/50\n",
      "16/16 [==============================] - 1s 84ms/step - loss: 0.5010 - accuracy: 0.7601 - val_loss: 0.5410 - val_accuracy: 0.7190\n",
      "Epoch 13/50\n",
      "16/16 [==============================] - 1s 86ms/step - loss: 0.4897 - accuracy: 0.7714 - val_loss: 0.5399 - val_accuracy: 0.7200\n",
      "Epoch 14/50\n",
      "16/16 [==============================] - 1s 91ms/step - loss: 0.4798 - accuracy: 0.7778 - val_loss: 0.5399 - val_accuracy: 0.7250\n",
      "Epoch 15/50\n",
      "16/16 [==============================] - 1s 90ms/step - loss: 0.4699 - accuracy: 0.7846 - val_loss: 0.5407 - val_accuracy: 0.7240\n"
     ]
    }
   ],
   "source": [
    "history = model.fit(X_train, y_train, epochs=50, batch_size=512, validation_data =(X_test,y_test), callbacks = [tf.keras.callbacks.EarlyStopping()])"
   ]
  },
  {
   "cell_type": "code",
   "execution_count": 101,
   "metadata": {
    "colab": {
     "base_uri": "https://localhost:8080/",
     "height": 279
    },
    "colab_type": "code",
    "id": "DeBzmJzKRRZW",
    "outputId": "f82e3967-1810-46f5-a60f-fb70ef001ca2"
   },
   "outputs": [
    {
     "data": {
      "image/png": "[encoded data removed]",
      "text/plain": [
       "<Figure size 432x288 with 1 Axes>"
      ]
     },
     "metadata": {
      "needs_background": "light",
      "tags": []
     },
     "output_type": "display_data"
    }
   ],
   "source": [
    "plt.plot(history.history[\"accuracy\"], label=\"train acc\")\n",
    "plt.plot(history.history[\"val_accuracy\"], label=\"validation acc \")\n",
    "plt.legend()\n",
    "plt.title(\"Acc\")\n",
    "plt.show()"
   ]
  },
  {
   "cell_type": "code",
   "execution_count": 102,
   "metadata": {
    "colab": {
     "base_uri": "https://localhost:8080/",
     "height": 53
    },
    "colab_type": "code",
    "id": "gHkREnlCRRZZ",
    "outputId": "96eec2b1-0060-4e15-c995-970390c6b145"
   },
   "outputs": [
    {
     "name": "stdout",
     "output_type": "stream",
     "text": [
      "63/63 [==============================] - 0s 4ms/step - loss: 0.6032 - accuracy: 0.6805\n"
     ]
    },
    {
     "data": {
      "text/plain": [
       "[0.6031667590141296, 0.6804999709129333]"
      ]
     },
     "execution_count": 102,
     "metadata": {
      "tags": []
     },
     "output_type": "execute_result"
    }
   ],
   "source": [
    "model.evaluate(X_test, y_test)"
   ]
  },
  {
   "cell_type": "code",
   "execution_count": 106,
   "metadata": {
    "colab": {},
    "colab_type": "code",
    "id": "UWc30OERRRZb"
   },
   "outputs": [],
   "source": [
    "# conv1d에 대해서  hyper opt 진행"
   ]
  },
  {
   "cell_type": "code",
   "execution_count": 105,
   "metadata": {
    "colab": {
     "base_uri": "https://localhost:8080/",
     "height": 199
    },
    "colab_type": "code",
    "id": "rJGfIo1AmayO",
    "outputId": "d40f5aab-96ca-4698-baf9-0ef3f54028f0"
   },
   "outputs": [
    {
     "name": "stdout",
     "output_type": "stream",
     "text": [
      "Requirement already satisfied: hyperopt in /usr/local/lib/python3.6/dist-packages (0.1.2)\n",
      "Requirement already satisfied: scipy in /usr/local/lib/python3.6/dist-packages (from hyperopt) (1.4.1)\n",
      "Requirement already satisfied: future in /usr/local/lib/python3.6/dist-packages (from hyperopt) (0.16.0)\n",
      "Requirement already satisfied: pymongo in /usr/local/lib/python3.6/dist-packages (from hyperopt) (3.10.1)\n",
      "Requirement already satisfied: tqdm in /usr/local/lib/python3.6/dist-packages (from hyperopt) (4.41.1)\n",
      "Requirement already satisfied: numpy in /usr/local/lib/python3.6/dist-packages (from hyperopt) (1.18.5)\n",
      "Requirement already satisfied: networkx in /usr/local/lib/python3.6/dist-packages (from hyperopt) (2.4)\n",
      "Requirement already satisfied: six in /usr/local/lib/python3.6/dist-packages (from hyperopt) (1.12.0)\n",
      "Requirement already satisfied: decorator>=4.3.0 in /usr/local/lib/python3.6/dist-packages (from networkx->hyperopt) (4.4.2)\n"
     ]
    }
   ],
   "source": [
    "!pip install hyperopt"
   ]
  },
  {
   "cell_type": "code",
   "execution_count": 107,
   "metadata": {
    "colab": {},
    "colab_type": "code",
    "id": "2YqrN8_Mm0ZO"
   },
   "outputs": [],
   "source": [
    "from hyperopt import hp\n",
    "from hyperopt.pyll.stochastic import sample"
   ]
  },
  {
   "cell_type": "code",
   "execution_count": 126,
   "metadata": {
    "colab": {},
    "colab_type": "code",
    "id": "t2LoDyFMm20P"
   },
   "outputs": [],
   "source": [
    "\n",
    "space = hp.choice('model', [\n",
    "    {\n",
    "        'lr': hp.loguniform('lr2', -8, 2),\n",
    "        'filters': hp.choice('filters',[2,3,4,5]),\n",
    "        'kernel_size': hp.choice('kernel_size',[2,3,4,5]),\n",
    "        'pooling': hp.choice('pooling',[2,3,4,5,6])\n",
    "    }\n",
    "])"
   ]
  },
  {
   "cell_type": "code",
   "execution_count": 127,
   "metadata": {
    "colab": {
     "base_uri": "https://localhost:8080/",
     "height": 35
    },
    "colab_type": "code",
    "id": "156hIqNRm-Gm",
    "outputId": "66e5e985-901d-4d38-f0b1-b0cdfe467d59"
   },
   "outputs": [
    {
     "data": {
      "text/plain": [
       "{'filters': 2, 'kernel_size': 2, 'lr': 0.5819839069027372, 'pooling': 6}"
      ]
     },
     "execution_count": 127,
     "metadata": {
      "tags": []
     },
     "output_type": "execute_result"
    }
   ],
   "source": [
    "sample(space)"
   ]
  },
  {
   "cell_type": "code",
   "execution_count": 131,
   "metadata": {
    "colab": {},
    "colab_type": "code",
    "id": "XremI3E9m-9t"
   },
   "outputs": [],
   "source": [
    "from hyperopt import STATUS_OK\n",
    "import uuid\n",
    "\n",
    "\n",
    "def objective(h):\n",
    "    model = tf.keras.Sequential()\n",
    "    model.add(tf.keras.layers.Embedding(NUM_WORDS, 8, input_length = 3718)),\n",
    "    model.add(tf.keras.layers.Conv1D(filters = h['filters'], kernel_size = h['kernel_size'],activation='relu'))\n",
    "    model.add(tf.keras.layers.MaxPool1D(pool_size = h['pooling']))\n",
    "    model.add(tf.keras.layers.Conv1D(filters = h['filters'], kernel_size = h['kernel_size'],activation='relu'))\n",
    "    model.add(tf.keras.layers.MaxPool1D(pool_size = h['pooling']))\n",
    "    model.add(tf.keras.layers.Flatten()),\n",
    "    model.add(tf.keras.layers.Dense(1, activation='sigmoid'))\n",
    "    \n",
    "    model.compile(\n",
    "        optimizer=tf.keras.optimizers.Adam(h['lr']),\n",
    "        loss='binary_crossentropy',\n",
    "        metrics=['accuracy'])\n",
    "    \n",
    "    model.fit(\n",
    "        X_train,\n",
    "        y_train, \n",
    "        epochs=20, \n",
    "        validation_data = (X_test, y_test), \n",
    "        verbose=2, \n",
    "        callbacks=[tf.keras.callbacks.EarlyStopping(monitor='val_accuracy')])\n",
    "\n",
    "    loss, acc = model.evaluate(X_test, y_test, verbose=0)\n",
    "    \n",
    "    filename = str(uuid.uuid4()) \n",
    "    model.save(filename)\n",
    "    \n",
    "    return {\n",
    "        'loss': -acc,\n",
    "        'status': STATUS_OK,\n",
    "        'filename': filename\n",
    "     }"
   ]
  },
  {
   "cell_type": "code",
   "execution_count": 132,
   "metadata": {
    "colab": {
     "base_uri": "https://localhost:8080/",
     "height": 287
    },
    "colab_type": "code",
    "id": "Cmp9itk1py2Y",
    "outputId": "40bfb63c-9c97-4ede-df82-0c78fd57fa1b"
   },
   "outputs": [
    {
     "name": "stdout",
     "output_type": "stream",
     "text": [
      "Epoch 1/20\n",
      "250/250 - 2s - loss: 0.6773 - accuracy: 0.5990 - val_loss: 0.6356 - val_accuracy: 0.6775\n",
      "Epoch 2/20\n",
      "250/250 - 2s - loss: 0.6159 - accuracy: 0.6672 - val_loss: 0.6031 - val_accuracy: 0.6850\n",
      "Epoch 3/20\n",
      "250/250 - 2s - loss: 0.5902 - accuracy: 0.6849 - val_loss: 0.5864 - val_accuracy: 0.6915\n",
      "Epoch 4/20\n",
      "250/250 - 2s - loss: 0.5654 - accuracy: 0.7053 - val_loss: 0.5708 - val_accuracy: 0.7010\n",
      "Epoch 5/20\n",
      "250/250 - 2s - loss: 0.5419 - accuracy: 0.7291 - val_loss: 0.5602 - val_accuracy: 0.7070\n",
      "Epoch 6/20\n",
      "250/250 - 2s - loss: 0.5193 - accuracy: 0.7435 - val_loss: 0.5605 - val_accuracy: 0.7030\n"
     ]
    },
    {
     "data": {
      "text/plain": [
       "{'filename': 'fc64ee1b-39cb-41b9-817d-b38f1e905049',\n",
       " 'loss': -0.703000009059906,\n",
       " 'status': 'ok'}"
      ]
     },
     "execution_count": 132,
     "metadata": {
      "tags": []
     },
     "output_type": "execute_result"
    }
   ],
   "source": [
    "import warnings\n",
    "warnings.simplefilter('ignore')\n",
    "\n",
    "tf.get_logger().setLevel('ERROR')\n",
    "h = sample(space)\n",
    "objective(h)"
   ]
  },
  {
   "cell_type": "code",
   "execution_count": 137,
   "metadata": {
    "colab": {
     "base_uri": "https://localhost:8080/",
     "height": 1000
    },
    "colab_type": "code",
    "id": "hR71EP47p0yV",
    "outputId": "f45b2441-d3c2-4a30-f0f1-323229cb75b0"
   },
   "outputs": [
    {
     "name": "stdout",
     "output_type": "stream",
     "text": [
      "Epoch 1/20\n",
      "250/250 - 2s - loss: 0.6319 - accuracy: 0.6518 - val_loss: 0.5761 - val_accuracy: 0.7070\n",
      "\n",
      "Epoch 2/20\n",
      "250/250 - 2s - loss: 0.5500 - accuracy: 0.7269 - val_loss: 0.5721 - val_accuracy: 0.6880\n",
      "\n",
      "Epoch 1/20\n",
      "250/250 - 2s - loss: 0.6301 - accuracy: 0.6436 - val_loss: 0.5869 - val_accuracy: 0.6735\n",
      "\n",
      "Epoch 2/20\n",
      "250/250 - 2s - loss: 0.5605 - accuracy: 0.7138 - val_loss: 0.5642 - val_accuracy: 0.6975\n",
      "\n",
      "Epoch 3/20\n",
      "250/250 - 2s - loss: 0.5249 - accuracy: 0.7409 - val_loss: 2.4356 - val_accuracy: 0.5060\n",
      "\n",
      "Epoch 1/20\n",
      "250/250 - 2s - loss: 8554.2676 - accuracy: 0.5020 - val_loss: 0.9914 - val_accuracy: 0.4940\n",
      "\n",
      "Epoch 2/20\n",
      "250/250 - 2s - loss: 0.7467 - accuracy: 0.5005 - val_loss: 0.7295 - val_accuracy: 0.4940\n",
      "\n",
      "Epoch 1/20\n",
      "250/250 - 2s - loss: 0.7786 - accuracy: 0.4984 - val_loss: 0.6931 - val_accuracy: 0.5060\n",
      "\n",
      "Epoch 2/20\n",
      "250/250 - 2s - loss: 0.6989 - accuracy: 0.5027 - val_loss: 0.6932 - val_accuracy: 0.5060\n",
      "\n",
      "Epoch 1/20\n",
      "250/250 - 2s - loss: 0.6933 - accuracy: 0.5023 - val_loss: 0.6931 - val_accuracy: 0.5060\n",
      "\n",
      "Epoch 2/20\n",
      "250/250 - 2s - loss: 0.6933 - accuracy: 0.4940 - val_loss: 0.6932 - val_accuracy: 0.4940\n",
      "\n",
      "Epoch 1/20\n",
      "250/250 - 2s - loss: 0.6674 - accuracy: 0.6043 - val_loss: 0.6269 - val_accuracy: 0.6790\n",
      "\n",
      "Epoch 2/20\n",
      "250/250 - 2s - loss: 0.6178 - accuracy: 0.6676 - val_loss: 0.6107 - val_accuracy: 0.6800\n",
      "\n",
      "Epoch 3/20\n",
      "250/250 - 2s - loss: 0.5978 - accuracy: 0.6814 - val_loss: 0.5953 - val_accuracy: 0.6855\n",
      "\n",
      "Epoch 4/20\n",
      "250/250 - 2s - loss: 0.5702 - accuracy: 0.7034 - val_loss: 0.5793 - val_accuracy: 0.7035\n",
      "\n",
      "Epoch 5/20\n",
      "250/250 - 2s - loss: 0.5384 - accuracy: 0.7285 - val_loss: 0.5577 - val_accuracy: 0.7120\n",
      "\n",
      "Epoch 6/20\n",
      "250/250 - 2s - loss: 0.5097 - accuracy: 0.7545 - val_loss: 0.5540 - val_accuracy: 0.7205\n",
      "\n",
      "Epoch 7/20\n",
      "250/250 - 2s - loss: 0.4837 - accuracy: 0.7728 - val_loss: 0.5709 - val_accuracy: 0.7020\n",
      "\n",
      "Epoch 1/20\n",
      "250/250 - 2s - loss: 0.6476 - accuracy: 0.6416 - val_loss: 0.6279 - val_accuracy: 0.6770\n",
      "\n",
      "Epoch 2/20\n",
      "250/250 - 2s - loss: 0.6118 - accuracy: 0.6695 - val_loss: 0.6240 - val_accuracy: 0.6745\n",
      "\n",
      "Epoch 1/20\n",
      "250/250 - 2s - loss: 0.7348 - accuracy: 0.5071 - val_loss: 0.7987 - val_accuracy: 0.4940\n",
      "\n",
      "Epoch 2/20\n",
      "250/250 - 2s - loss: 0.7087 - accuracy: 0.5008 - val_loss: 0.7628 - val_accuracy: 0.4940\n",
      "\n",
      "Epoch 1/20\n",
      "250/250 - 2s - loss: 8950.5332 - accuracy: 0.5049 - val_loss: 0.7096 - val_accuracy: 0.4940\n",
      "\n",
      "Epoch 2/20\n",
      "250/250 - 2s - loss: 0.7541 - accuracy: 0.4935 - val_loss: 0.7616 - val_accuracy: 0.4940\n",
      "\n",
      "Epoch 1/20\n",
      "250/250 - 2s - loss: 0.6648 - accuracy: 0.6062 - val_loss: 0.6328 - val_accuracy: 0.6545\n",
      "\n",
      "Epoch 2/20\n",
      "250/250 - 2s - loss: 0.5960 - accuracy: 0.6814 - val_loss: 0.5785 - val_accuracy: 0.7000\n",
      "\n",
      "Epoch 3/20\n",
      "250/250 - 2s - loss: 0.5485 - accuracy: 0.7188 - val_loss: 0.5615 - val_accuracy: 0.7050\n",
      "\n",
      "Epoch 4/20\n",
      "250/250 - 2s - loss: 0.5159 - accuracy: 0.7454 - val_loss: 0.5752 - val_accuracy: 0.7000\n",
      "\n",
      "100%|██████████| 10/10 [01:10<00:00,  7.01s/it, best loss: -0.7020000219345093]\n"
     ]
    }
   ],
   "source": [
    "from hyperopt import fmin, rand, tpe, Trials\n",
    "trials = Trials()\n",
    "best = fmin(\n",
    "    objective,\n",
    "    space=space,\n",
    "    algo=tpe.suggest,\n",
    "    max_evals=10,\n",
    "    trials=trials)"
   ]
  },
  {
   "cell_type": "code",
   "execution_count": 138,
   "metadata": {
    "colab": {
     "base_uri": "https://localhost:8080/",
     "height": 449
    },
    "colab_type": "code",
    "id": "FhjSsx0esJ4X",
    "outputId": "c1c6e1b8-3a62-4625-92e7-dcb1d82f9e16"
   },
   "outputs": [
    {
     "data": {
      "text/plain": [
       "{'book_time': datetime.datetime(2020, 6, 25, 13, 47, 11, 952000),\n",
       " 'exp_key': None,\n",
       " 'misc': {'cmd': ('domain_attachment', 'FMinIter_Domain'),\n",
       "  'idxs': {'filters': [5],\n",
       "   'kernel_size': [5],\n",
       "   'lr2': [5],\n",
       "   'model': [5],\n",
       "   'pooling': [5]},\n",
       "  'tid': 5,\n",
       "  'vals': {'filters': [2],\n",
       "   'kernel_size': [1],\n",
       "   'lr2': [0.001012386716306271],\n",
       "   'model': [0],\n",
       "   'pooling': [3]},\n",
       "  'workdir': None},\n",
       " 'owner': None,\n",
       " 'refresh_time': datetime.datetime(2020, 6, 25, 13, 47, 27, 393000),\n",
       " 'result': {'filename': 'f837acd0-0d61-4b76-8d1b-3479f26052d4',\n",
       "  'loss': -0.7020000219345093,\n",
       "  'status': 'ok'},\n",
       " 'spec': None,\n",
       " 'state': 2,\n",
       " 'tid': 5,\n",
       " 'version': 0}"
      ]
     },
     "execution_count": 138,
     "metadata": {
      "tags": []
     },
     "output_type": "execute_result"
    }
   ],
   "source": [
    "trials.best_trial"
   ]
  },
  {
   "cell_type": "code",
   "execution_count": 139,
   "metadata": {
    "colab": {},
    "colab_type": "code",
    "id": "pGB4we1GudzZ"
   },
   "outputs": [],
   "source": [
    "best_model = tf.keras.models.load_model(trials.best_trial['result']['filename'])"
   ]
  },
  {
   "cell_type": "code",
   "execution_count": 140,
   "metadata": {
    "colab": {},
    "colab_type": "code",
    "id": "Al8W7trOu0N3"
   },
   "outputs": [],
   "source": [
    "# hyper opt를 통해 최적화된 모델을 통해 test 진행"
   ]
  },
  {
   "cell_type": "code",
   "execution_count": 171,
   "metadata": {
    "colab": {},
    "colab_type": "code",
    "id": "0JdoKlNkxjhv"
   },
   "outputs": [],
   "source": [
    "test_data = pd.read_csv('/gdrive/My Drive/data.csv', index_col = 0).iloc[5000:-20000,:]"
   ]
  },
  {
   "cell_type": "code",
   "execution_count": 193,
   "metadata": {
    "colab": {},
    "colab_type": "code",
    "id": "36iJNcKe1Xfd"
   },
   "outputs": [],
   "source": [
    "test_data['sentiment'] = test_data['청원수'].map(lambda x: 1 if x> 1000 else 0)"
   ]
  },
  {
   "cell_type": "code",
   "execution_count": 172,
   "metadata": {
    "colab": {},
    "colab_type": "code",
    "id": "2aCSBz8Lxykb"
   },
   "outputs": [],
   "source": [
    "from gensim.summarization.summarizer import summarize\n",
    "def summarizee(x):\n",
    "    summ_plot = ''\n",
    "    try:\n",
    "        if summarize(x,word_count=100) != '':\n",
    "            summ_plot = summarize(x,word_count=100)\n",
    "        else:\n",
    "            summ_plot = x\n",
    "            \n",
    "    except:\n",
    "        summ_plot = x\n",
    "        \n",
    "    return summ_plot\n",
    "test_data['summarize_'] = test_data['내용'].map(lambda x: summarizee(x) )"
   ]
  },
  {
   "cell_type": "code",
   "execution_count": 181,
   "metadata": {
    "colab": {},
    "colab_type": "code",
    "id": "N6Yz9gDgxyqe"
   },
   "outputs": [],
   "source": [
    "test_data['summarize_'] = test_data['summarize_'].astype('str')"
   ]
  },
  {
   "cell_type": "code",
   "execution_count": 186,
   "metadata": {
    "colab": {},
    "colab_type": "code",
    "id": "EX8wdcOP2uSj"
   },
   "outputs": [],
   "source": [
    "seqs = tk.texts_to_sequences(test_data['summarize_'])\n",
    "pads_test = tf.keras.preprocessing.sequence.pad_sequences(seqs, maxlen=3718, padding='pre', truncating='pre')"
   ]
  },
  {
   "cell_type": "code",
   "execution_count": 195,
   "metadata": {
    "colab": {
     "base_uri": "https://localhost:8080/",
     "height": 35
    },
    "colab_type": "code",
    "id": "5qLU5cA5zeaP",
    "outputId": "8c7f1e94-96ab-408d-cd28-5e5a1691e462"
   },
   "outputs": [
    {
     "data": {
      "text/plain": [
       "0.5221489161168709"
      ]
     },
     "execution_count": 195,
     "metadata": {
      "tags": []
     },
     "output_type": "execute_result"
    }
   ],
   "source": [
    "from sklearn.metrics import accuracy_score\n",
    "pred = best_model.predict_classes(pads_test)\n",
    "\n",
    "accuracy_score(pred, test_data['sentiment'])"
   ]
  },
  {
   "cell_type": "code",
   "execution_count": 199,
   "metadata": {
    "colab": {
     "base_uri": "https://localhost:8080/",
     "height": 53
    },
    "colab_type": "code",
    "id": "JOtUUuxX2yYU",
    "outputId": "4179bf9a-2bf0-4f52-96e2-f5cf694d9c3a"
   },
   "outputs": [
    {
     "data": {
      "text/plain": [
       "array([[2301, 2261],\n",
       "       [1288, 1577]])"
      ]
     },
     "execution_count": 199,
     "metadata": {
      "tags": []
     },
     "output_type": "execute_result"
    }
   ],
   "source": [
    "from sklearn.metrics import confusion_matrix\n",
    "from sklearn.metrics import roc_auc_score, roc_curve\n",
    "confusion_matrix(test_data['sentiment'], pred)"
   ]
  },
  {
   "cell_type": "code",
   "execution_count": 200,
   "metadata": {
    "colab": {
     "base_uri": "https://localhost:8080/",
     "height": 280
    },
    "colab_type": "code",
    "id": "s80_pqmo5MQm",
    "outputId": "4333ef04-7603-4279-bf2d-f3fb827aab57"
   },
   "outputs": [
    {
     "data": {
      "text/plain": [
       "[<matplotlib.lines.Line2D at 0x7fc3407f8518>]"
      ]
     },
     "execution_count": 200,
     "metadata": {
      "tags": []
     },
     "output_type": "execute_result"
    },
    {
     "data": {
      "image/png": "[encoded data removed]",
      "text/plain": [
       "<Figure size 432x288 with 1 Axes>"
      ]
     },
     "metadata": {
      "needs_background": "light",
      "tags": []
     },
     "output_type": "display_data"
    }
   ],
   "source": [
    "fpr, tpr, threshold = roc_curve(test_data['sentiment'],pred)\n",
    "plt.plot(fpr,tpr)"
   ]
  }
 ],
 "metadata": {
  "accelerator": "GPU",
  "colab": {
   "name": "1. 다양한 감성분석 모델링.ipynb",
   "provenance": []
  },
  "kernelspec": {
   "display_name": "Python 3",
   "language": "python",
   "name": "python3"
  },
  "language_info": {
   "codemirror_mode": {
    "name": "ipython",
    "version": 3
   },
   "file_extension": ".py",
   "mimetype": "text/x-python",
   "name": "python",
   "nbconvert_exporter": "python",
   "pygments_lexer": "ipython3",
   "version": "3.7.7"
  }
 },
 "nbformat": 4,
 "nbformat_minor": 1
}
